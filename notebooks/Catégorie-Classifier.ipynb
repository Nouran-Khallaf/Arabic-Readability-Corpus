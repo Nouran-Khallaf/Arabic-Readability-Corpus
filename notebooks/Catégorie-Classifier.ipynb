{
  "nbformat": 4,
  "nbformat_minor": 0,
  "metadata": {
    "colab": {
      "provenance": [],
      "machine_shape": "hm",
      "gpuType": "T4"
    },
    "kernelspec": {
      "name": "python3",
      "display_name": "Python 3"
    },
    "language_info": {
      "name": "python"
    },
    "accelerator": "GPU"
  },
  "cells": [
    {
      "cell_type": "markdown",
      "metadata": {
        "id": "Fg-hHCYEX98V"
      },
      "source": [
        "[![Open In Colab](https://colab.research.google.com/assets/colab-badge.svg)](https://colab.research.google.com/github/refugies-info/genai-for-public-good/blob/main/notebooks/Catégorie-Classifier.ipynb)"
      ]
    },
    {
      "cell_type": "markdown",
      "source": [
        "#**Simplification Typology Classifier using mBert**\n",
        "\n",
        "\n",
        "\n"
      ],
      "metadata": {
        "id": "l6kbJaSvdm8C"
      }
    },
    {
      "cell_type": "markdown",
      "source": [
        "This NoteBook is deticated to explore the use of pre-trained transformer-based models for multiclass text classification. The primary focus is on predicting the appropriate simplification strategies required to simplify respective SE sentences.\n",
        "\n",
        "\n"
      ],
      "metadata": {
        "id": "Gh4FhylUgHbr"
      }
    },
    {
      "cell_type": "markdown",
      "source": [
        "---\n",
        "> ### Load the data\n",
        "\n",
        "----\n"
      ],
      "metadata": {
        "id": "dcORk-xzd4EC"
      }
    },
    {
      "cell_type": "code",
      "source": [
        "!pip install gdown\n",
        "!gdown \"https://drive.google.com/uc?id=1z-SRYUL6bAHQ-vfP0AJgxMjpkCd-56iP\"\n"
      ],
      "metadata": {
        "colab": {
          "base_uri": "https://localhost:8080/"
        },
        "id": "_iPKt2pEimIR",
        "outputId": "beb63bf8-f9af-4ad9-9fea-c7e22e975136"
      },
      "execution_count": 1,
      "outputs": [
        {
          "output_type": "stream",
          "name": "stdout",
          "text": [
            "Requirement already satisfied: gdown in /usr/local/lib/python3.11/dist-packages (5.2.0)\n",
            "Requirement already satisfied: beautifulsoup4 in /usr/local/lib/python3.11/dist-packages (from gdown) (4.12.3)\n",
            "Requirement already satisfied: filelock in /usr/local/lib/python3.11/dist-packages (from gdown) (3.17.0)\n",
            "Requirement already satisfied: requests[socks] in /usr/local/lib/python3.11/dist-packages (from gdown) (2.32.3)\n",
            "Requirement already satisfied: tqdm in /usr/local/lib/python3.11/dist-packages (from gdown) (4.67.1)\n",
            "Requirement already satisfied: soupsieve>1.2 in /usr/local/lib/python3.11/dist-packages (from beautifulsoup4->gdown) (2.6)\n",
            "Requirement already satisfied: charset-normalizer<4,>=2 in /usr/local/lib/python3.11/dist-packages (from requests[socks]->gdown) (3.4.1)\n",
            "Requirement already satisfied: idna<4,>=2.5 in /usr/local/lib/python3.11/dist-packages (from requests[socks]->gdown) (3.10)\n",
            "Requirement already satisfied: urllib3<3,>=1.21.1 in /usr/local/lib/python3.11/dist-packages (from requests[socks]->gdown) (2.3.0)\n",
            "Requirement already satisfied: certifi>=2017.4.17 in /usr/local/lib/python3.11/dist-packages (from requests[socks]->gdown) (2024.12.14)\n",
            "Requirement already satisfied: PySocks!=1.5.7,>=1.5.6 in /usr/local/lib/python3.11/dist-packages (from requests[socks]->gdown) (1.7.1)\n",
            "Downloading...\n",
            "From: https://drive.google.com/uc?id=1z-SRYUL6bAHQ-vfP0AJgxMjpkCd-56iP\n",
            "To: /content/ri_annotated_texts_final.csv\n",
            "100% 76.8k/76.8k [00:00<00:00, 117MB/s]\n"
          ]
        }
      ]
    },
    {
      "cell_type": "code",
      "execution_count": 2,
      "metadata": {
        "id": "pnkGY9OMdWPq"
      },
      "outputs": [],
      "source": [
        "import pandas as pd\n",
        "file_path = 'ri_annotated_texts_final.csv'\n",
        "data = pd.read_csv(file_path)"
      ]
    },
    {
      "cell_type": "markdown",
      "source": [
        "\n",
        "\n",
        "---\n",
        "\n",
        "\n",
        "\n",
        "\n",
        "> ### Data Exploration and Analysis\n",
        "\n",
        "\n",
        "\n",
        "\n",
        "\n",
        "---\n",
        "\n"
      ],
      "metadata": {
        "id": "cZB0eau4kArg"
      }
    },
    {
      "cell_type": "code",
      "source": [
        "# Display basic information and first few rows\n",
        "data.info()"
      ],
      "metadata": {
        "colab": {
          "base_uri": "https://localhost:8080/"
        },
        "id": "rHVVEMmSopzr",
        "outputId": "915da5a0-e444-42c1-d558-9471aeaa0c93"
      },
      "execution_count": 3,
      "outputs": [
        {
          "output_type": "stream",
          "name": "stdout",
          "text": [
            "<class 'pandas.core.frame.DataFrame'>\n",
            "RangeIndex: 370 entries, 0 to 369\n",
            "Data columns (total 3 columns):\n",
            " #   Column             Non-Null Count  Dtype \n",
            "---  ------             --------------  ----- \n",
            " 0   Version initiale   370 non-null    object\n",
            " 1   Version retraitée  370 non-null    object\n",
            " 2   Catégorie          370 non-null    object\n",
            "dtypes: object(3)\n",
            "memory usage: 8.8+ KB\n"
          ]
        }
      ]
    },
    {
      "cell_type": "code",
      "source": [
        "# Display the first few rows of the dataset\n",
        "data.head()"
      ],
      "metadata": {
        "colab": {
          "base_uri": "https://localhost:8080/",
          "height": 206
        },
        "id": "DExzH-SRivJS",
        "outputId": "49476cb7-00f3-4268-ab8b-6ebd62ce7796"
      },
      "execution_count": 4,
      "outputs": [
        {
          "output_type": "execute_result",
          "data": {
            "text/plain": [
              "                                    Version initiale  \\\n",
              "0  Dispositif d'apprentissage du français : perme...   \n",
              "1  Dispositif d'apprentissage du français : perme...   \n",
              "2  Dispositif d'apprentissage du français : perme...   \n",
              "3  Dispositif d'apprentissage du français : perme...   \n",
              "4  Dispositif d'apprentissage du français : perme...   \n",
              "\n",
              "                                   Version retraitée     Catégorie  \n",
              "0  Des ateliers 2 fois par semaine pour progresse...   Explanation  \n",
              "1  Des ateliers 2 fois par semaine pour progresse...   Explanation  \n",
              "2  Des ateliers pour progresser en français, mieu...  Substitution  \n",
              "3  Des ateliers pour progresser en français, mieu...   Compression  \n",
              "4  Des ateliers pour progresser en français, mieu...     Syntactic  "
            ],
            "text/html": [
              "\n",
              "  <div id=\"df-7a2c1b7e-95f0-4ccd-8f6e-66690b3a5a0f\" class=\"colab-df-container\">\n",
              "    <div>\n",
              "<style scoped>\n",
              "    .dataframe tbody tr th:only-of-type {\n",
              "        vertical-align: middle;\n",
              "    }\n",
              "\n",
              "    .dataframe tbody tr th {\n",
              "        vertical-align: top;\n",
              "    }\n",
              "\n",
              "    .dataframe thead th {\n",
              "        text-align: right;\n",
              "    }\n",
              "</style>\n",
              "<table border=\"1\" class=\"dataframe\">\n",
              "  <thead>\n",
              "    <tr style=\"text-align: right;\">\n",
              "      <th></th>\n",
              "      <th>Version initiale</th>\n",
              "      <th>Version retraitée</th>\n",
              "      <th>Catégorie</th>\n",
              "    </tr>\n",
              "  </thead>\n",
              "  <tbody>\n",
              "    <tr>\n",
              "      <th>0</th>\n",
              "      <td>Dispositif d'apprentissage du français : perme...</td>\n",
              "      <td>Des ateliers 2 fois par semaine pour progresse...</td>\n",
              "      <td>Explanation</td>\n",
              "    </tr>\n",
              "    <tr>\n",
              "      <th>1</th>\n",
              "      <td>Dispositif d'apprentissage du français : perme...</td>\n",
              "      <td>Des ateliers 2 fois par semaine pour progresse...</td>\n",
              "      <td>Explanation</td>\n",
              "    </tr>\n",
              "    <tr>\n",
              "      <th>2</th>\n",
              "      <td>Dispositif d'apprentissage du français : perme...</td>\n",
              "      <td>Des ateliers pour progresser en français, mieu...</td>\n",
              "      <td>Substitution</td>\n",
              "    </tr>\n",
              "    <tr>\n",
              "      <th>3</th>\n",
              "      <td>Dispositif d'apprentissage du français : perme...</td>\n",
              "      <td>Des ateliers pour progresser en français, mieu...</td>\n",
              "      <td>Compression</td>\n",
              "    </tr>\n",
              "    <tr>\n",
              "      <th>4</th>\n",
              "      <td>Dispositif d'apprentissage du français : perme...</td>\n",
              "      <td>Des ateliers pour progresser en français, mieu...</td>\n",
              "      <td>Syntactic</td>\n",
              "    </tr>\n",
              "  </tbody>\n",
              "</table>\n",
              "</div>\n",
              "    <div class=\"colab-df-buttons\">\n",
              "\n",
              "  <div class=\"colab-df-container\">\n",
              "    <button class=\"colab-df-convert\" onclick=\"convertToInteractive('df-7a2c1b7e-95f0-4ccd-8f6e-66690b3a5a0f')\"\n",
              "            title=\"Convert this dataframe to an interactive table.\"\n",
              "            style=\"display:none;\">\n",
              "\n",
              "  <svg xmlns=\"http://www.w3.org/2000/svg\" height=\"24px\" viewBox=\"0 -960 960 960\">\n",
              "    <path d=\"M120-120v-720h720v720H120Zm60-500h600v-160H180v160Zm220 220h160v-160H400v160Zm0 220h160v-160H400v160ZM180-400h160v-160H180v160Zm440 0h160v-160H620v160ZM180-180h160v-160H180v160Zm440 0h160v-160H620v160Z\"/>\n",
              "  </svg>\n",
              "    </button>\n",
              "\n",
              "  <style>\n",
              "    .colab-df-container {\n",
              "      display:flex;\n",
              "      gap: 12px;\n",
              "    }\n",
              "\n",
              "    .colab-df-convert {\n",
              "      background-color: #E8F0FE;\n",
              "      border: none;\n",
              "      border-radius: 50%;\n",
              "      cursor: pointer;\n",
              "      display: none;\n",
              "      fill: #1967D2;\n",
              "      height: 32px;\n",
              "      padding: 0 0 0 0;\n",
              "      width: 32px;\n",
              "    }\n",
              "\n",
              "    .colab-df-convert:hover {\n",
              "      background-color: #E2EBFA;\n",
              "      box-shadow: 0px 1px 2px rgba(60, 64, 67, 0.3), 0px 1px 3px 1px rgba(60, 64, 67, 0.15);\n",
              "      fill: #174EA6;\n",
              "    }\n",
              "\n",
              "    .colab-df-buttons div {\n",
              "      margin-bottom: 4px;\n",
              "    }\n",
              "\n",
              "    [theme=dark] .colab-df-convert {\n",
              "      background-color: #3B4455;\n",
              "      fill: #D2E3FC;\n",
              "    }\n",
              "\n",
              "    [theme=dark] .colab-df-convert:hover {\n",
              "      background-color: #434B5C;\n",
              "      box-shadow: 0px 1px 3px 1px rgba(0, 0, 0, 0.15);\n",
              "      filter: drop-shadow(0px 1px 2px rgba(0, 0, 0, 0.3));\n",
              "      fill: #FFFFFF;\n",
              "    }\n",
              "  </style>\n",
              "\n",
              "    <script>\n",
              "      const buttonEl =\n",
              "        document.querySelector('#df-7a2c1b7e-95f0-4ccd-8f6e-66690b3a5a0f button.colab-df-convert');\n",
              "      buttonEl.style.display =\n",
              "        google.colab.kernel.accessAllowed ? 'block' : 'none';\n",
              "\n",
              "      async function convertToInteractive(key) {\n",
              "        const element = document.querySelector('#df-7a2c1b7e-95f0-4ccd-8f6e-66690b3a5a0f');\n",
              "        const dataTable =\n",
              "          await google.colab.kernel.invokeFunction('convertToInteractive',\n",
              "                                                    [key], {});\n",
              "        if (!dataTable) return;\n",
              "\n",
              "        const docLinkHtml = 'Like what you see? Visit the ' +\n",
              "          '<a target=\"_blank\" href=https://colab.research.google.com/notebooks/data_table.ipynb>data table notebook</a>'\n",
              "          + ' to learn more about interactive tables.';\n",
              "        element.innerHTML = '';\n",
              "        dataTable['output_type'] = 'display_data';\n",
              "        await google.colab.output.renderOutput(dataTable, element);\n",
              "        const docLink = document.createElement('div');\n",
              "        docLink.innerHTML = docLinkHtml;\n",
              "        element.appendChild(docLink);\n",
              "      }\n",
              "    </script>\n",
              "  </div>\n",
              "\n",
              "\n",
              "<div id=\"df-d33ea4d7-bc4f-4976-892f-05ee56b14626\">\n",
              "  <button class=\"colab-df-quickchart\" onclick=\"quickchart('df-d33ea4d7-bc4f-4976-892f-05ee56b14626')\"\n",
              "            title=\"Suggest charts\"\n",
              "            style=\"display:none;\">\n",
              "\n",
              "<svg xmlns=\"http://www.w3.org/2000/svg\" height=\"24px\"viewBox=\"0 0 24 24\"\n",
              "     width=\"24px\">\n",
              "    <g>\n",
              "        <path d=\"M19 3H5c-1.1 0-2 .9-2 2v14c0 1.1.9 2 2 2h14c1.1 0 2-.9 2-2V5c0-1.1-.9-2-2-2zM9 17H7v-7h2v7zm4 0h-2V7h2v10zm4 0h-2v-4h2v4z\"/>\n",
              "    </g>\n",
              "</svg>\n",
              "  </button>\n",
              "\n",
              "<style>\n",
              "  .colab-df-quickchart {\n",
              "      --bg-color: #E8F0FE;\n",
              "      --fill-color: #1967D2;\n",
              "      --hover-bg-color: #E2EBFA;\n",
              "      --hover-fill-color: #174EA6;\n",
              "      --disabled-fill-color: #AAA;\n",
              "      --disabled-bg-color: #DDD;\n",
              "  }\n",
              "\n",
              "  [theme=dark] .colab-df-quickchart {\n",
              "      --bg-color: #3B4455;\n",
              "      --fill-color: #D2E3FC;\n",
              "      --hover-bg-color: #434B5C;\n",
              "      --hover-fill-color: #FFFFFF;\n",
              "      --disabled-bg-color: #3B4455;\n",
              "      --disabled-fill-color: #666;\n",
              "  }\n",
              "\n",
              "  .colab-df-quickchart {\n",
              "    background-color: var(--bg-color);\n",
              "    border: none;\n",
              "    border-radius: 50%;\n",
              "    cursor: pointer;\n",
              "    display: none;\n",
              "    fill: var(--fill-color);\n",
              "    height: 32px;\n",
              "    padding: 0;\n",
              "    width: 32px;\n",
              "  }\n",
              "\n",
              "  .colab-df-quickchart:hover {\n",
              "    background-color: var(--hover-bg-color);\n",
              "    box-shadow: 0 1px 2px rgba(60, 64, 67, 0.3), 0 1px 3px 1px rgba(60, 64, 67, 0.15);\n",
              "    fill: var(--button-hover-fill-color);\n",
              "  }\n",
              "\n",
              "  .colab-df-quickchart-complete:disabled,\n",
              "  .colab-df-quickchart-complete:disabled:hover {\n",
              "    background-color: var(--disabled-bg-color);\n",
              "    fill: var(--disabled-fill-color);\n",
              "    box-shadow: none;\n",
              "  }\n",
              "\n",
              "  .colab-df-spinner {\n",
              "    border: 2px solid var(--fill-color);\n",
              "    border-color: transparent;\n",
              "    border-bottom-color: var(--fill-color);\n",
              "    animation:\n",
              "      spin 1s steps(1) infinite;\n",
              "  }\n",
              "\n",
              "  @keyframes spin {\n",
              "    0% {\n",
              "      border-color: transparent;\n",
              "      border-bottom-color: var(--fill-color);\n",
              "      border-left-color: var(--fill-color);\n",
              "    }\n",
              "    20% {\n",
              "      border-color: transparent;\n",
              "      border-left-color: var(--fill-color);\n",
              "      border-top-color: var(--fill-color);\n",
              "    }\n",
              "    30% {\n",
              "      border-color: transparent;\n",
              "      border-left-color: var(--fill-color);\n",
              "      border-top-color: var(--fill-color);\n",
              "      border-right-color: var(--fill-color);\n",
              "    }\n",
              "    40% {\n",
              "      border-color: transparent;\n",
              "      border-right-color: var(--fill-color);\n",
              "      border-top-color: var(--fill-color);\n",
              "    }\n",
              "    60% {\n",
              "      border-color: transparent;\n",
              "      border-right-color: var(--fill-color);\n",
              "    }\n",
              "    80% {\n",
              "      border-color: transparent;\n",
              "      border-right-color: var(--fill-color);\n",
              "      border-bottom-color: var(--fill-color);\n",
              "    }\n",
              "    90% {\n",
              "      border-color: transparent;\n",
              "      border-bottom-color: var(--fill-color);\n",
              "    }\n",
              "  }\n",
              "</style>\n",
              "\n",
              "  <script>\n",
              "    async function quickchart(key) {\n",
              "      const quickchartButtonEl =\n",
              "        document.querySelector('#' + key + ' button');\n",
              "      quickchartButtonEl.disabled = true;  // To prevent multiple clicks.\n",
              "      quickchartButtonEl.classList.add('colab-df-spinner');\n",
              "      try {\n",
              "        const charts = await google.colab.kernel.invokeFunction(\n",
              "            'suggestCharts', [key], {});\n",
              "      } catch (error) {\n",
              "        console.error('Error during call to suggestCharts:', error);\n",
              "      }\n",
              "      quickchartButtonEl.classList.remove('colab-df-spinner');\n",
              "      quickchartButtonEl.classList.add('colab-df-quickchart-complete');\n",
              "    }\n",
              "    (() => {\n",
              "      let quickchartButtonEl =\n",
              "        document.querySelector('#df-d33ea4d7-bc4f-4976-892f-05ee56b14626 button');\n",
              "      quickchartButtonEl.style.display =\n",
              "        google.colab.kernel.accessAllowed ? 'block' : 'none';\n",
              "    })();\n",
              "  </script>\n",
              "</div>\n",
              "\n",
              "    </div>\n",
              "  </div>\n"
            ],
            "application/vnd.google.colaboratory.intrinsic+json": {
              "type": "dataframe",
              "variable_name": "data",
              "summary": "{\n  \"name\": \"data\",\n  \"rows\": 370,\n  \"fields\": [\n    {\n      \"column\": \"Version initiale\",\n      \"properties\": {\n        \"dtype\": \"string\",\n        \"num_unique_values\": 258,\n        \"samples\": [\n          \"L'inscription \\u00e0 la Mission Locale de Paris est n\\u00e9cessaire pour\\nb\\u00e9n\\u00e9ficier de l'action. L'accueil du public a lieu sur les 6 sites parisiens :\",\n          \"Nous vous rencontrons dans un des quartiers de la ville selon votre convenance : Adrien Pereira, Le Blosne, Centre\",\n          \"Permanence d'inscription\"\n        ],\n        \"semantic_type\": \"\",\n        \"description\": \"\"\n      }\n    },\n    {\n      \"column\": \"Version retrait\\u00e9e\",\n      \"properties\": {\n        \"dtype\": \"string\",\n        \"num_unique_values\": 262,\n        \"samples\": [\n          \"- par mail : renardstephane@example.net\",\n          \"Apprendre le fran\\u00e7ais niveau d\\u00e9butant\",\n          \"Demander \\u00e0 un professionnel ou un b\\u00e9n\\u00e9vole\\nde nous contacter\"\n        ],\n        \"semantic_type\": \"\",\n        \"description\": \"\"\n      }\n    },\n    {\n      \"column\": \"Cat\\u00e9gorie\",\n      \"properties\": {\n        \"dtype\": \"category\",\n        \"num_unique_values\": 9,\n        \"samples\": [\n          \"Omission\",\n          \"Substitution\",\n          \"Transposition\"\n        ],\n        \"semantic_type\": \"\",\n        \"description\": \"\"\n      }\n    }\n  ]\n}"
            }
          },
          "metadata": {},
          "execution_count": 4
        }
      ]
    },
    {
      "cell_type": "markdown",
      "source": [
        "\n",
        "\n",
        "```\n",
        "load important libiraries for visualisation\n",
        "```\n",
        "\n"
      ],
      "metadata": {
        "id": "uTiSXUabrYC3"
      }
    },
    {
      "cell_type": "code",
      "source": [
        "!pip install seaborn wordcloud ace_tools"
      ],
      "metadata": {
        "colab": {
          "base_uri": "https://localhost:8080/"
        },
        "id": "3zzrLpEQrUKT",
        "outputId": "4bd52508-0bbf-42fd-bd5b-fc74a2d09658"
      },
      "execution_count": 5,
      "outputs": [
        {
          "output_type": "stream",
          "name": "stdout",
          "text": [
            "Requirement already satisfied: seaborn in /usr/local/lib/python3.11/dist-packages (0.13.2)\n",
            "Requirement already satisfied: wordcloud in /usr/local/lib/python3.11/dist-packages (1.9.4)\n",
            "Collecting ace_tools\n",
            "  Downloading ace_tools-0.0-py3-none-any.whl.metadata (300 bytes)\n",
            "Requirement already satisfied: numpy!=1.24.0,>=1.20 in /usr/local/lib/python3.11/dist-packages (from seaborn) (1.26.4)\n",
            "Requirement already satisfied: pandas>=1.2 in /usr/local/lib/python3.11/dist-packages (from seaborn) (2.2.2)\n",
            "Requirement already satisfied: matplotlib!=3.6.1,>=3.4 in /usr/local/lib/python3.11/dist-packages (from seaborn) (3.10.0)\n",
            "Requirement already satisfied: pillow in /usr/local/lib/python3.11/dist-packages (from wordcloud) (11.1.0)\n",
            "Requirement already satisfied: contourpy>=1.0.1 in /usr/local/lib/python3.11/dist-packages (from matplotlib!=3.6.1,>=3.4->seaborn) (1.3.1)\n",
            "Requirement already satisfied: cycler>=0.10 in /usr/local/lib/python3.11/dist-packages (from matplotlib!=3.6.1,>=3.4->seaborn) (0.12.1)\n",
            "Requirement already satisfied: fonttools>=4.22.0 in /usr/local/lib/python3.11/dist-packages (from matplotlib!=3.6.1,>=3.4->seaborn) (4.55.7)\n",
            "Requirement already satisfied: kiwisolver>=1.3.1 in /usr/local/lib/python3.11/dist-packages (from matplotlib!=3.6.1,>=3.4->seaborn) (1.4.8)\n",
            "Requirement already satisfied: packaging>=20.0 in /usr/local/lib/python3.11/dist-packages (from matplotlib!=3.6.1,>=3.4->seaborn) (24.2)\n",
            "Requirement already satisfied: pyparsing>=2.3.1 in /usr/local/lib/python3.11/dist-packages (from matplotlib!=3.6.1,>=3.4->seaborn) (3.2.1)\n",
            "Requirement already satisfied: python-dateutil>=2.7 in /usr/local/lib/python3.11/dist-packages (from matplotlib!=3.6.1,>=3.4->seaborn) (2.8.2)\n",
            "Requirement already satisfied: pytz>=2020.1 in /usr/local/lib/python3.11/dist-packages (from pandas>=1.2->seaborn) (2024.2)\n",
            "Requirement already satisfied: tzdata>=2022.7 in /usr/local/lib/python3.11/dist-packages (from pandas>=1.2->seaborn) (2025.1)\n",
            "Requirement already satisfied: six>=1.5 in /usr/local/lib/python3.11/dist-packages (from python-dateutil>=2.7->matplotlib!=3.6.1,>=3.4->seaborn) (1.17.0)\n",
            "Downloading ace_tools-0.0-py3-none-any.whl (1.1 kB)\n",
            "Installing collected packages: ace_tools\n",
            "Successfully installed ace_tools-0.0\n"
          ]
        }
      ]
    },
    {
      "cell_type": "code",
      "source": [
        "import pandas as pd\n",
        "import plotly.express as px\n",
        "import plotly.graph_objects as go\n",
        "import nltk\n",
        "from nltk.corpus import stopwords\n",
        "from collections import Counter\n",
        "from wordcloud import WordCloud"
      ],
      "metadata": {
        "id": "At8Gusygo4Lf"
      },
      "execution_count": 6,
      "outputs": []
    },
    {
      "cell_type": "markdown",
      "source": [
        "\n",
        "\n",
        "> Distribution of Simplification Strategies\n",
        "\n"
      ],
      "metadata": {
        "id": "9g3ZvM5So8s-"
      }
    },
    {
      "cell_type": "code",
      "source": [
        "# Plotly bar chart for distribution of categories\n",
        "fig = px.bar(data['Catégorie'].value_counts().reset_index(),\n",
        "             x='Catégorie',\n",
        "             y='count',\n",
        "             labels={'Catégorie': 'Simplification Strategy', 'count': 'Count'},  # Updated labels\n",
        "             title='Distribution of Simplification Strategies')\n",
        "fig.show()"
      ],
      "metadata": {
        "colab": {
          "base_uri": "https://localhost:8080/",
          "height": 542
        },
        "id": "LfA-ayi3o8fx",
        "outputId": "d049e23b-1478-4754-a96b-358cfd88e7fc"
      },
      "execution_count": 7,
      "outputs": [
        {
          "output_type": "display_data",
          "data": {
            "text/html": [
              "<html>\n",
              "<head><meta charset=\"utf-8\" /></head>\n",
              "<body>\n",
              "    <div>            <script src=\"https://cdnjs.cloudflare.com/ajax/libs/mathjax/2.7.5/MathJax.js?config=TeX-AMS-MML_SVG\"></script><script type=\"text/javascript\">if (window.MathJax && window.MathJax.Hub && window.MathJax.Hub.Config) {window.MathJax.Hub.Config({SVG: {font: \"STIX-Web\"}});}</script>                <script type=\"text/javascript\">window.PlotlyConfig = {MathJaxConfig: 'local'};</script>\n",
              "        <script charset=\"utf-8\" src=\"https://cdn.plot.ly/plotly-2.35.2.min.js\"></script>                <div id=\"ca008d3e-1e9d-462f-9137-2630bb92867c\" class=\"plotly-graph-div\" style=\"height:525px; width:100%;\"></div>            <script type=\"text/javascript\">                                    window.PLOTLYENV=window.PLOTLYENV || {};                                    if (document.getElementById(\"ca008d3e-1e9d-462f-9137-2630bb92867c\")) {                    Plotly.newPlot(                        \"ca008d3e-1e9d-462f-9137-2630bb92867c\",                        [{\"alignmentgroup\":\"True\",\"hovertemplate\":\"Simplification Strategy=%{x}\\u003cbr\\u003eCount=%{y}\\u003cextra\\u003e\\u003c\\u002fextra\\u003e\",\"legendgroup\":\"\",\"marker\":{\"color\":\"#636efa\",\"pattern\":{\"shape\":\"\"}},\"name\":\"\",\"offsetgroup\":\"\",\"orientation\":\"v\",\"showlegend\":false,\"textposition\":\"auto\",\"x\":[\"Explanation\",\"Substitution\",\"Transcription\",\"Syntactic\",\"Modulation\",\"Transposition\",\"Compression\",\"Omission\",\"Synonymy\"],\"xaxis\":\"x\",\"y\":[92,73,54,50,43,24,17,14,3],\"yaxis\":\"y\",\"type\":\"bar\"}],                        {\"template\":{\"data\":{\"histogram2dcontour\":[{\"type\":\"histogram2dcontour\",\"colorbar\":{\"outlinewidth\":0,\"ticks\":\"\"},\"colorscale\":[[0.0,\"#0d0887\"],[0.1111111111111111,\"#46039f\"],[0.2222222222222222,\"#7201a8\"],[0.3333333333333333,\"#9c179e\"],[0.4444444444444444,\"#bd3786\"],[0.5555555555555556,\"#d8576b\"],[0.6666666666666666,\"#ed7953\"],[0.7777777777777778,\"#fb9f3a\"],[0.8888888888888888,\"#fdca26\"],[1.0,\"#f0f921\"]]}],\"choropleth\":[{\"type\":\"choropleth\",\"colorbar\":{\"outlinewidth\":0,\"ticks\":\"\"}}],\"histogram2d\":[{\"type\":\"histogram2d\",\"colorbar\":{\"outlinewidth\":0,\"ticks\":\"\"},\"colorscale\":[[0.0,\"#0d0887\"],[0.1111111111111111,\"#46039f\"],[0.2222222222222222,\"#7201a8\"],[0.3333333333333333,\"#9c179e\"],[0.4444444444444444,\"#bd3786\"],[0.5555555555555556,\"#d8576b\"],[0.6666666666666666,\"#ed7953\"],[0.7777777777777778,\"#fb9f3a\"],[0.8888888888888888,\"#fdca26\"],[1.0,\"#f0f921\"]]}],\"heatmap\":[{\"type\":\"heatmap\",\"colorbar\":{\"outlinewidth\":0,\"ticks\":\"\"},\"colorscale\":[[0.0,\"#0d0887\"],[0.1111111111111111,\"#46039f\"],[0.2222222222222222,\"#7201a8\"],[0.3333333333333333,\"#9c179e\"],[0.4444444444444444,\"#bd3786\"],[0.5555555555555556,\"#d8576b\"],[0.6666666666666666,\"#ed7953\"],[0.7777777777777778,\"#fb9f3a\"],[0.8888888888888888,\"#fdca26\"],[1.0,\"#f0f921\"]]}],\"heatmapgl\":[{\"type\":\"heatmapgl\",\"colorbar\":{\"outlinewidth\":0,\"ticks\":\"\"},\"colorscale\":[[0.0,\"#0d0887\"],[0.1111111111111111,\"#46039f\"],[0.2222222222222222,\"#7201a8\"],[0.3333333333333333,\"#9c179e\"],[0.4444444444444444,\"#bd3786\"],[0.5555555555555556,\"#d8576b\"],[0.6666666666666666,\"#ed7953\"],[0.7777777777777778,\"#fb9f3a\"],[0.8888888888888888,\"#fdca26\"],[1.0,\"#f0f921\"]]}],\"contourcarpet\":[{\"type\":\"contourcarpet\",\"colorbar\":{\"outlinewidth\":0,\"ticks\":\"\"}}],\"contour\":[{\"type\":\"contour\",\"colorbar\":{\"outlinewidth\":0,\"ticks\":\"\"},\"colorscale\":[[0.0,\"#0d0887\"],[0.1111111111111111,\"#46039f\"],[0.2222222222222222,\"#7201a8\"],[0.3333333333333333,\"#9c179e\"],[0.4444444444444444,\"#bd3786\"],[0.5555555555555556,\"#d8576b\"],[0.6666666666666666,\"#ed7953\"],[0.7777777777777778,\"#fb9f3a\"],[0.8888888888888888,\"#fdca26\"],[1.0,\"#f0f921\"]]}],\"surface\":[{\"type\":\"surface\",\"colorbar\":{\"outlinewidth\":0,\"ticks\":\"\"},\"colorscale\":[[0.0,\"#0d0887\"],[0.1111111111111111,\"#46039f\"],[0.2222222222222222,\"#7201a8\"],[0.3333333333333333,\"#9c179e\"],[0.4444444444444444,\"#bd3786\"],[0.5555555555555556,\"#d8576b\"],[0.6666666666666666,\"#ed7953\"],[0.7777777777777778,\"#fb9f3a\"],[0.8888888888888888,\"#fdca26\"],[1.0,\"#f0f921\"]]}],\"mesh3d\":[{\"type\":\"mesh3d\",\"colorbar\":{\"outlinewidth\":0,\"ticks\":\"\"}}],\"scatter\":[{\"fillpattern\":{\"fillmode\":\"overlay\",\"size\":10,\"solidity\":0.2},\"type\":\"scatter\"}],\"parcoords\":[{\"type\":\"parcoords\",\"line\":{\"colorbar\":{\"outlinewidth\":0,\"ticks\":\"\"}}}],\"scatterpolargl\":[{\"type\":\"scatterpolargl\",\"marker\":{\"colorbar\":{\"outlinewidth\":0,\"ticks\":\"\"}}}],\"bar\":[{\"error_x\":{\"color\":\"#2a3f5f\"},\"error_y\":{\"color\":\"#2a3f5f\"},\"marker\":{\"line\":{\"color\":\"#E5ECF6\",\"width\":0.5},\"pattern\":{\"fillmode\":\"overlay\",\"size\":10,\"solidity\":0.2}},\"type\":\"bar\"}],\"scattergeo\":[{\"type\":\"scattergeo\",\"marker\":{\"colorbar\":{\"outlinewidth\":0,\"ticks\":\"\"}}}],\"scatterpolar\":[{\"type\":\"scatterpolar\",\"marker\":{\"colorbar\":{\"outlinewidth\":0,\"ticks\":\"\"}}}],\"histogram\":[{\"marker\":{\"pattern\":{\"fillmode\":\"overlay\",\"size\":10,\"solidity\":0.2}},\"type\":\"histogram\"}],\"scattergl\":[{\"type\":\"scattergl\",\"marker\":{\"colorbar\":{\"outlinewidth\":0,\"ticks\":\"\"}}}],\"scatter3d\":[{\"type\":\"scatter3d\",\"line\":{\"colorbar\":{\"outlinewidth\":0,\"ticks\":\"\"}},\"marker\":{\"colorbar\":{\"outlinewidth\":0,\"ticks\":\"\"}}}],\"scattermapbox\":[{\"type\":\"scattermapbox\",\"marker\":{\"colorbar\":{\"outlinewidth\":0,\"ticks\":\"\"}}}],\"scatterternary\":[{\"type\":\"scatterternary\",\"marker\":{\"colorbar\":{\"outlinewidth\":0,\"ticks\":\"\"}}}],\"scattercarpet\":[{\"type\":\"scattercarpet\",\"marker\":{\"colorbar\":{\"outlinewidth\":0,\"ticks\":\"\"}}}],\"carpet\":[{\"aaxis\":{\"endlinecolor\":\"#2a3f5f\",\"gridcolor\":\"white\",\"linecolor\":\"white\",\"minorgridcolor\":\"white\",\"startlinecolor\":\"#2a3f5f\"},\"baxis\":{\"endlinecolor\":\"#2a3f5f\",\"gridcolor\":\"white\",\"linecolor\":\"white\",\"minorgridcolor\":\"white\",\"startlinecolor\":\"#2a3f5f\"},\"type\":\"carpet\"}],\"table\":[{\"cells\":{\"fill\":{\"color\":\"#EBF0F8\"},\"line\":{\"color\":\"white\"}},\"header\":{\"fill\":{\"color\":\"#C8D4E3\"},\"line\":{\"color\":\"white\"}},\"type\":\"table\"}],\"barpolar\":[{\"marker\":{\"line\":{\"color\":\"#E5ECF6\",\"width\":0.5},\"pattern\":{\"fillmode\":\"overlay\",\"size\":10,\"solidity\":0.2}},\"type\":\"barpolar\"}],\"pie\":[{\"automargin\":true,\"type\":\"pie\"}]},\"layout\":{\"autotypenumbers\":\"strict\",\"colorway\":[\"#636efa\",\"#EF553B\",\"#00cc96\",\"#ab63fa\",\"#FFA15A\",\"#19d3f3\",\"#FF6692\",\"#B6E880\",\"#FF97FF\",\"#FECB52\"],\"font\":{\"color\":\"#2a3f5f\"},\"hovermode\":\"closest\",\"hoverlabel\":{\"align\":\"left\"},\"paper_bgcolor\":\"white\",\"plot_bgcolor\":\"#E5ECF6\",\"polar\":{\"bgcolor\":\"#E5ECF6\",\"angularaxis\":{\"gridcolor\":\"white\",\"linecolor\":\"white\",\"ticks\":\"\"},\"radialaxis\":{\"gridcolor\":\"white\",\"linecolor\":\"white\",\"ticks\":\"\"}},\"ternary\":{\"bgcolor\":\"#E5ECF6\",\"aaxis\":{\"gridcolor\":\"white\",\"linecolor\":\"white\",\"ticks\":\"\"},\"baxis\":{\"gridcolor\":\"white\",\"linecolor\":\"white\",\"ticks\":\"\"},\"caxis\":{\"gridcolor\":\"white\",\"linecolor\":\"white\",\"ticks\":\"\"}},\"coloraxis\":{\"colorbar\":{\"outlinewidth\":0,\"ticks\":\"\"}},\"colorscale\":{\"sequential\":[[0.0,\"#0d0887\"],[0.1111111111111111,\"#46039f\"],[0.2222222222222222,\"#7201a8\"],[0.3333333333333333,\"#9c179e\"],[0.4444444444444444,\"#bd3786\"],[0.5555555555555556,\"#d8576b\"],[0.6666666666666666,\"#ed7953\"],[0.7777777777777778,\"#fb9f3a\"],[0.8888888888888888,\"#fdca26\"],[1.0,\"#f0f921\"]],\"sequentialminus\":[[0.0,\"#0d0887\"],[0.1111111111111111,\"#46039f\"],[0.2222222222222222,\"#7201a8\"],[0.3333333333333333,\"#9c179e\"],[0.4444444444444444,\"#bd3786\"],[0.5555555555555556,\"#d8576b\"],[0.6666666666666666,\"#ed7953\"],[0.7777777777777778,\"#fb9f3a\"],[0.8888888888888888,\"#fdca26\"],[1.0,\"#f0f921\"]],\"diverging\":[[0,\"#8e0152\"],[0.1,\"#c51b7d\"],[0.2,\"#de77ae\"],[0.3,\"#f1b6da\"],[0.4,\"#fde0ef\"],[0.5,\"#f7f7f7\"],[0.6,\"#e6f5d0\"],[0.7,\"#b8e186\"],[0.8,\"#7fbc41\"],[0.9,\"#4d9221\"],[1,\"#276419\"]]},\"xaxis\":{\"gridcolor\":\"white\",\"linecolor\":\"white\",\"ticks\":\"\",\"title\":{\"standoff\":15},\"zerolinecolor\":\"white\",\"automargin\":true,\"zerolinewidth\":2},\"yaxis\":{\"gridcolor\":\"white\",\"linecolor\":\"white\",\"ticks\":\"\",\"title\":{\"standoff\":15},\"zerolinecolor\":\"white\",\"automargin\":true,\"zerolinewidth\":2},\"scene\":{\"xaxis\":{\"backgroundcolor\":\"#E5ECF6\",\"gridcolor\":\"white\",\"linecolor\":\"white\",\"showbackground\":true,\"ticks\":\"\",\"zerolinecolor\":\"white\",\"gridwidth\":2},\"yaxis\":{\"backgroundcolor\":\"#E5ECF6\",\"gridcolor\":\"white\",\"linecolor\":\"white\",\"showbackground\":true,\"ticks\":\"\",\"zerolinecolor\":\"white\",\"gridwidth\":2},\"zaxis\":{\"backgroundcolor\":\"#E5ECF6\",\"gridcolor\":\"white\",\"linecolor\":\"white\",\"showbackground\":true,\"ticks\":\"\",\"zerolinecolor\":\"white\",\"gridwidth\":2}},\"shapedefaults\":{\"line\":{\"color\":\"#2a3f5f\"}},\"annotationdefaults\":{\"arrowcolor\":\"#2a3f5f\",\"arrowhead\":0,\"arrowwidth\":1},\"geo\":{\"bgcolor\":\"white\",\"landcolor\":\"#E5ECF6\",\"subunitcolor\":\"white\",\"showland\":true,\"showlakes\":true,\"lakecolor\":\"white\"},\"title\":{\"x\":0.05},\"mapbox\":{\"style\":\"light\"}}},\"xaxis\":{\"anchor\":\"y\",\"domain\":[0.0,1.0],\"title\":{\"text\":\"Simplification Strategy\"}},\"yaxis\":{\"anchor\":\"x\",\"domain\":[0.0,1.0],\"title\":{\"text\":\"Count\"}},\"legend\":{\"tracegroupgap\":0},\"title\":{\"text\":\"Distribution of Simplification Strategies\"},\"barmode\":\"relative\"},                        {\"responsive\": true}                    ).then(function(){\n",
              "                            \n",
              "var gd = document.getElementById('ca008d3e-1e9d-462f-9137-2630bb92867c');\n",
              "var x = new MutationObserver(function (mutations, observer) {{\n",
              "        var display = window.getComputedStyle(gd).display;\n",
              "        if (!display || display === 'none') {{\n",
              "            console.log([gd, 'removed!']);\n",
              "            Plotly.purge(gd);\n",
              "            observer.disconnect();\n",
              "        }}\n",
              "}});\n",
              "\n",
              "// Listen for the removal of the full notebook cells\n",
              "var notebookContainer = gd.closest('#notebook-container');\n",
              "if (notebookContainer) {{\n",
              "    x.observe(notebookContainer, {childList: true});\n",
              "}}\n",
              "\n",
              "// Listen for the clearing of the current output cell\n",
              "var outputEl = gd.closest('.output');\n",
              "if (outputEl) {{\n",
              "    x.observe(outputEl, {childList: true});\n",
              "}}\n",
              "\n",
              "                        })                };                            </script>        </div>\n",
              "</body>\n",
              "</html>"
            ]
          },
          "metadata": {}
        }
      ]
    },
    {
      "cell_type": "markdown",
      "source": [
        "\n",
        "\n",
        "> Text Length Analysis\n",
        "\n"
      ],
      "metadata": {
        "id": "1uq3HnqspYZF"
      }
    },
    {
      "cell_type": "code",
      "source": [
        "data['Initial_Length'] = data['Version initiale'].apply(len)\n",
        "data['Retraited_Length'] = data['Version retraitée'].apply(len)\n",
        "\n",
        "# Plotly histogram for text length comparison\n",
        "fig = go.Figure()\n",
        "fig.add_trace(go.Histogram(x=data['Initial_Length'], name='Original Text Length', opacity=0.6))\n",
        "fig.add_trace(go.Histogram(x=data['Retraited_Length'], name='Simplified Text Length', opacity=0.6))\n",
        "fig.update_layout(title='Distribution of Text Lengths Before and After Simplification',\n",
        "                  xaxis_title='Text Length', yaxis_title='Frequency',\n",
        "                  barmode='overlay')\n",
        "fig.show()"
      ],
      "metadata": {
        "colab": {
          "base_uri": "https://localhost:8080/",
          "height": 542
        },
        "id": "8-kLbB-UpKwM",
        "outputId": "2452ba82-04ea-4787-cace-0a95475483af"
      },
      "execution_count": 8,
      "outputs": [
        {
          "output_type": "display_data",
          "data": {
            "text/html": [
              "<html>\n",
              "<head><meta charset=\"utf-8\" /></head>\n",
              "<body>\n",
              "    <div>            <script src=\"https://cdnjs.cloudflare.com/ajax/libs/mathjax/2.7.5/MathJax.js?config=TeX-AMS-MML_SVG\"></script><script type=\"text/javascript\">if (window.MathJax && window.MathJax.Hub && window.MathJax.Hub.Config) {window.MathJax.Hub.Config({SVG: {font: \"STIX-Web\"}});}</script>                <script type=\"text/javascript\">window.PlotlyConfig = {MathJaxConfig: 'local'};</script>\n",
              "        <script charset=\"utf-8\" src=\"https://cdn.plot.ly/plotly-2.35.2.min.js\"></script>                <div id=\"d2718bb3-d415-4c8c-8282-e58f05a42770\" class=\"plotly-graph-div\" style=\"height:525px; width:100%;\"></div>            <script type=\"text/javascript\">                                    window.PLOTLYENV=window.PLOTLYENV || {};                                    if (document.getElementById(\"d2718bb3-d415-4c8c-8282-e58f05a42770\")) {                    Plotly.newPlot(                        \"d2718bb3-d415-4c8c-8282-e58f05a42770\",                        [{\"name\":\"Original Text Length\",\"opacity\":0.6,\"x\":[167,167,167,167,167,22,124,124,19,145,145,145,145,33,200,200,200,52,52,191,191,191,24,164,28,28,28,29,39,27,50,34,33,105,105,34,15,46,30,30,41,21,52,29,27,48,20,20,32,44,155,155,15,62,62,14,100,100,29,40,40,101,101,112,112,29,124,124,17,114,31,139,21,30,30,34,39,48,148,148,148,110,111,111,111,56,110,110,32,150,150,150,179,179,120,50,50,165,165,165,159,43,141,141,141,246,246,246,80,80,80,46,228,228,36,36,109,109,321,321,83,83,228,228,228,228,165,165,165,27,27,20,42,150,150,78,78,78,66,249,249,85,85,85,36,36,241,241,14,14,14,31,81,13,140,32,58,46,172,254,254,65,13,34,28,58,49,49,36,43,90,39,110,110,142,142,142,35,18,73,59,186,86,40,292,98,26,193,57,194,194,21,169,169,14,14,355,50,207,207,96,25,129,54,51,61,55,43,39,43,35,77,56,58,27,27,45,64,31,70,97,25,108,42,195,195,21,26,56,41,42,14,158,158,105,99,61,137,64,44,44,40,39,11,11,59,59,59,59,16,35,35,18,260,260,260,57,57,27,106,105,105,105,62,40,87,34,39,48,37,72,72,45,38,102,142,142,73,73,74,74,72,72,147,111,111,111,63,96,47,48,65,52,135,135,135,55,45,77,40,33,64,70,57,21,7,67,24,36,36,93,93,69,67,130,130,71,52,19,50,17,116,116,116,34,34,123,123,123,157,36,88,88,15,92,18,186,48,120,120,54,100,176,176,54,65,32,52,49,22,25,35,58,58,58,29,53,55,48,15,47,47,151,115,115,69,124,124,124,59],\"type\":\"histogram\"},{\"name\":\"Simplified Text Length\",\"opacity\":0.6,\"x\":[216,124,105,105,105,22,130,130,19,164,164,164,164,33,177,177,47,38,38,168,168,168,40,153,63,63,63,107,62,67,79,35,138,235,235,194,22,132,35,72,50,21,55,54,92,56,41,41,94,72,84,84,26,90,90,26,153,153,61,86,86,175,175,57,57,60,287,287,51,128,50,114,21,94,94,36,40,50,109,109,109,103,81,81,81,59,189,189,43,112,112,112,110,110,121,36,36,200,200,200,167,39,194,194,194,385,385,385,266,266,266,94,114,114,40,40,55,55,129,129,36,36,114,114,114,114,108,108,108,41,41,76,39,234,234,36,249,249,49,180,180,191,191,191,40,40,116,116,89,89,89,68,84,32,74,150,176,59,85,168,168,25,38,60,48,67,40,40,232,29,92,35,130,130,196,196,196,86,33,129,53,291,192,40,271,98,26,203,57,173,173,21,150,150,42,42,202,41,84,84,75,58,137,53,75,61,55,43,34,69,50,76,59,58,43,27,48,52,31,70,97,25,108,42,218,218,21,26,56,41,42,32,196,196,108,100,60,137,64,34,34,40,97,33,33,93,93,93,93,29,64,64,19,174,174,174,73,73,46,177,114,114,114,82,40,73,34,39,40,66,104,104,24,39,110,122,122,42,42,102,102,75,75,143,60,224,224,63,96,47,48,65,52,152,152,152,122,45,77,40,33,64,72,57,21,7,67,24,37,37,85,85,63,32,90,90,74,47,230,49,18,96,96,96,43,43,121,121,121,137,27,99,99,28,107,44,100,46,72,72,56,72,178,177,30,62,54,63,20,49,35,39,155,128,128,14,45,35,45,26,52,52,117,102,102,43,119,119,119,43],\"type\":\"histogram\"}],                        {\"template\":{\"data\":{\"histogram2dcontour\":[{\"type\":\"histogram2dcontour\",\"colorbar\":{\"outlinewidth\":0,\"ticks\":\"\"},\"colorscale\":[[0.0,\"#0d0887\"],[0.1111111111111111,\"#46039f\"],[0.2222222222222222,\"#7201a8\"],[0.3333333333333333,\"#9c179e\"],[0.4444444444444444,\"#bd3786\"],[0.5555555555555556,\"#d8576b\"],[0.6666666666666666,\"#ed7953\"],[0.7777777777777778,\"#fb9f3a\"],[0.8888888888888888,\"#fdca26\"],[1.0,\"#f0f921\"]]}],\"choropleth\":[{\"type\":\"choropleth\",\"colorbar\":{\"outlinewidth\":0,\"ticks\":\"\"}}],\"histogram2d\":[{\"type\":\"histogram2d\",\"colorbar\":{\"outlinewidth\":0,\"ticks\":\"\"},\"colorscale\":[[0.0,\"#0d0887\"],[0.1111111111111111,\"#46039f\"],[0.2222222222222222,\"#7201a8\"],[0.3333333333333333,\"#9c179e\"],[0.4444444444444444,\"#bd3786\"],[0.5555555555555556,\"#d8576b\"],[0.6666666666666666,\"#ed7953\"],[0.7777777777777778,\"#fb9f3a\"],[0.8888888888888888,\"#fdca26\"],[1.0,\"#f0f921\"]]}],\"heatmap\":[{\"type\":\"heatmap\",\"colorbar\":{\"outlinewidth\":0,\"ticks\":\"\"},\"colorscale\":[[0.0,\"#0d0887\"],[0.1111111111111111,\"#46039f\"],[0.2222222222222222,\"#7201a8\"],[0.3333333333333333,\"#9c179e\"],[0.4444444444444444,\"#bd3786\"],[0.5555555555555556,\"#d8576b\"],[0.6666666666666666,\"#ed7953\"],[0.7777777777777778,\"#fb9f3a\"],[0.8888888888888888,\"#fdca26\"],[1.0,\"#f0f921\"]]}],\"heatmapgl\":[{\"type\":\"heatmapgl\",\"colorbar\":{\"outlinewidth\":0,\"ticks\":\"\"},\"colorscale\":[[0.0,\"#0d0887\"],[0.1111111111111111,\"#46039f\"],[0.2222222222222222,\"#7201a8\"],[0.3333333333333333,\"#9c179e\"],[0.4444444444444444,\"#bd3786\"],[0.5555555555555556,\"#d8576b\"],[0.6666666666666666,\"#ed7953\"],[0.7777777777777778,\"#fb9f3a\"],[0.8888888888888888,\"#fdca26\"],[1.0,\"#f0f921\"]]}],\"contourcarpet\":[{\"type\":\"contourcarpet\",\"colorbar\":{\"outlinewidth\":0,\"ticks\":\"\"}}],\"contour\":[{\"type\":\"contour\",\"colorbar\":{\"outlinewidth\":0,\"ticks\":\"\"},\"colorscale\":[[0.0,\"#0d0887\"],[0.1111111111111111,\"#46039f\"],[0.2222222222222222,\"#7201a8\"],[0.3333333333333333,\"#9c179e\"],[0.4444444444444444,\"#bd3786\"],[0.5555555555555556,\"#d8576b\"],[0.6666666666666666,\"#ed7953\"],[0.7777777777777778,\"#fb9f3a\"],[0.8888888888888888,\"#fdca26\"],[1.0,\"#f0f921\"]]}],\"surface\":[{\"type\":\"surface\",\"colorbar\":{\"outlinewidth\":0,\"ticks\":\"\"},\"colorscale\":[[0.0,\"#0d0887\"],[0.1111111111111111,\"#46039f\"],[0.2222222222222222,\"#7201a8\"],[0.3333333333333333,\"#9c179e\"],[0.4444444444444444,\"#bd3786\"],[0.5555555555555556,\"#d8576b\"],[0.6666666666666666,\"#ed7953\"],[0.7777777777777778,\"#fb9f3a\"],[0.8888888888888888,\"#fdca26\"],[1.0,\"#f0f921\"]]}],\"mesh3d\":[{\"type\":\"mesh3d\",\"colorbar\":{\"outlinewidth\":0,\"ticks\":\"\"}}],\"scatter\":[{\"fillpattern\":{\"fillmode\":\"overlay\",\"size\":10,\"solidity\":0.2},\"type\":\"scatter\"}],\"parcoords\":[{\"type\":\"parcoords\",\"line\":{\"colorbar\":{\"outlinewidth\":0,\"ticks\":\"\"}}}],\"scatterpolargl\":[{\"type\":\"scatterpolargl\",\"marker\":{\"colorbar\":{\"outlinewidth\":0,\"ticks\":\"\"}}}],\"bar\":[{\"error_x\":{\"color\":\"#2a3f5f\"},\"error_y\":{\"color\":\"#2a3f5f\"},\"marker\":{\"line\":{\"color\":\"#E5ECF6\",\"width\":0.5},\"pattern\":{\"fillmode\":\"overlay\",\"size\":10,\"solidity\":0.2}},\"type\":\"bar\"}],\"scattergeo\":[{\"type\":\"scattergeo\",\"marker\":{\"colorbar\":{\"outlinewidth\":0,\"ticks\":\"\"}}}],\"scatterpolar\":[{\"type\":\"scatterpolar\",\"marker\":{\"colorbar\":{\"outlinewidth\":0,\"ticks\":\"\"}}}],\"histogram\":[{\"marker\":{\"pattern\":{\"fillmode\":\"overlay\",\"size\":10,\"solidity\":0.2}},\"type\":\"histogram\"}],\"scattergl\":[{\"type\":\"scattergl\",\"marker\":{\"colorbar\":{\"outlinewidth\":0,\"ticks\":\"\"}}}],\"scatter3d\":[{\"type\":\"scatter3d\",\"line\":{\"colorbar\":{\"outlinewidth\":0,\"ticks\":\"\"}},\"marker\":{\"colorbar\":{\"outlinewidth\":0,\"ticks\":\"\"}}}],\"scattermapbox\":[{\"type\":\"scattermapbox\",\"marker\":{\"colorbar\":{\"outlinewidth\":0,\"ticks\":\"\"}}}],\"scatterternary\":[{\"type\":\"scatterternary\",\"marker\":{\"colorbar\":{\"outlinewidth\":0,\"ticks\":\"\"}}}],\"scattercarpet\":[{\"type\":\"scattercarpet\",\"marker\":{\"colorbar\":{\"outlinewidth\":0,\"ticks\":\"\"}}}],\"carpet\":[{\"aaxis\":{\"endlinecolor\":\"#2a3f5f\",\"gridcolor\":\"white\",\"linecolor\":\"white\",\"minorgridcolor\":\"white\",\"startlinecolor\":\"#2a3f5f\"},\"baxis\":{\"endlinecolor\":\"#2a3f5f\",\"gridcolor\":\"white\",\"linecolor\":\"white\",\"minorgridcolor\":\"white\",\"startlinecolor\":\"#2a3f5f\"},\"type\":\"carpet\"}],\"table\":[{\"cells\":{\"fill\":{\"color\":\"#EBF0F8\"},\"line\":{\"color\":\"white\"}},\"header\":{\"fill\":{\"color\":\"#C8D4E3\"},\"line\":{\"color\":\"white\"}},\"type\":\"table\"}],\"barpolar\":[{\"marker\":{\"line\":{\"color\":\"#E5ECF6\",\"width\":0.5},\"pattern\":{\"fillmode\":\"overlay\",\"size\":10,\"solidity\":0.2}},\"type\":\"barpolar\"}],\"pie\":[{\"automargin\":true,\"type\":\"pie\"}]},\"layout\":{\"autotypenumbers\":\"strict\",\"colorway\":[\"#636efa\",\"#EF553B\",\"#00cc96\",\"#ab63fa\",\"#FFA15A\",\"#19d3f3\",\"#FF6692\",\"#B6E880\",\"#FF97FF\",\"#FECB52\"],\"font\":{\"color\":\"#2a3f5f\"},\"hovermode\":\"closest\",\"hoverlabel\":{\"align\":\"left\"},\"paper_bgcolor\":\"white\",\"plot_bgcolor\":\"#E5ECF6\",\"polar\":{\"bgcolor\":\"#E5ECF6\",\"angularaxis\":{\"gridcolor\":\"white\",\"linecolor\":\"white\",\"ticks\":\"\"},\"radialaxis\":{\"gridcolor\":\"white\",\"linecolor\":\"white\",\"ticks\":\"\"}},\"ternary\":{\"bgcolor\":\"#E5ECF6\",\"aaxis\":{\"gridcolor\":\"white\",\"linecolor\":\"white\",\"ticks\":\"\"},\"baxis\":{\"gridcolor\":\"white\",\"linecolor\":\"white\",\"ticks\":\"\"},\"caxis\":{\"gridcolor\":\"white\",\"linecolor\":\"white\",\"ticks\":\"\"}},\"coloraxis\":{\"colorbar\":{\"outlinewidth\":0,\"ticks\":\"\"}},\"colorscale\":{\"sequential\":[[0.0,\"#0d0887\"],[0.1111111111111111,\"#46039f\"],[0.2222222222222222,\"#7201a8\"],[0.3333333333333333,\"#9c179e\"],[0.4444444444444444,\"#bd3786\"],[0.5555555555555556,\"#d8576b\"],[0.6666666666666666,\"#ed7953\"],[0.7777777777777778,\"#fb9f3a\"],[0.8888888888888888,\"#fdca26\"],[1.0,\"#f0f921\"]],\"sequentialminus\":[[0.0,\"#0d0887\"],[0.1111111111111111,\"#46039f\"],[0.2222222222222222,\"#7201a8\"],[0.3333333333333333,\"#9c179e\"],[0.4444444444444444,\"#bd3786\"],[0.5555555555555556,\"#d8576b\"],[0.6666666666666666,\"#ed7953\"],[0.7777777777777778,\"#fb9f3a\"],[0.8888888888888888,\"#fdca26\"],[1.0,\"#f0f921\"]],\"diverging\":[[0,\"#8e0152\"],[0.1,\"#c51b7d\"],[0.2,\"#de77ae\"],[0.3,\"#f1b6da\"],[0.4,\"#fde0ef\"],[0.5,\"#f7f7f7\"],[0.6,\"#e6f5d0\"],[0.7,\"#b8e186\"],[0.8,\"#7fbc41\"],[0.9,\"#4d9221\"],[1,\"#276419\"]]},\"xaxis\":{\"gridcolor\":\"white\",\"linecolor\":\"white\",\"ticks\":\"\",\"title\":{\"standoff\":15},\"zerolinecolor\":\"white\",\"automargin\":true,\"zerolinewidth\":2},\"yaxis\":{\"gridcolor\":\"white\",\"linecolor\":\"white\",\"ticks\":\"\",\"title\":{\"standoff\":15},\"zerolinecolor\":\"white\",\"automargin\":true,\"zerolinewidth\":2},\"scene\":{\"xaxis\":{\"backgroundcolor\":\"#E5ECF6\",\"gridcolor\":\"white\",\"linecolor\":\"white\",\"showbackground\":true,\"ticks\":\"\",\"zerolinecolor\":\"white\",\"gridwidth\":2},\"yaxis\":{\"backgroundcolor\":\"#E5ECF6\",\"gridcolor\":\"white\",\"linecolor\":\"white\",\"showbackground\":true,\"ticks\":\"\",\"zerolinecolor\":\"white\",\"gridwidth\":2},\"zaxis\":{\"backgroundcolor\":\"#E5ECF6\",\"gridcolor\":\"white\",\"linecolor\":\"white\",\"showbackground\":true,\"ticks\":\"\",\"zerolinecolor\":\"white\",\"gridwidth\":2}},\"shapedefaults\":{\"line\":{\"color\":\"#2a3f5f\"}},\"annotationdefaults\":{\"arrowcolor\":\"#2a3f5f\",\"arrowhead\":0,\"arrowwidth\":1},\"geo\":{\"bgcolor\":\"white\",\"landcolor\":\"#E5ECF6\",\"subunitcolor\":\"white\",\"showland\":true,\"showlakes\":true,\"lakecolor\":\"white\"},\"title\":{\"x\":0.05},\"mapbox\":{\"style\":\"light\"}}},\"title\":{\"text\":\"Distribution of Text Lengths Before and After Simplification\"},\"xaxis\":{\"title\":{\"text\":\"Text Length\"}},\"yaxis\":{\"title\":{\"text\":\"Frequency\"}},\"barmode\":\"overlay\"},                        {\"responsive\": true}                    ).then(function(){\n",
              "                            \n",
              "var gd = document.getElementById('d2718bb3-d415-4c8c-8282-e58f05a42770');\n",
              "var x = new MutationObserver(function (mutations, observer) {{\n",
              "        var display = window.getComputedStyle(gd).display;\n",
              "        if (!display || display === 'none') {{\n",
              "            console.log([gd, 'removed!']);\n",
              "            Plotly.purge(gd);\n",
              "            observer.disconnect();\n",
              "        }}\n",
              "}});\n",
              "\n",
              "// Listen for the removal of the full notebook cells\n",
              "var notebookContainer = gd.closest('#notebook-container');\n",
              "if (notebookContainer) {{\n",
              "    x.observe(notebookContainer, {childList: true});\n",
              "}}\n",
              "\n",
              "// Listen for the clearing of the current output cell\n",
              "var outputEl = gd.closest('.output');\n",
              "if (outputEl) {{\n",
              "    x.observe(outputEl, {childList: true});\n",
              "}}\n",
              "\n",
              "                        })                };                            </script>        </div>\n",
              "</body>\n",
              "</html>"
            ]
          },
          "metadata": {}
        }
      ]
    },
    {
      "cell_type": "markdown",
      "source": [
        "\n",
        "\n",
        "> Word Frequency Analysis\n",
        "\n"
      ],
      "metadata": {
        "id": "ZvxXvqIOp0-H"
      }
    },
    {
      "cell_type": "code",
      "source": [
        "from collections import Counter\n",
        "import nltk\n",
        "from nltk.corpus import stopwords\n",
        "nltk.download('stopwords')\n",
        "nltk.download('punkt')\n",
        "nltk.download('punkt_tab')\n",
        "\n",
        "stop_words = set(stopwords.words('french'))\n",
        "\n",
        "def get_most_common_words(text_series, n=20):\n",
        "    words = ' '.join(text_series).lower()\n",
        "    words = nltk.word_tokenize(words)\n",
        "    words = [word for word in words if word.isalnum() and word not in stop_words]\n",
        "    return Counter(words).most_common(n)\n",
        "\n",
        "# Display top words\n",
        "print(\"Top words in Original Text:\", get_most_common_words(data['Version initiale']))\n",
        "print(\"Top words in Simplified Text:\", get_most_common_words(data['Version retraitée']))"
      ],
      "metadata": {
        "colab": {
          "base_uri": "https://localhost:8080/"
        },
        "id": "wzC6khQmpgCN",
        "outputId": "bf618930-eb0a-47f5-b0b7-778449ba8a03"
      },
      "execution_count": 9,
      "outputs": [
        {
          "output_type": "stream",
          "name": "stderr",
          "text": [
            "[nltk_data] Downloading package stopwords to /root/nltk_data...\n",
            "[nltk_data]   Unzipping corpora/stopwords.zip.\n",
            "[nltk_data] Downloading package punkt to /root/nltk_data...\n",
            "[nltk_data]   Unzipping tokenizers/punkt.zip.\n",
            "[nltk_data] Downloading package punkt_tab to /root/nltk_data...\n",
            "[nltk_data]   Unzipping tokenizers/punkt_tab.zip.\n"
          ]
        },
        {
          "output_type": "stream",
          "name": "stdout",
          "text": [
            "Top words in Original Text: [('français', 67), ('travail', 36), ('formation', 29), ('comprendre', 25), ('france', 22), ('ateliers', 21), ('vie', 21), ('langue', 20), ('accompagnement', 20), ('cours', 19), ('faire', 19), ('professionnelle', 18), ('apprendre', 18), ('démarches', 18), ('savoir', 15), ('niveau', 15), ('besoins', 15), ('mail', 14), ('personnes', 14), ('vocabulaire', 13)]\n",
            "Top words in Simplified Text: [('français', 62), ('travail', 59), ('apprendre', 39), ('trouver', 35), ('formation', 30), ('comprendre', 28), ('être', 28), ('démarches', 27), ('mieux', 25), ('ateliers', 24), ('faire', 24), ('professionnel', 23), ('connaître', 23), ('pouvez', 23), ('niveau', 23), ('communiquer', 22), ('accompagnement', 21), ('mail', 20), ('savoir', 19), ('prendre', 19)]\n"
          ]
        }
      ]
    },
    {
      "cell_type": "code",
      "source": [
        "# Get top words and their frequencies\n",
        "original_top_words = get_most_common_words(data['Version initiale'])\n",
        "simplified_top_words = get_most_common_words(data['Version retraitée'])\n",
        "\n",
        "# Convert to DataFrame for better visualization\n",
        "df_words = pd.DataFrame({\n",
        "    \"Word (Original)\": [word for word, _ in original_top_words],\n",
        "    \"Frequency (Original)\": [freq for _, freq in original_top_words],\n",
        "    \"Word (Simplified)\": [word for word, _ in simplified_top_words],\n",
        "    \"Frequency (Simplified)\": [freq for _, freq in simplified_top_words],\n",
        "})"
      ],
      "metadata": {
        "id": "88ahQXykvR9G"
      },
      "execution_count": 10,
      "outputs": []
    },
    {
      "cell_type": "code",
      "source": [
        "import matplotlib.pyplot as plt\n",
        "fig, ax = plt.subplots(figsize=(10, 5))\n",
        "ax.barh([word for word, _ in original_top_words], [freq for _, freq in original_top_words], color='blue', alpha=0.6, label=\"Original Text\")\n",
        "ax.barh([word for word, _ in simplified_top_words], [freq for _, freq in simplified_top_words], color='red', alpha=0.6, label=\"Simplified Text\")\n",
        "\n",
        "ax.set_xlabel(\"Frequency\")\n",
        "ax.set_ylabel(\"Words\")\n",
        "ax.set_title(\"Top Words in Original vs Simplified Text\")\n",
        "ax.legend()\n",
        "\n",
        "plt.gca().invert_yaxis()\n",
        "plt.show()"
      ],
      "metadata": {
        "colab": {
          "base_uri": "https://localhost:8080/",
          "height": 487
        },
        "id": "lJg0S-Jdvj24",
        "outputId": "245377aa-1e6d-4def-98e4-7719c1a53583"
      },
      "execution_count": 11,
      "outputs": [
        {
          "output_type": "display_data",
          "data": {
            "text/plain": [
              "<Figure size 1000x500 with 1 Axes>"
            ],
            "image/png": "[encoded data removed]"
          },
          "metadata": {}
        }
      ]
    },
    {
      "cell_type": "markdown",
      "source": [
        "\n",
        "\n",
        "> Add blockquote\n",
        "\n"
      ],
      "metadata": {
        "id": "yZVc_XJheQql"
      }
    },
    {
      "cell_type": "code",
      "source": [
        "import pandas as pd\n",
        "\n",
        "# Ensure the relevant columns are present\n",
        "assert 'Version initiale' in data.columns and 'Version retraitée' in data.columns, \"Required columns missing.\"\n",
        "\n",
        "# Calculate sentence lengths (number of words per sentence) for complex and simple texts\n",
        "data['Standard_Length'] = data['Version initiale'].str.split().str.len()\n",
        "data['E2R_Length'] = data['Version retraitée'].str.split().str.len()\n",
        "\n",
        "# Calculate total number of words in each column\n",
        "total_words_complex = data['Standard_Length'].sum()\n",
        "total_words_simple = data['E2R_Length'].sum()\n",
        "\n",
        "# Compute ranges and interquartile ranges for \"Complex\" (Version initiale) texts\n",
        "complex_q1 = data['Standard_Length'].quantile(0.25)\n",
        "complex_q3 = data['Standard_Length'].quantile(0.75)\n",
        "complex_iqr = complex_q3 - complex_q1\n",
        "\n",
        "# Compute ranges and interquartile ranges for \"Simple\" (E2R version) texts\n",
        "simple_q1 = data['E2R_Length'].quantile(0.25)\n",
        "simple_q3 = data['E2R_Length'].quantile(0.75)\n",
        "simple_iqr = simple_q3 - simple_q1\n",
        "\n",
        "# Display the results\n",
        "print(\"Complex Texts (Version initiale):\")\n",
        "print(f\"Total Number of Words: {total_words_complex}\")\n",
        "print(f\"Range at 25th Percentile (Q1): {complex_q1} words\")\n",
        "print(f\"Range at 75th Percentile (Q3): {complex_q3} words\")\n",
        "print(f\"IQR: {complex_iqr} words\\n\")\n",
        "\n",
        "print(\"Simplified Texts (Version retraitée):\")\n",
        "print(f\"Total Number of Words: {total_words_simple}\")\n",
        "print(f\"Range at 25th Percentile (Q1): {simple_q1} words\")\n",
        "print(f\"Range at 75th Percentile (Q3): {simple_q3} words\")\n",
        "print(f\"IQR: {simple_iqr} words\")"
      ],
      "metadata": {
        "id": "EcDzNmHSe3z5",
        "colab": {
          "base_uri": "https://localhost:8080/"
        },
        "outputId": "178c47d7-9806-4e24-d02e-f43c0e6982b1"
      },
      "execution_count": 12,
      "outputs": [
        {
          "output_type": "stream",
          "name": "stdout",
          "text": [
            "Complex Texts (Version initiale):\n",
            "Total Number of Words: 5005\n",
            "Range at 25th Percentile (Q1): 6.0 words\n",
            "Range at 75th Percentile (Q3): 19.0 words\n",
            "IQR: 13.0 words\n",
            "\n",
            "Simplified Texts (Version retraitée):\n",
            "Total Number of Words: 5647\n",
            "Range at 25th Percentile (Q1): 7.0 words\n",
            "Range at 75th Percentile (Q3): 20.0 words\n",
            "IQR: 13.0 words\n"
          ]
        }
      ]
    },
    {
      "cell_type": "code",
      "source": [
        "import seaborn as sns\n",
        "\n",
        "# Enhanced visualization with boxplots\n",
        "plt.figure(figsize=(10, 6))\n",
        "sns.boxplot(data=data[['Standard_Length', 'E2R_Length']], palette=[\"blue\", \"red\"])\n",
        "plt.xticks(ticks=[0, 1], labels=[\"Complex Texts\", \"Simplified Texts\"])\n",
        "plt.ylabel(\"Sentence Length (Word Count)\")\n",
        "plt.title(\"Distribution of Sentence Lengths: Complex vs Simplified Texts\")\n",
        "plt.grid(True)\n",
        "plt.show()\n"
      ],
      "metadata": {
        "colab": {
          "base_uri": "https://localhost:8080/",
          "height": 545
        },
        "id": "FjG0ECT_y8pi",
        "outputId": "3310b3b4-867b-427e-f508-20daa3d5cb62"
      },
      "execution_count": 13,
      "outputs": [
        {
          "output_type": "display_data",
          "data": {
            "text/plain": [
              "<Figure size 1000x600 with 1 Axes>"
            ],
            "image/png": "[encoded data removed]"
          },
          "metadata": {}
        }
      ]
    },
    {
      "cell_type": "markdown",
      "source": [
        "\n",
        "\n",
        "---\n",
        "\n",
        "\n",
        "\n",
        "> ### Install Hugging Face Transformers and Datasets library\n",
        "\n",
        "---"
      ],
      "metadata": {
        "id": "wGmdXwc1hD47"
      }
    },
    {
      "cell_type": "code",
      "source": [
        "!pip install transformers datasets torch"
      ],
      "metadata": {
        "id": "cnQyuc0teWdr",
        "colab": {
          "base_uri": "https://localhost:8080/"
        },
        "outputId": "3cbf28a6-840a-49ea-dff6-972fd8721a46"
      },
      "execution_count": 14,
      "outputs": [
        {
          "output_type": "stream",
          "name": "stdout",
          "text": [
            "Requirement already satisfied: transformers in /usr/local/lib/python3.11/dist-packages (4.47.1)\n",
            "Collecting datasets\n",
            "  Downloading datasets-3.2.0-py3-none-any.whl.metadata (20 kB)\n",
            "Requirement already satisfied: torch in /usr/local/lib/python3.11/dist-packages (2.5.1+cu124)\n",
            "Requirement already satisfied: filelock in /usr/local/lib/python3.11/dist-packages (from transformers) (3.17.0)\n",
            "Requirement already satisfied: huggingface-hub<1.0,>=0.24.0 in /usr/local/lib/python3.11/dist-packages (from transformers) (0.27.1)\n",
            "Requirement already satisfied: numpy>=1.17 in /usr/local/lib/python3.11/dist-packages (from transformers) (1.26.4)\n",
            "Requirement already satisfied: packaging>=20.0 in /usr/local/lib/python3.11/dist-packages (from transformers) (24.2)\n",
            "Requirement already satisfied: pyyaml>=5.1 in /usr/local/lib/python3.11/dist-packages (from transformers) (6.0.2)\n",
            "Requirement already satisfied: regex!=2019.12.17 in /usr/local/lib/python3.11/dist-packages (from transformers) (2024.11.6)\n",
            "Requirement already satisfied: requests in /usr/local/lib/python3.11/dist-packages (from transformers) (2.32.3)\n",
            "Requirement already satisfied: tokenizers<0.22,>=0.21 in /usr/local/lib/python3.11/dist-packages (from transformers) (0.21.0)\n",
            "Requirement already satisfied: safetensors>=0.4.1 in /usr/local/lib/python3.11/dist-packages (from transformers) (0.5.2)\n",
            "Requirement already satisfied: tqdm>=4.27 in /usr/local/lib/python3.11/dist-packages (from transformers) (4.67.1)\n",
            "Requirement already satisfied: pyarrow>=15.0.0 in /usr/local/lib/python3.11/dist-packages (from datasets) (17.0.0)\n",
            "Collecting dill<0.3.9,>=0.3.0 (from datasets)\n",
            "  Downloading dill-0.3.8-py3-none-any.whl.metadata (10 kB)\n",
            "Requirement already satisfied: pandas in /usr/local/lib/python3.11/dist-packages (from datasets) (2.2.2)\n",
            "Collecting xxhash (from datasets)\n",
            "  Downloading xxhash-3.5.0-cp311-cp311-manylinux_2_17_x86_64.manylinux2014_x86_64.whl.metadata (12 kB)\n",
            "Collecting multiprocess<0.70.17 (from datasets)\n",
            "  Downloading multiprocess-0.70.16-py311-none-any.whl.metadata (7.2 kB)\n",
            "Collecting fsspec<=2024.9.0,>=2023.1.0 (from fsspec[http]<=2024.9.0,>=2023.1.0->datasets)\n",
            "  Downloading fsspec-2024.9.0-py3-none-any.whl.metadata (11 kB)\n",
            "Requirement already satisfied: aiohttp in /usr/local/lib/python3.11/dist-packages (from datasets) (3.11.11)\n",
            "Requirement already satisfied: typing-extensions>=4.8.0 in /usr/local/lib/python3.11/dist-packages (from torch) (4.12.2)\n",
            "Requirement already satisfied: networkx in /usr/local/lib/python3.11/dist-packages (from torch) (3.4.2)\n",
            "Requirement already satisfied: jinja2 in /usr/local/lib/python3.11/dist-packages (from torch) (3.1.5)\n",
            "Collecting nvidia-cuda-nvrtc-cu12==12.4.127 (from torch)\n",
            "  Downloading nvidia_cuda_nvrtc_cu12-12.4.127-py3-none-manylinux2014_x86_64.whl.metadata (1.5 kB)\n",
            "Collecting nvidia-cuda-runtime-cu12==12.4.127 (from torch)\n",
            "  Downloading nvidia_cuda_runtime_cu12-12.4.127-py3-none-manylinux2014_x86_64.whl.metadata (1.5 kB)\n",
            "Collecting nvidia-cuda-cupti-cu12==12.4.127 (from torch)\n",
            "  Downloading nvidia_cuda_cupti_cu12-12.4.127-py3-none-manylinux2014_x86_64.whl.metadata (1.6 kB)\n",
            "Collecting nvidia-cudnn-cu12==9.1.0.70 (from torch)\n",
            "  Downloading nvidia_cudnn_cu12-9.1.0.70-py3-none-manylinux2014_x86_64.whl.metadata (1.6 kB)\n",
            "Collecting nvidia-cublas-cu12==12.4.5.8 (from torch)\n",
            "  Downloading nvidia_cublas_cu12-12.4.5.8-py3-none-manylinux2014_x86_64.whl.metadata (1.5 kB)\n",
            "Collecting nvidia-cufft-cu12==11.2.1.3 (from torch)\n",
            "  Downloading nvidia_cufft_cu12-11.2.1.3-py3-none-manylinux2014_x86_64.whl.metadata (1.5 kB)\n",
            "Collecting nvidia-curand-cu12==10.3.5.147 (from torch)\n",
            "  Downloading nvidia_curand_cu12-10.3.5.147-py3-none-manylinux2014_x86_64.whl.metadata (1.5 kB)\n",
            "Collecting nvidia-cusolver-cu12==11.6.1.9 (from torch)\n",
            "  Downloading nvidia_cusolver_cu12-11.6.1.9-py3-none-manylinux2014_x86_64.whl.metadata (1.6 kB)\n",
            "Collecting nvidia-cusparse-cu12==12.3.1.170 (from torch)\n",
            "  Downloading nvidia_cusparse_cu12-12.3.1.170-py3-none-manylinux2014_x86_64.whl.metadata (1.6 kB)\n",
            "Requirement already satisfied: nvidia-nccl-cu12==2.21.5 in /usr/local/lib/python3.11/dist-packages (from torch) (2.21.5)\n",
            "Requirement already satisfied: nvidia-nvtx-cu12==12.4.127 in /usr/local/lib/python3.11/dist-packages (from torch) (12.4.127)\n",
            "Collecting nvidia-nvjitlink-cu12==12.4.127 (from torch)\n",
            "  Downloading nvidia_nvjitlink_cu12-12.4.127-py3-none-manylinux2014_x86_64.whl.metadata (1.5 kB)\n",
            "Requirement already satisfied: triton==3.1.0 in /usr/local/lib/python3.11/dist-packages (from torch) (3.1.0)\n",
            "Requirement already satisfied: sympy==1.13.1 in /usr/local/lib/python3.11/dist-packages (from torch) (1.13.1)\n",
            "Requirement already satisfied: mpmath<1.4,>=1.1.0 in /usr/local/lib/python3.11/dist-packages (from sympy==1.13.1->torch) (1.3.0)\n",
            "Requirement already satisfied: aiohappyeyeballs>=2.3.0 in /usr/local/lib/python3.11/dist-packages (from aiohttp->datasets) (2.4.4)\n",
            "Requirement already satisfied: aiosignal>=1.1.2 in /usr/local/lib/python3.11/dist-packages (from aiohttp->datasets) (1.3.2)\n",
            "Requirement already satisfied: attrs>=17.3.0 in /usr/local/lib/python3.11/dist-packages (from aiohttp->datasets) (25.1.0)\n",
            "Requirement already satisfied: frozenlist>=1.1.1 in /usr/local/lib/python3.11/dist-packages (from aiohttp->datasets) (1.5.0)\n",
            "Requirement already satisfied: multidict<7.0,>=4.5 in /usr/local/lib/python3.11/dist-packages (from aiohttp->datasets) (6.1.0)\n",
            "Requirement already satisfied: propcache>=0.2.0 in /usr/local/lib/python3.11/dist-packages (from aiohttp->datasets) (0.2.1)\n",
            "Requirement already satisfied: yarl<2.0,>=1.17.0 in /usr/local/lib/python3.11/dist-packages (from aiohttp->datasets) (1.18.3)\n",
            "Requirement already satisfied: charset-normalizer<4,>=2 in /usr/local/lib/python3.11/dist-packages (from requests->transformers) (3.4.1)\n",
            "Requirement already satisfied: idna<4,>=2.5 in /usr/local/lib/python3.11/dist-packages (from requests->transformers) (3.10)\n",
            "Requirement already satisfied: urllib3<3,>=1.21.1 in /usr/local/lib/python3.11/dist-packages (from requests->transformers) (2.3.0)\n",
            "Requirement already satisfied: certifi>=2017.4.17 in /usr/local/lib/python3.11/dist-packages (from requests->transformers) (2024.12.14)\n",
            "Requirement already satisfied: MarkupSafe>=2.0 in /usr/local/lib/python3.11/dist-packages (from jinja2->torch) (3.0.2)\n",
            "Requirement already satisfied: python-dateutil>=2.8.2 in /usr/local/lib/python3.11/dist-packages (from pandas->datasets) (2.8.2)\n",
            "Requirement already satisfied: pytz>=2020.1 in /usr/local/lib/python3.11/dist-packages (from pandas->datasets) (2024.2)\n",
            "Requirement already satisfied: tzdata>=2022.7 in /usr/local/lib/python3.11/dist-packages (from pandas->datasets) (2025.1)\n",
            "Requirement already satisfied: six>=1.5 in /usr/local/lib/python3.11/dist-packages (from python-dateutil>=2.8.2->pandas->datasets) (1.17.0)\n",
            "Downloading datasets-3.2.0-py3-none-any.whl (480 kB)\n",
            "\u001b[2K   \u001b[90m━━━━━━━━━━━━━━━━━━━━━━━━━━━━━━━━━━━━━━━━\u001b[0m \u001b[32m480.6/480.6 kB\u001b[0m \u001b[31m8.8 MB/s\u001b[0m eta \u001b[36m0:00:00\u001b[0m\n",
            "\u001b[?25hDownloading nvidia_cublas_cu12-12.4.5.8-py3-none-manylinux2014_x86_64.whl (363.4 MB)\n",
            "\u001b[2K   \u001b[90m━━━━━━━━━━━━━━━━━━━━━━━━━━━━━━━━━━━━━━━━\u001b[0m \u001b[32m363.4/363.4 MB\u001b[0m \u001b[31m3.8 MB/s\u001b[0m eta \u001b[36m0:00:00\u001b[0m\n",
            "\u001b[?25hDownloading nvidia_cuda_cupti_cu12-12.4.127-py3-none-manylinux2014_x86_64.whl (13.8 MB)\n",
            "\u001b[2K   \u001b[90m━━━━━━━━━━━━━━━━━━━━━━━━━━━━━━━━━━━━━━━━\u001b[0m \u001b[32m13.8/13.8 MB\u001b[0m \u001b[31m105.5 MB/s\u001b[0m eta \u001b[36m0:00:00\u001b[0m\n",
            "\u001b[?25hDownloading nvidia_cuda_nvrtc_cu12-12.4.127-py3-none-manylinux2014_x86_64.whl (24.6 MB)\n",
            "\u001b[2K   \u001b[90m━━━━━━━━━━━━━━━━━━━━━━━━━━━━━━━━━━━━━━━━\u001b[0m \u001b[32m24.6/24.6 MB\u001b[0m \u001b[31m85.2 MB/s\u001b[0m eta \u001b[36m0:00:00\u001b[0m\n",
            "\u001b[?25hDownloading nvidia_cuda_runtime_cu12-12.4.127-py3-none-manylinux2014_x86_64.whl (883 kB)\n",
            "\u001b[2K   \u001b[90m━━━━━━━━━━━━━━━━━━━━━━━━━━━━━━━━━━━━━━━━\u001b[0m \u001b[32m883.7/883.7 kB\u001b[0m \u001b[31m53.0 MB/s\u001b[0m eta \u001b[36m0:00:00\u001b[0m\n",
            "\u001b[?25hDownloading nvidia_cudnn_cu12-9.1.0.70-py3-none-manylinux2014_x86_64.whl (664.8 MB)\n",
            "\u001b[2K   \u001b[90m━━━━━━━━━━━━━━━━━━━━━━━━━━━━━━━━━━━━━━━━\u001b[0m \u001b[32m664.8/664.8 MB\u001b[0m \u001b[31m2.0 MB/s\u001b[0m eta \u001b[36m0:00:00\u001b[0m\n",
            "\u001b[?25hDownloading nvidia_cufft_cu12-11.2.1.3-py3-none-manylinux2014_x86_64.whl (211.5 MB)\n",
            "\u001b[2K   \u001b[90m━━━━━━━━━━━━━━━━━━━━━━━━━━━━━━━━━━━━━━━━\u001b[0m \u001b[32m211.5/211.5 MB\u001b[0m \u001b[31m4.4 MB/s\u001b[0m eta \u001b[36m0:00:00\u001b[0m\n",
            "\u001b[?25hDownloading nvidia_curand_cu12-10.3.5.147-py3-none-manylinux2014_x86_64.whl (56.3 MB)\n",
            "\u001b[2K   \u001b[90m━━━━━━━━━━━━━━━━━━━━━━━━━━━━━━━━━━━━━━━━\u001b[0m \u001b[32m56.3/56.3 MB\u001b[0m \u001b[31m20.8 MB/s\u001b[0m eta \u001b[36m0:00:00\u001b[0m\n",
            "\u001b[?25hDownloading nvidia_cusolver_cu12-11.6.1.9-py3-none-manylinux2014_x86_64.whl (127.9 MB)\n",
            "\u001b[2K   \u001b[90m━━━━━━━━━━━━━━━━━━━━━━━━━━━━━━━━━━━━━━━━\u001b[0m \u001b[32m127.9/127.9 MB\u001b[0m \u001b[31m19.2 MB/s\u001b[0m eta \u001b[36m0:00:00\u001b[0m\n",
            "\u001b[?25hDownloading nvidia_cusparse_cu12-12.3.1.170-py3-none-manylinux2014_x86_64.whl (207.5 MB)\n",
            "\u001b[2K   \u001b[90m━━━━━━━━━━━━━━━━━━━━━━━━━━━━━━━━━━━━━━━━\u001b[0m \u001b[32m207.5/207.5 MB\u001b[0m \u001b[31m5.4 MB/s\u001b[0m eta \u001b[36m0:00:00\u001b[0m\n",
            "\u001b[?25hDownloading nvidia_nvjitlink_cu12-12.4.127-py3-none-manylinux2014_x86_64.whl (21.1 MB)\n",
            "\u001b[2K   \u001b[90m━━━━━━━━━━━━━━━━━━━━━━━━━━━━━━━━━━━━━━━━\u001b[0m \u001b[32m21.1/21.1 MB\u001b[0m \u001b[31m89.0 MB/s\u001b[0m eta \u001b[36m0:00:00\u001b[0m\n",
            "\u001b[?25hDownloading dill-0.3.8-py3-none-any.whl (116 kB)\n",
            "\u001b[2K   \u001b[90m━━━━━━━━━━━━━━━━━━━━━━━━━━━━━━━━━━━━━━━━\u001b[0m \u001b[32m116.3/116.3 kB\u001b[0m \u001b[31m11.3 MB/s\u001b[0m eta \u001b[36m0:00:00\u001b[0m\n",
            "\u001b[?25hDownloading fsspec-2024.9.0-py3-none-any.whl (179 kB)\n",
            "\u001b[2K   \u001b[90m━━━━━━━━━━━━━━━━━━━━━━━━━━━━━━━━━━━━━━━━\u001b[0m \u001b[32m179.3/179.3 kB\u001b[0m \u001b[31m15.1 MB/s\u001b[0m eta \u001b[36m0:00:00\u001b[0m\n",
            "\u001b[?25hDownloading multiprocess-0.70.16-py311-none-any.whl (143 kB)\n",
            "\u001b[2K   \u001b[90m━━━━━━━━━━━━━━━━━━━━━━━━━━━━━━━━━━━━━━━━\u001b[0m \u001b[32m143.5/143.5 kB\u001b[0m \u001b[31m15.2 MB/s\u001b[0m eta \u001b[36m0:00:00\u001b[0m\n",
            "\u001b[?25hDownloading xxhash-3.5.0-cp311-cp311-manylinux_2_17_x86_64.manylinux2014_x86_64.whl (194 kB)\n",
            "\u001b[2K   \u001b[90m━━━━━━━━━━━━━━━━━━━━━━━━━━━━━━━━━━━━━━━━\u001b[0m \u001b[32m194.8/194.8 kB\u001b[0m \u001b[31m19.7 MB/s\u001b[0m eta \u001b[36m0:00:00\u001b[0m\n",
            "\u001b[?25hInstalling collected packages: xxhash, nvidia-nvjitlink-cu12, nvidia-curand-cu12, nvidia-cufft-cu12, nvidia-cuda-runtime-cu12, nvidia-cuda-nvrtc-cu12, nvidia-cuda-cupti-cu12, nvidia-cublas-cu12, fsspec, dill, nvidia-cusparse-cu12, nvidia-cudnn-cu12, multiprocess, nvidia-cusolver-cu12, datasets\n",
            "  Attempting uninstall: nvidia-nvjitlink-cu12\n",
            "    Found existing installation: nvidia-nvjitlink-cu12 12.5.82\n",
            "    Uninstalling nvidia-nvjitlink-cu12-12.5.82:\n",
            "      Successfully uninstalled nvidia-nvjitlink-cu12-12.5.82\n",
            "  Attempting uninstall: nvidia-curand-cu12\n",
            "    Found existing installation: nvidia-curand-cu12 10.3.6.82\n",
            "    Uninstalling nvidia-curand-cu12-10.3.6.82:\n",
            "      Successfully uninstalled nvidia-curand-cu12-10.3.6.82\n",
            "  Attempting uninstall: nvidia-cufft-cu12\n",
            "    Found existing installation: nvidia-cufft-cu12 11.2.3.61\n",
            "    Uninstalling nvidia-cufft-cu12-11.2.3.61:\n",
            "      Successfully uninstalled nvidia-cufft-cu12-11.2.3.61\n",
            "  Attempting uninstall: nvidia-cuda-runtime-cu12\n",
            "    Found existing installation: nvidia-cuda-runtime-cu12 12.5.82\n",
            "    Uninstalling nvidia-cuda-runtime-cu12-12.5.82:\n",
            "      Successfully uninstalled nvidia-cuda-runtime-cu12-12.5.82\n",
            "  Attempting uninstall: nvidia-cuda-nvrtc-cu12\n",
            "    Found existing installation: nvidia-cuda-nvrtc-cu12 12.5.82\n",
            "    Uninstalling nvidia-cuda-nvrtc-cu12-12.5.82:\n",
            "      Successfully uninstalled nvidia-cuda-nvrtc-cu12-12.5.82\n",
            "  Attempting uninstall: nvidia-cuda-cupti-cu12\n",
            "    Found existing installation: nvidia-cuda-cupti-cu12 12.5.82\n",
            "    Uninstalling nvidia-cuda-cupti-cu12-12.5.82:\n",
            "      Successfully uninstalled nvidia-cuda-cupti-cu12-12.5.82\n",
            "  Attempting uninstall: nvidia-cublas-cu12\n",
            "    Found existing installation: nvidia-cublas-cu12 12.5.3.2\n",
            "    Uninstalling nvidia-cublas-cu12-12.5.3.2:\n",
            "      Successfully uninstalled nvidia-cublas-cu12-12.5.3.2\n",
            "  Attempting uninstall: fsspec\n",
            "    Found existing installation: fsspec 2024.10.0\n",
            "    Uninstalling fsspec-2024.10.0:\n",
            "      Successfully uninstalled fsspec-2024.10.0\n",
            "  Attempting uninstall: nvidia-cusparse-cu12\n",
            "    Found existing installation: nvidia-cusparse-cu12 12.5.1.3\n",
            "    Uninstalling nvidia-cusparse-cu12-12.5.1.3:\n",
            "      Successfully uninstalled nvidia-cusparse-cu12-12.5.1.3\n",
            "  Attempting uninstall: nvidia-cudnn-cu12\n",
            "    Found existing installation: nvidia-cudnn-cu12 9.3.0.75\n",
            "    Uninstalling nvidia-cudnn-cu12-9.3.0.75:\n",
            "      Successfully uninstalled nvidia-cudnn-cu12-9.3.0.75\n",
            "  Attempting uninstall: nvidia-cusolver-cu12\n",
            "    Found existing installation: nvidia-cusolver-cu12 11.6.3.83\n",
            "    Uninstalling nvidia-cusolver-cu12-11.6.3.83:\n",
            "      Successfully uninstalled nvidia-cusolver-cu12-11.6.3.83\n",
            "\u001b[31mERROR: pip's dependency resolver does not currently take into account all the packages that are installed. This behaviour is the source of the following dependency conflicts.\n",
            "gcsfs 2024.10.0 requires fsspec==2024.10.0, but you have fsspec 2024.9.0 which is incompatible.\u001b[0m\u001b[31m\n",
            "\u001b[0mSuccessfully installed datasets-3.2.0 dill-0.3.8 fsspec-2024.9.0 multiprocess-0.70.16 nvidia-cublas-cu12-12.4.5.8 nvidia-cuda-cupti-cu12-12.4.127 nvidia-cuda-nvrtc-cu12-12.4.127 nvidia-cuda-runtime-cu12-12.4.127 nvidia-cudnn-cu12-9.1.0.70 nvidia-cufft-cu12-11.2.1.3 nvidia-curand-cu12-10.3.5.147 nvidia-cusolver-cu12-11.6.1.9 nvidia-cusparse-cu12-12.3.1.170 nvidia-nvjitlink-cu12-12.4.127 xxhash-3.5.0\n"
          ]
        }
      ]
    },
    {
      "cell_type": "code",
      "source": [
        "import pandas as pd\n",
        "import numpy as np\n",
        "import torch\n",
        "from torch import nn\n",
        "from transformers import (\n",
        "    AutoTokenizer,\n",
        "    AutoModelForSequenceClassification,\n",
        "    TrainingArguments,\n",
        "    Trainer,\n",
        ")\n",
        "from datasets import Dataset\n",
        "from sklearn.preprocessing import LabelEncoder\n",
        "from sklearn.model_selection import train_test_split\n",
        "from sklearn.metrics import classification_report\n",
        "from torch.utils.data import WeightedRandomSampler\n",
        "import pandas as pd\n",
        "import torch\n",
        "from sklearn.preprocessing import LabelEncoder\n",
        "from sklearn.model_selection import StratifiedKFold\n",
        "from transformers import (\n",
        "    AutoTokenizer,\n",
        "    AutoModelForSequenceClassification,\n",
        "    TrainingArguments,\n",
        "    Trainer,\n",
        "    DataCollatorWithPadding,\n",
        "    pipeline\n",
        ")\n",
        "from sklearn.metrics import precision_recall_fscore_support, accuracy_score"
      ],
      "metadata": {
        "id": "whdhc03wmJAP"
      },
      "execution_count": 15,
      "outputs": []
    },
    {
      "cell_type": "markdown",
      "source": [
        "\n",
        "\n",
        "\n",
        "---\n",
        "\n",
        "\n",
        "> Data Prepration\n",
        "\n",
        "\n",
        "---\n",
        "\n",
        "\n"
      ],
      "metadata": {
        "id": "GpkGr0y5tcth"
      }
    },
    {
      "cell_type": "code",
      "source": [
        "# Prepare the dataset\n",
        "data = data.dropna(subset=['Version initiale', 'Version retraitée', 'Catégorie'])  # Drop rows with missing values\n",
        "X = data[['Version initiale', 'Version retraitée']].values  # Both text inputs\n",
        "y = data['Catégorie'].tolist()\n",
        "\n",
        "# Encode labels\n",
        "from sklearn.preprocessing import LabelEncoder\n",
        "label_encoder = LabelEncoder()\n",
        "y_encoded = label_encoder.fit_transform(y)\n",
        "\n",
        "# Combine Standard French and E2R version with a separator\n",
        "def combine_texts(row):\n",
        "    return f\"Standard French: {row[0]} [SEP] E2R Version: {row[1]}\"\n",
        "\n",
        "X_combined = [combine_texts(row) for row in X]\n",
        "\n",
        "# Train-test split\n",
        "from sklearn.model_selection import train_test_split\n",
        "train_texts, val_texts, train_labels, val_labels = train_test_split(\n",
        "    X_combined, y_encoded, test_size=0.2, random_state=42\n",
        ")\n",
        "\n",
        "# Train-test split\n",
        "from sklearn.model_selection import train_test_split\n",
        "train_texts, val_texts, train_typologies, val_typologies = train_test_split(\n",
        "    X_combined, y, test_size=0.2, random_state=42\n",
        ")\n",
        "\n",
        "# Show dataset statistics\n",
        "print(f\"Training samples: {len(train_texts)}\")\n",
        "print(f\"Validation samples: {len(val_texts)}\")"
      ],
      "metadata": {
        "id": "2EOK-SoIeiYV",
        "colab": {
          "base_uri": "https://localhost:8080/"
        },
        "outputId": "5764aebf-0bb9-445b-9ab6-f351d97c7279"
      },
      "execution_count": 16,
      "outputs": [
        {
          "output_type": "stream",
          "name": "stdout",
          "text": [
            "Training samples: 296\n",
            "Validation samples: 74\n"
          ]
        }
      ]
    },
    {
      "cell_type": "markdown",
      "source": [
        "\n",
        "\n",
        "---\n",
        "\n",
        "\n",
        "\n",
        "> # Fine-tune the Model\n",
        "\n",
        "\n",
        "---\n",
        "\n"
      ],
      "metadata": {
        "id": "cfXgB98jx-L3"
      }
    },
    {
      "cell_type": "markdown",
      "source": [
        "---\n",
        "\n",
        "## **1. Data Preparation: Cleaning and Formatting the Dataset**\n",
        "Before training, we **preprocess the dataset** by:\n",
        "1. **Handling Missing Values**: Dropping any missing values in the key columns (`Version initiale` and `Catégorie`).\n",
        "   ```python\n",
        "   data = data.dropna(subset=['Version initiale', 'Catégorie'])\n",
        "   ```\n",
        "2. **Cleaning the Typology Column**: Removing **non-breaking spaces (`\\xa0`)** and regular spaces to standardize labels.\n",
        "   ```python\n",
        "   data['Typology'] = data['Catégorie'].str.replace(\"\\xa0\", \"\").str.replace(\" \", \"\")\n",
        "   ```\n",
        "3. **Encoding Typologies**: Using `LabelEncoder` to convert category labels into numerical values for the model.\n",
        "   ```python\n",
        "   label_encoder = LabelEncoder()\n",
        "   data['Typology Encoded'] = label_encoder.fit_transform(data['Typology'])\n",
        "   ```\n",
        "\n",
        "✅ **Why?**  \n",
        "- Ensures the dataset is clean and structured before augmentation and model training.\n",
        "- Helps the model recognize category labels in a numerical format.\n",
        "\n",
        "---\n",
        "\n",
        "## **2. Data Augmentation: Addressing Class Imbalance**\n",
        "To **balance underrepresented categories**, we apply **text augmentation** using a **T5-small paraphraser model**:\n",
        "To improve model performance on underrepresented categories, we applied text  The process follows these steps:\n",
        "\n",
        "- Identify the three least frequent categories in the dataset.\n",
        "- Use a **text-to-text generation model (`t5-small`)** to paraphrase sentences from these categories.\n",
        "- Generate one new paraphrased version for each text sample.\n",
        "- Append the newly augmented data to the original dataset.\n",
        "- Re-encode the typologies after augmentation to maintain consistency.\n",
        "\n",
        "✅ This step ensures that the model gets a balanced representation of all categories, leading to better generalization.\n",
        "\n",
        "1. Identify the **three least frequent classes** in the dataset.\n",
        "   ```python\n",
        "   underrepresented_classes = data['Catégorie'].value_counts().tail(3).index.tolist()\n",
        "   ```\n",
        "2. Use `t5-small` for paraphrasing:\n",
        "   ```python\n",
        "   paraphraser = pipeline(\"text2text-generation\", model=\"t5-small\")\n",
        "   ```\n",
        "3. Generate **augmented text** for samples in these classes:\n",
        "   ```python\n",
        "   def augment_text(text):\n",
        "       augmented = paraphraser(text, max_length=100, num_return_sequences=1)\n",
        "       return augmented[0]['generated_text']\n",
        "   ```\n",
        "4. Add augmented samples to the dataset:\n",
        "   ```python\n",
        "   augmented_data = []\n",
        "   for typology in underrepresented_classes:\n",
        "       class_data = data[data['Typology'] == typology]\n",
        "       for _, row in class_data.iterrows():\n",
        "           augmented_text = augment_text(row['Version initiale'])\n",
        "           augmented_data.append({'Version initiale': augmented_text, 'Typology': typology})\n",
        "\n",
        "   augmented_df = pd.DataFrame(augmented_data)\n",
        "   data = pd.concat([data, augmented_df], ignore_index=True)\n",
        "   ```\n",
        "\n",
        "✅ **Why?**  \n",
        "- Ensures the model **does not ignore** rare categories.\n",
        "- Generates **synthetic training data** to balance class distribution.\n",
        "\n",
        "---\n",
        "\n",
        "## **3. Applying Stratified K-Fold Cross-Validation**\n",
        "Instead of a **single train-test split**, we use **5-fold stratified cross-validation**: (with `n_splits=5`) to make the training process more robust.\n",
        "```python\n",
        "skf = StratifiedKFold(n_splits=5)\n",
        "```\n",
        "### **Process:**\n",
        "- **Splits data into 5 subsets** while preserving the class distribution.\n",
        "- Trains on 4 subsets and **validates on the remaining subset**.\n",
        "- **Repeats 5 times** (each subset gets a turn as the validation set).\n",
        "- Compute **average accuracy, precision, recall, and F1-score** across all folds.\n",
        "\n",
        "✅ **Why?**  \n",
        "- Prevents **biased model performance** due to unlucky data splits.\n",
        "- Ensures **robust evaluation** across different subsets.\n",
        "\n",
        "---\n",
        "\n",
        "\n",
        "## **4. Training Arguments for Optimized Model Performance**\n",
        "We define **custom training arguments** using `TrainingArguments`:\n",
        "- `output_dir`: Saves the model checkpoints for each fold.\n",
        "- `evaluation_strategy=\"epoch\"`: Evaluates the model after every epoch.\n",
        "- `save_strategy=\"epoch\"`: Saves the model at the end of each epoch.\n",
        "- `learning_rate=5e-5`: A standard learning rate for fine-tuning transformers.\n",
        "- `per_device_train_batch_size=8`: Small batch size to fit into GPU memory.\n",
        "- `num_train_epochs=3`: Trains for 3 epochs to prevent overfitting.\n",
        "- `weight_decay=0.01`: Helps with regularization.\n",
        "- `load_best_model_at_end=True`: Ensures that the best version of the model is kept.\n",
        "```python\n",
        "training_args = TrainingArguments(\n",
        "    output_dir=f\"./results/{model_name}_fold_{fold}\",\n",
        "    evaluation_strategy=\"epoch\",\n",
        "    save_strategy=\"epoch\",\n",
        "    learning_rate=5e-6,\n",
        "    per_device_train_batch_size=8,\n",
        "    per_device_eval_batch_size=8,\n",
        "    num_train_epochs=5,  # More epochs, but early stopping prevents overfitting\n",
        "    weight_decay=0.01,\n",
        "    logging_dir=f\"./logs/{model_name}_fold_{fold}\",\n",
        "    save_total_limit=2,\n",
        "    load_best_model_at_end=True,\n",
        "    gradient_accumulation_steps=1,\n",
        "    fp16=True,  # Mixed precision training for efficiency\n",
        "    gradient_checkpointing=True,  # Reduces memory consumption\n",
        "    max_grad_norm=1.0  # Prevents exploding gradients\n",
        ")\n",
        "```\n",
        "Additionally, we use **Early Stopping** to halt training when the model stops improving:\n",
        "```python\n",
        "callbacks=[EarlyStoppingCallback(early_stopping_patience=3)]\n",
        "```\n",
        "\n",
        "✅ **Why?**  \n",
        "- **Efficient GPU usage** with mixed precision (`fp16`) and gradient checkpointing.\n",
        "- **Prevents overfitting** by stopping training early when improvement slows.\n",
        "\n",
        "---\n",
        "\n",
        "## **5. Model Training and Evaluation**\n",
        "For each fold:\n",
        "- **Tokenize input data** and prepare `torch.tensor` datasets.\n",
        "- **Train the model** using the custom `Trainer`:\n",
        "  ```python\n",
        "  trainer = CustomTrainer(\n",
        "      model=model,\n",
        "      args=training_args,\n",
        "      train_dataset=train_dataset,\n",
        "      eval_dataset=val_dataset,\n",
        "      data_collator=data_collator,\n",
        "      compute_metrics=compute_metrics,\n",
        "      callbacks=[EarlyStoppingCallback(early_stopping_patience=3)]\n",
        "  )\n",
        "  ```\n",
        "- **Evaluate and store results** after each epoch:\n",
        "  ```python\n",
        "  evaluation_results = trainer.evaluate()\n",
        "  ```\n",
        "\n",
        "✅ **Why?**  \n",
        "- Automates training and validation for **multiple models**.\n",
        "- Captures **detailed per-epoch and per-fold performance**.\n",
        "\n",
        "---\n",
        "\n",
        "## **6. Storing and Analyzing Model Results**\n",
        "### **Saving Model Performance:**\n",
        "- **Final aggregated results per model**:\n",
        "  ```python\n",
        "  final_results_df = pd.DataFrame(all_model_results)\n",
        "  final_results_df.to_csv(\"complex_model_results.csv\", index=False)\n",
        "  ```\n",
        "- **Detailed per-fold and per-epoch results**:\n",
        "  ```python\n",
        "  detailed_results_df = pd.DataFrame(detailed_results)\n",
        "  detailed_results_df.to_csv(\"Complex_detailed_model_results.csv\", index=False)\n",
        "  ```\n",
        "- **Summarized aggregated performance**:\n",
        "  ```python\n",
        "  aggregated_summary_df = pd.DataFrame(aggregated_summary)\n",
        "  aggregated_summary_df.to_csv(\"Complex_aggregated_model_summary.csv\", index=False)\n",
        "  ```\n",
        "\n",
        "✅ **Why?**  \n",
        "- Enables **post-training analysis** to compare models and optimize hyperparameters.\n",
        "\n",
        "---\n",
        "\n",
        "\n"
      ],
      "metadata": {
        "id": "jgAqJcbthW-y"
      }
    },
    {
      "cell_type": "markdown",
      "source": [
        "\n",
        "\n",
        "> # Model #1 Standared+E2R\n",
        "\n"
      ],
      "metadata": {
        "id": "tq84cbQGi-NG"
      }
    },
    {
      "cell_type": "markdown",
      "source": [
        "# `**This model only Combining Standard and Easy-to-Read (E2R) and the \"Categories\" for classification.**`\n"
      ],
      "metadata": {
        "id": "b8PZOdzMk1S4"
      }
    },
    {
      "cell_type": "markdown",
      "source": [
        "\n",
        "### ** Data Preparation: Combining Standard and Easy-to-Read (E2R) Versions**  \n",
        "\n",
        "To create a **single input format** for the model, we merged two versions of the text:  \n",
        "- **Standard Version** (e.g., formal or original text)  \n",
        "- **Easy-to-Read (E2R) Version** (a simplified or adapted version for better comprehension)  \n",
        "\n",
        "#### **How We Combined Them:**  \n",
        "For each data entry, we structured the input text as:  \n",
        "\n",
        "```python\n",
        "data['Combined Text'] = data.apply(\n",
        "    lambda row: f\"Standard French: {row['Version initiale']} [SEP] Easy-to-Read: {row['Version retraitée']}\",\n",
        "    axis=1\n",
        ")\n",
        "```\n",
        "This approach:  \n",
        "✅ **Provides Context**: The model learns relationships between the original and simplified versions.  \n",
        "✅ **Ensures Uniform Input Format**: The `[SEP]` token helps the transformer model differentiate between the two parts of the text.  \n",
        "✅ **Enhances Learning**: By seeing both versions together, the model better understands variations in language complexity.\n",
        "\n",
        "---\n"
      ],
      "metadata": {
        "id": "5tyDoH1UfSK4"
      }
    },
    {
      "cell_type": "code",
      "source": [
        "\"\"\"\n",
        "### Model Description:\n",
        "This script performs text classification using transformer-based models to categorize text into different typologies.\n",
        "It follows these key steps:\n",
        "1. **Data Preparation**: Combining Standard and Easy-to-Read (E2R) versions of text to create a single input format.\n",
        "2. **Handling Class Imbalance**: Augmenting underrepresented categories using a text paraphraser.\n",
        "3. **Model Training**: Fine-tuning transformer-based models (e.g., BERT) with stratified k-fold cross-validation.\n",
        "4. **Evaluation**: Assessing model performance using accuracy, F1-score, precision, and recall.\n",
        "5. **Model Saving**: Storing the trained models for future inference.\n",
        "\n",
        "This approach ensures robust training and better generalization by leveraging data augmentation and cross-validation techniques.\n",
        "\"\"\"\n",
        "\n",
        "# Import Required Libraries\n",
        "import torch\n",
        "import pandas as pd\n",
        "from sklearn.model_selection import StratifiedKFold\n",
        "from sklearn.preprocessing import LabelEncoder\n",
        "from sklearn.metrics import accuracy_score, precision_recall_fscore_support\n",
        "from transformers import AutoTokenizer, AutoModelForSequenceClassification, Trainer, TrainingArguments, DataCollatorWithPadding, pipeline\n",
        "\n",
        "# Data Preprocessing and Augmentation\n",
        "print(\"Loading and preparing the dataset...\")\n",
        "\n",
        "# Combine \"Standard English\" and \"E2R Version\" for input\n",
        "data['Combined Text'] = data.apply(\n",
        "    lambda row: f\"Standard French: {row['Version initiale']} [SEP] Easy-to-Read: {row['Version retraitée']}\", axis=1\n",
        ")\n",
        "data = data.dropna(subset=['Combined Text', 'Catégorie'])\n",
        "\n",
        "# Encode Typologies\n",
        "label_encoder = LabelEncoder()\n",
        "data['Typology Encoded'] = label_encoder.fit_transform(data['Catégorie'])\n",
        "\n",
        "# Handle Class Imbalance with Augmentation\n",
        "underrepresented_classes = data['Catégorie'].value_counts().tail(3).index.tolist()\n",
        "paraphraser = pipeline(\"text2text-generation\", model=\"t5-small\", device=0 if torch.cuda.is_available() else -1)\n",
        "\n",
        "def augment_text(text):\n",
        "    augmented = paraphraser(text, max_length=100, num_return_sequences=1)\n",
        "    return augmented[0]['generated_text']\n",
        "\n",
        "augmented_data = []\n",
        "for typology in underrepresented_classes:\n",
        "    class_data = data[data['Catégorie'] == typology]\n",
        "    for _, row in class_data.iterrows():\n",
        "        augmented_text = augment_text(row['Combined Text'])\n",
        "        augmented_data.append({'Combined Text': augmented_text, 'Typology': typology})\n",
        "\n",
        "# Append augmented data\n",
        "augmented_df = pd.DataFrame(augmented_data)\n",
        "data = pd.concat([data, augmented_df], ignore_index=True)\n",
        "\n",
        "# Re-encode Typologies Post-Augmentation\n",
        "data['Typology Encoded'] = label_encoder.fit_transform(data['Catégorie'])\n",
        "\n",
        "# Define Models to Test\n",
        "models_to_test = [\"bert-base-multilingual-cased\"]\n",
        "all_model_results = []\n",
        "skf = StratifiedKFold(n_splits=5)\n",
        "\n",
        "for model_name in models_to_test:\n",
        "    print(f\"\\nStarting model: {model_name}\")\n",
        "    tokenizer = AutoTokenizer.from_pretrained(model_name)\n",
        "    model = AutoModelForSequenceClassification.from_pretrained(\n",
        "        model_name, num_labels=len(label_encoder.classes_)\n",
        "    )\n",
        "\n",
        "    fold_metrics = []\n",
        "    for fold, (train_index, val_index) in enumerate(skf.split(data['Combined Text'], data['Typology Encoded'])):\n",
        "        print(f\"\\nStarting Fold {fold + 1} for {model_name}\")\n",
        "\n",
        "        # Split Data\n",
        "        train_texts, val_texts = data['Combined Text'].iloc[train_index], data['Combined Text'].iloc[val_index]\n",
        "        train_labels, val_labels = data['Typology Encoded'].iloc[train_index], data['Typology Encoded'].iloc[val_index]\n",
        "\n",
        "        def tokenize_function(texts):\n",
        "            return tokenizer(list(texts), padding=True, truncation=True, max_length=512)\n",
        "\n",
        "        train_encodings = tokenize_function(train_texts)\n",
        "        val_encodings = tokenize_function(val_texts)\n",
        "\n",
        "        train_labels = torch.tensor(train_labels.values, dtype=torch.long)\n",
        "        val_labels = torch.tensor(val_labels.values, dtype=torch.long)\n",
        "\n",
        "        class Dataset(torch.utils.data.Dataset):\n",
        "            def __init__(self, encodings, labels):\n",
        "                self.encodings = encodings\n",
        "                self.labels = labels\n",
        "\n",
        "            def __len__(self):\n",
        "                return len(self.labels)\n",
        "\n",
        "            def __getitem__(self, idx):\n",
        "                item = {key: torch.tensor(val[idx]) for key, val in self.encodings.items()}\n",
        "                item['labels'] = self.labels[idx]\n",
        "                return item\n",
        "\n",
        "        train_dataset = Dataset(train_encodings, train_labels)\n",
        "        val_dataset = Dataset(val_encodings, val_labels)\n",
        "\n",
        "        # Training Arguments\n",
        "        training_args = TrainingArguments(\n",
        "            output_dir=f\"./results/{model_name}_fold_{fold}\",\n",
        "            evaluation_strategy=\"epoch\",\n",
        "            save_strategy=\"epoch\",\n",
        "            learning_rate=5e-5,\n",
        "            per_device_train_batch_size=8,\n",
        "            per_device_eval_batch_size=8,\n",
        "            num_train_epochs=3,\n",
        "            weight_decay=0.01,\n",
        "            save_total_limit=2,\n",
        "            load_best_model_at_end=True,\n",
        "        )\n",
        "\n",
        "        # Define Metrics\n",
        "        def compute_metrics(pred):\n",
        "            predictions = pred.predictions.argmax(-1)\n",
        "            labels = pred.label_ids\n",
        "            precision, recall, f1, _ = precision_recall_fscore_support(labels, predictions, average='weighted')\n",
        "            acc = accuracy_score(labels, predictions)\n",
        "            return {\"accuracy\": acc, \"f1\": f1, \"precision\": precision, \"recall\": recall}\n",
        "\n",
        "        data_collator = DataCollatorWithPadding(tokenizer=tokenizer)\n",
        "        trainer = Trainer(\n",
        "            model=model,\n",
        "            args=training_args,\n",
        "            train_dataset=train_dataset,\n",
        "            eval_dataset=val_dataset,\n",
        "            data_collator=data_collator,\n",
        "            compute_metrics=compute_metrics\n",
        "        )\n",
        "\n",
        "        # Train and Evaluate\n",
        "        trainer.train()\n",
        "        evaluation_results = trainer.evaluate()\n",
        "        print(f\"Fold {fold + 1} Results for {model_name}: {evaluation_results}\")\n",
        "        fold_metrics.append(evaluation_results)\n",
        "\n",
        "    # Compute Average Metrics Across Folds\n",
        "    avg_accuracy = sum([m['eval_accuracy'] for m in fold_metrics]) / len(fold_metrics)\n",
        "    avg_f1 = sum([m['eval_f1'] for m in fold_metrics]) / len(fold_metrics)\n",
        "    avg_precision = sum([m['eval_precision'] for m in fold_metrics]) / len(fold_metrics)\n",
        "    avg_recall = sum([m['eval_recall'] for m in fold_metrics]) / len(fold_metrics)\n",
        "\n",
        "    all_model_results.append({\n",
        "        \"Model\": model_name,\n",
        "        \"Avg_Accuracy\": avg_accuracy,\n",
        "        \"Avg_F1\": avg_f1,\n",
        "        \"Avg_Precision\": avg_precision,\n",
        "        \"Avg_Recall\": avg_recall\n",
        "    })\n",
        "\n",
        "    # Save Model and Tokenizer\n",
        "    model.save_pretrained(f\"./{model_name}_Combined\")\n",
        "    tokenizer.save_pretrained(f\"./{model_name}_Combined\")\n",
        "\n",
        "# Print Final Results\n",
        "results_df = pd.DataFrame(all_model_results)\n",
        "print(\"\\nFinal Results Across Models:\")\n",
        "print(results_df.to_string(index=False))\n"
      ],
      "metadata": {
        "colab": {
          "base_uri": "https://localhost:8080/",
          "height": 1000
        },
        "id": "xn9V_ng_9MV9",
        "outputId": "1c8c006b-01e4-4d63-9ec1-d42c0d2d1e5f"
      },
      "execution_count": 22,
      "outputs": [
        {
          "output_type": "stream",
          "name": "stderr",
          "text": [
            "<ipython-input-22-5d766f04235e>:23: SettingWithCopyWarning:\n",
            "\n",
            "\n",
            "A value is trying to be set on a copy of a slice from a DataFrame.\n",
            "Try using .loc[row_indexer,col_indexer] = value instead\n",
            "\n",
            "See the caveats in the documentation: https://pandas.pydata.org/pandas-docs/stable/user_guide/indexing.html#returning-a-view-versus-a-copy\n",
            "\n",
            "Device set to use cuda:0\n"
          ]
        },
        {
          "output_type": "stream",
          "name": "stdout",
          "text": [
            "\n",
            "Starting model: bert-base-multilingual-cased\n"
          ]
        },
        {
          "output_type": "stream",
          "name": "stderr",
          "text": [
            "Some weights of BertForSequenceClassification were not initialized from the model checkpoint at bert-base-multilingual-cased and are newly initialized: ['classifier.bias', 'classifier.weight']\n",
            "You should probably TRAIN this model on a down-stream task to be able to use it for predictions and inference.\n",
            "/usr/local/lib/python3.11/dist-packages/sklearn/model_selection/_split.py:805: UserWarning:\n",
            "\n",
            "The least populated class in y has only 3 members, which is less than n_splits=5.\n",
            "\n",
            "/usr/local/lib/python3.11/dist-packages/transformers/training_args.py:1575: FutureWarning:\n",
            "\n",
            "`evaluation_strategy` is deprecated and will be removed in version 4.46 of 🤗 Transformers. Use `eval_strategy` instead\n",
            "\n"
          ]
        },
        {
          "output_type": "stream",
          "name": "stdout",
          "text": [
            "\n",
            "Starting Fold 1 for bert-base-multilingual-cased\n"
          ]
        },
        {
          "output_type": "display_data",
          "data": {
            "text/plain": [
              "<IPython.core.display.Javascript object>"
            ],
            "application/javascript": [
              "\n",
              "        window._wandbApiKey = new Promise((resolve, reject) => {\n",
              "            function loadScript(url) {\n",
              "            return new Promise(function(resolve, reject) {\n",
              "                let newScript = document.createElement(\"script\");\n",
              "                newScript.onerror = reject;\n",
              "                newScript.onload = resolve;\n",
              "                document.body.appendChild(newScript);\n",
              "                newScript.src = url;\n",
              "            });\n",
              "            }\n",
              "            loadScript(\"https://cdn.jsdelivr.net/npm/postmate/build/postmate.min.js\").then(() => {\n",
              "            const iframe = document.createElement('iframe')\n",
              "            iframe.style.cssText = \"width:0;height:0;border:none\"\n",
              "            document.body.appendChild(iframe)\n",
              "            const handshake = new Postmate({\n",
              "                container: iframe,\n",
              "                url: 'https://wandb.ai/authorize'\n",
              "            });\n",
              "            const timeout = setTimeout(() => reject(\"Couldn't auto authenticate\"), 5000)\n",
              "            handshake.then(function(child) {\n",
              "                child.on('authorize', data => {\n",
              "                    clearTimeout(timeout)\n",
              "                    resolve(data)\n",
              "                });\n",
              "            });\n",
              "            })\n",
              "        });\n",
              "    "
            ]
          },
          "metadata": {}
        },
        {
          "output_type": "stream",
          "name": "stderr",
          "text": [
            "\u001b[34m\u001b[1mwandb\u001b[0m: Logging into wandb.ai. (Learn how to deploy a W&B server locally: https://wandb.me/wandb-server)\n",
            "\u001b[34m\u001b[1mwandb\u001b[0m: You can find your API key in your browser here: https://wandb.ai/authorize\n",
            "wandb: Paste an API key from your profile and hit enter, or press ctrl+c to quit:"
          ]
        },
        {
          "name": "stdout",
          "output_type": "stream",
          "text": [
            " ··········\n"
          ]
        },
        {
          "output_type": "stream",
          "name": "stderr",
          "text": [
            "\u001b[34m\u001b[1mwandb\u001b[0m: \u001b[33mWARNING\u001b[0m If you're specifying your api key in code, ensure this code is not shared publicly.\n",
            "\u001b[34m\u001b[1mwandb\u001b[0m: \u001b[33mWARNING\u001b[0m Consider setting the WANDB_API_KEY environment variable, or running `wandb login` from the command line.\n",
            "\u001b[34m\u001b[1mwandb\u001b[0m: Appending key for api.wandb.ai to your netrc file: /root/.netrc\n",
            "\u001b[34m\u001b[1mwandb\u001b[0m: Currently logged in as: \u001b[33mnourankhallaf\u001b[0m to \u001b[32mhttps://api.wandb.ai\u001b[0m. Use \u001b[1m`wandb login --relogin`\u001b[0m to force relogin\n",
            "\u001b[34m\u001b[1mwandb\u001b[0m: Using wandb-core as the SDK backend.  Please refer to https://wandb.me/wandb-core for more information.\n"
          ]
        },
        {
          "output_type": "display_data",
          "data": {
            "text/plain": [
              "<IPython.core.display.HTML object>"
            ],
            "text/html": [
              "Tracking run with wandb version 0.19.5"
            ]
          },
          "metadata": {}
        },
        {
          "output_type": "display_data",
          "data": {
            "text/plain": [
              "<IPython.core.display.HTML object>"
            ],
            "text/html": [
              "Run data is saved locally in <code>/content/wandb/run-20250204_192858-mamsd83f</code>"
            ]
          },
          "metadata": {}
        },
        {
          "output_type": "display_data",
          "data": {
            "text/plain": [
              "<IPython.core.display.HTML object>"
            ],
            "text/html": [
              "Syncing run <strong><a href='https://wandb.ai/nourankhallaf/huggingface/runs/mamsd83f' target=\"_blank\">./results/bert-base-multilingual-cased_fold_0</a></strong> to <a href='https://wandb.ai/nourankhallaf/huggingface' target=\"_blank\">Weights & Biases</a> (<a href='https://wandb.me/developer-guide' target=\"_blank\">docs</a>)<br>"
            ]
          },
          "metadata": {}
        },
        {
          "output_type": "display_data",
          "data": {
            "text/plain": [
              "<IPython.core.display.HTML object>"
            ],
            "text/html": [
              " View project at <a href='https://wandb.ai/nourankhallaf/huggingface' target=\"_blank\">https://wandb.ai/nourankhallaf/huggingface</a>"
            ]
          },
          "metadata": {}
        },
        {
          "output_type": "display_data",
          "data": {
            "text/plain": [
              "<IPython.core.display.HTML object>"
            ],
            "text/html": [
              " View run at <a href='https://wandb.ai/nourankhallaf/huggingface/runs/mamsd83f' target=\"_blank\">https://wandb.ai/nourankhallaf/huggingface/runs/mamsd83f</a>"
            ]
          },
          "metadata": {}
        },
        {
          "output_type": "display_data",
          "data": {
            "text/plain": [
              "<IPython.core.display.HTML object>"
            ],
            "text/html": [
              "\n",
              "    <div>\n",
              "      \n",
              "      <progress value='123' max='123' style='width:300px; height:20px; vertical-align: middle;'></progress>\n",
              "      [123/123 00:39, Epoch 3/3]\n",
              "    </div>\n",
              "    <table border=\"1\" class=\"dataframe\">\n",
              "  <thead>\n",
              " <tr style=\"text-align: left;\">\n",
              "      <th>Epoch</th>\n",
              "      <th>Training Loss</th>\n",
              "      <th>Validation Loss</th>\n",
              "      <th>Accuracy</th>\n",
              "      <th>F1</th>\n",
              "      <th>Precision</th>\n",
              "      <th>Recall</th>\n",
              "    </tr>\n",
              "  </thead>\n",
              "  <tbody>\n",
              "    <tr>\n",
              "      <td>1</td>\n",
              "      <td>No log</td>\n",
              "      <td>2.041606</td>\n",
              "      <td>0.234568</td>\n",
              "      <td>0.089136</td>\n",
              "      <td>0.055022</td>\n",
              "      <td>0.234568</td>\n",
              "    </tr>\n",
              "    <tr>\n",
              "      <td>2</td>\n",
              "      <td>No log</td>\n",
              "      <td>1.950629</td>\n",
              "      <td>0.160494</td>\n",
              "      <td>0.096574</td>\n",
              "      <td>0.070483</td>\n",
              "      <td>0.160494</td>\n",
              "    </tr>\n",
              "    <tr>\n",
              "      <td>3</td>\n",
              "      <td>No log</td>\n",
              "      <td>1.850037</td>\n",
              "      <td>0.395062</td>\n",
              "      <td>0.299068</td>\n",
              "      <td>0.265834</td>\n",
              "      <td>0.395062</td>\n",
              "    </tr>\n",
              "  </tbody>\n",
              "</table><p>"
            ]
          },
          "metadata": {}
        },
        {
          "output_type": "stream",
          "name": "stderr",
          "text": [
            "/usr/local/lib/python3.11/dist-packages/sklearn/metrics/_classification.py:1565: UndefinedMetricWarning:\n",
            "\n",
            "Precision is ill-defined and being set to 0.0 in labels with no predicted samples. Use `zero_division` parameter to control this behavior.\n",
            "\n",
            "/usr/local/lib/python3.11/dist-packages/sklearn/metrics/_classification.py:1565: UndefinedMetricWarning:\n",
            "\n",
            "Precision is ill-defined and being set to 0.0 in labels with no predicted samples. Use `zero_division` parameter to control this behavior.\n",
            "\n",
            "/usr/local/lib/python3.11/dist-packages/sklearn/metrics/_classification.py:1565: UndefinedMetricWarning:\n",
            "\n",
            "Precision is ill-defined and being set to 0.0 in labels with no predicted samples. Use `zero_division` parameter to control this behavior.\n",
            "\n"
          ]
        },
        {
          "output_type": "display_data",
          "data": {
            "text/plain": [
              "<IPython.core.display.HTML object>"
            ],
            "text/html": [
              "\n",
              "    <div>\n",
              "      \n",
              "      <progress value='11' max='11' style='width:300px; height:20px; vertical-align: middle;'></progress>\n",
              "      [11/11 00:00]\n",
              "    </div>\n",
              "    "
            ]
          },
          "metadata": {}
        },
        {
          "output_type": "stream",
          "name": "stderr",
          "text": [
            "/usr/local/lib/python3.11/dist-packages/sklearn/metrics/_classification.py:1565: UndefinedMetricWarning:\n",
            "\n",
            "Precision is ill-defined and being set to 0.0 in labels with no predicted samples. Use `zero_division` parameter to control this behavior.\n",
            "\n",
            "/usr/local/lib/python3.11/dist-packages/transformers/training_args.py:1575: FutureWarning:\n",
            "\n",
            "`evaluation_strategy` is deprecated and will be removed in version 4.46 of 🤗 Transformers. Use `eval_strategy` instead\n",
            "\n"
          ]
        },
        {
          "output_type": "stream",
          "name": "stdout",
          "text": [
            "Fold 1 Results for bert-base-multilingual-cased: {'eval_loss': 1.8500373363494873, 'eval_accuracy': 0.3950617283950617, 'eval_f1': 0.29906826889585514, 'eval_precision': 0.26583392080468105, 'eval_recall': 0.3950617283950617, 'eval_runtime': 0.2964, 'eval_samples_per_second': 273.294, 'eval_steps_per_second': 37.114, 'epoch': 3.0}\n",
            "\n",
            "Starting Fold 2 for bert-base-multilingual-cased\n"
          ]
        },
        {
          "output_type": "display_data",
          "data": {
            "text/plain": [
              "<IPython.core.display.HTML object>"
            ],
            "text/html": [
              "\n",
              "    <div>\n",
              "      \n",
              "      <progress value='123' max='123' style='width:300px; height:20px; vertical-align: middle;'></progress>\n",
              "      [123/123 00:38, Epoch 3/3]\n",
              "    </div>\n",
              "    <table border=\"1\" class=\"dataframe\">\n",
              "  <thead>\n",
              " <tr style=\"text-align: left;\">\n",
              "      <th>Epoch</th>\n",
              "      <th>Training Loss</th>\n",
              "      <th>Validation Loss</th>\n",
              "      <th>Accuracy</th>\n",
              "      <th>F1</th>\n",
              "      <th>Precision</th>\n",
              "      <th>Recall</th>\n",
              "    </tr>\n",
              "  </thead>\n",
              "  <tbody>\n",
              "    <tr>\n",
              "      <td>1</td>\n",
              "      <td>No log</td>\n",
              "      <td>1.693400</td>\n",
              "      <td>0.407407</td>\n",
              "      <td>0.281227</td>\n",
              "      <td>0.245844</td>\n",
              "      <td>0.407407</td>\n",
              "    </tr>\n",
              "    <tr>\n",
              "      <td>2</td>\n",
              "      <td>No log</td>\n",
              "      <td>1.692833</td>\n",
              "      <td>0.419753</td>\n",
              "      <td>0.331198</td>\n",
              "      <td>0.310897</td>\n",
              "      <td>0.419753</td>\n",
              "    </tr>\n",
              "    <tr>\n",
              "      <td>3</td>\n",
              "      <td>No log</td>\n",
              "      <td>1.694503</td>\n",
              "      <td>0.407407</td>\n",
              "      <td>0.357654</td>\n",
              "      <td>0.329094</td>\n",
              "      <td>0.407407</td>\n",
              "    </tr>\n",
              "  </tbody>\n",
              "</table><p>"
            ]
          },
          "metadata": {}
        },
        {
          "output_type": "stream",
          "name": "stderr",
          "text": [
            "/usr/local/lib/python3.11/dist-packages/sklearn/metrics/_classification.py:1565: UndefinedMetricWarning:\n",
            "\n",
            "Precision is ill-defined and being set to 0.0 in labels with no predicted samples. Use `zero_division` parameter to control this behavior.\n",
            "\n",
            "/usr/local/lib/python3.11/dist-packages/sklearn/metrics/_classification.py:1565: UndefinedMetricWarning:\n",
            "\n",
            "Precision is ill-defined and being set to 0.0 in labels with no predicted samples. Use `zero_division` parameter to control this behavior.\n",
            "\n",
            "/usr/local/lib/python3.11/dist-packages/sklearn/metrics/_classification.py:1565: UndefinedMetricWarning:\n",
            "\n",
            "Precision is ill-defined and being set to 0.0 in labels with no predicted samples. Use `zero_division` parameter to control this behavior.\n",
            "\n"
          ]
        },
        {
          "output_type": "display_data",
          "data": {
            "text/plain": [
              "<IPython.core.display.HTML object>"
            ],
            "text/html": [
              "\n",
              "    <div>\n",
              "      \n",
              "      <progress value='11' max='11' style='width:300px; height:20px; vertical-align: middle;'></progress>\n",
              "      [11/11 00:00]\n",
              "    </div>\n",
              "    "
            ]
          },
          "metadata": {}
        },
        {
          "output_type": "stream",
          "name": "stderr",
          "text": [
            "/usr/local/lib/python3.11/dist-packages/sklearn/metrics/_classification.py:1565: UndefinedMetricWarning:\n",
            "\n",
            "Precision is ill-defined and being set to 0.0 in labels with no predicted samples. Use `zero_division` parameter to control this behavior.\n",
            "\n",
            "/usr/local/lib/python3.11/dist-packages/transformers/training_args.py:1575: FutureWarning:\n",
            "\n",
            "`evaluation_strategy` is deprecated and will be removed in version 4.46 of 🤗 Transformers. Use `eval_strategy` instead\n",
            "\n"
          ]
        },
        {
          "output_type": "stream",
          "name": "stdout",
          "text": [
            "Fold 2 Results for bert-base-multilingual-cased: {'eval_loss': 1.6928327083587646, 'eval_accuracy': 0.41975308641975306, 'eval_f1': 0.3311975007881441, 'eval_precision': 0.3108969919844624, 'eval_recall': 0.41975308641975306, 'eval_runtime': 0.3312, 'eval_samples_per_second': 244.571, 'eval_steps_per_second': 33.213, 'epoch': 3.0}\n",
            "\n",
            "Starting Fold 3 for bert-base-multilingual-cased\n"
          ]
        },
        {
          "output_type": "display_data",
          "data": {
            "text/plain": [
              "<IPython.core.display.HTML object>"
            ],
            "text/html": [
              "\n",
              "    <div>\n",
              "      \n",
              "      <progress value='123' max='123' style='width:300px; height:20px; vertical-align: middle;'></progress>\n",
              "      [123/123 00:41, Epoch 3/3]\n",
              "    </div>\n",
              "    <table border=\"1\" class=\"dataframe\">\n",
              "  <thead>\n",
              " <tr style=\"text-align: left;\">\n",
              "      <th>Epoch</th>\n",
              "      <th>Training Loss</th>\n",
              "      <th>Validation Loss</th>\n",
              "      <th>Accuracy</th>\n",
              "      <th>F1</th>\n",
              "      <th>Precision</th>\n",
              "      <th>Recall</th>\n",
              "    </tr>\n",
              "  </thead>\n",
              "  <tbody>\n",
              "    <tr>\n",
              "      <td>1</td>\n",
              "      <td>No log</td>\n",
              "      <td>1.668443</td>\n",
              "      <td>0.395062</td>\n",
              "      <td>0.308844</td>\n",
              "      <td>0.279822</td>\n",
              "      <td>0.395062</td>\n",
              "    </tr>\n",
              "    <tr>\n",
              "      <td>2</td>\n",
              "      <td>No log</td>\n",
              "      <td>1.623549</td>\n",
              "      <td>0.382716</td>\n",
              "      <td>0.285269</td>\n",
              "      <td>0.280342</td>\n",
              "      <td>0.382716</td>\n",
              "    </tr>\n",
              "    <tr>\n",
              "      <td>3</td>\n",
              "      <td>No log</td>\n",
              "      <td>1.477432</td>\n",
              "      <td>0.493827</td>\n",
              "      <td>0.419986</td>\n",
              "      <td>0.468398</td>\n",
              "      <td>0.493827</td>\n",
              "    </tr>\n",
              "  </tbody>\n",
              "</table><p>"
            ]
          },
          "metadata": {}
        },
        {
          "output_type": "stream",
          "name": "stderr",
          "text": [
            "/usr/local/lib/python3.11/dist-packages/sklearn/metrics/_classification.py:1565: UndefinedMetricWarning:\n",
            "\n",
            "Precision is ill-defined and being set to 0.0 in labels with no predicted samples. Use `zero_division` parameter to control this behavior.\n",
            "\n",
            "/usr/local/lib/python3.11/dist-packages/sklearn/metrics/_classification.py:1565: UndefinedMetricWarning:\n",
            "\n",
            "Precision is ill-defined and being set to 0.0 in labels with no predicted samples. Use `zero_division` parameter to control this behavior.\n",
            "\n",
            "/usr/local/lib/python3.11/dist-packages/sklearn/metrics/_classification.py:1565: UndefinedMetricWarning:\n",
            "\n",
            "Precision is ill-defined and being set to 0.0 in labels with no predicted samples. Use `zero_division` parameter to control this behavior.\n",
            "\n"
          ]
        },
        {
          "output_type": "display_data",
          "data": {
            "text/plain": [
              "<IPython.core.display.HTML object>"
            ],
            "text/html": [
              "\n",
              "    <div>\n",
              "      \n",
              "      <progress value='11' max='11' style='width:300px; height:20px; vertical-align: middle;'></progress>\n",
              "      [11/11 00:00]\n",
              "    </div>\n",
              "    "
            ]
          },
          "metadata": {}
        },
        {
          "output_type": "stream",
          "name": "stderr",
          "text": [
            "/usr/local/lib/python3.11/dist-packages/sklearn/metrics/_classification.py:1565: UndefinedMetricWarning:\n",
            "\n",
            "Precision is ill-defined and being set to 0.0 in labels with no predicted samples. Use `zero_division` parameter to control this behavior.\n",
            "\n",
            "/usr/local/lib/python3.11/dist-packages/transformers/training_args.py:1575: FutureWarning:\n",
            "\n",
            "`evaluation_strategy` is deprecated and will be removed in version 4.46 of 🤗 Transformers. Use `eval_strategy` instead\n",
            "\n"
          ]
        },
        {
          "output_type": "stream",
          "name": "stdout",
          "text": [
            "Fold 3 Results for bert-base-multilingual-cased: {'eval_loss': 1.4774324893951416, 'eval_accuracy': 0.49382716049382713, 'eval_f1': 0.4199855117049102, 'eval_precision': 0.4683981675595931, 'eval_recall': 0.49382716049382713, 'eval_runtime': 0.3145, 'eval_samples_per_second': 257.511, 'eval_steps_per_second': 34.971, 'epoch': 3.0}\n",
            "\n",
            "Starting Fold 4 for bert-base-multilingual-cased\n"
          ]
        },
        {
          "output_type": "display_data",
          "data": {
            "text/plain": [
              "<IPython.core.display.HTML object>"
            ],
            "text/html": [
              "\n",
              "    <div>\n",
              "      \n",
              "      <progress value='123' max='123' style='width:300px; height:20px; vertical-align: middle;'></progress>\n",
              "      [123/123 00:39, Epoch 3/3]\n",
              "    </div>\n",
              "    <table border=\"1\" class=\"dataframe\">\n",
              "  <thead>\n",
              " <tr style=\"text-align: left;\">\n",
              "      <th>Epoch</th>\n",
              "      <th>Training Loss</th>\n",
              "      <th>Validation Loss</th>\n",
              "      <th>Accuracy</th>\n",
              "      <th>F1</th>\n",
              "      <th>Precision</th>\n",
              "      <th>Recall</th>\n",
              "    </tr>\n",
              "  </thead>\n",
              "  <tbody>\n",
              "    <tr>\n",
              "      <td>1</td>\n",
              "      <td>No log</td>\n",
              "      <td>1.576184</td>\n",
              "      <td>0.481481</td>\n",
              "      <td>0.417168</td>\n",
              "      <td>0.390837</td>\n",
              "      <td>0.481481</td>\n",
              "    </tr>\n",
              "    <tr>\n",
              "      <td>2</td>\n",
              "      <td>No log</td>\n",
              "      <td>1.417665</td>\n",
              "      <td>0.518519</td>\n",
              "      <td>0.450988</td>\n",
              "      <td>0.443224</td>\n",
              "      <td>0.518519</td>\n",
              "    </tr>\n",
              "    <tr>\n",
              "      <td>3</td>\n",
              "      <td>No log</td>\n",
              "      <td>1.486526</td>\n",
              "      <td>0.518519</td>\n",
              "      <td>0.461180</td>\n",
              "      <td>0.450901</td>\n",
              "      <td>0.518519</td>\n",
              "    </tr>\n",
              "  </tbody>\n",
              "</table><p>"
            ]
          },
          "metadata": {}
        },
        {
          "output_type": "stream",
          "name": "stderr",
          "text": [
            "/usr/local/lib/python3.11/dist-packages/sklearn/metrics/_classification.py:1565: UndefinedMetricWarning:\n",
            "\n",
            "Precision is ill-defined and being set to 0.0 in labels with no predicted samples. Use `zero_division` parameter to control this behavior.\n",
            "\n",
            "/usr/local/lib/python3.11/dist-packages/sklearn/metrics/_classification.py:1565: UndefinedMetricWarning:\n",
            "\n",
            "Precision is ill-defined and being set to 0.0 in labels with no predicted samples. Use `zero_division` parameter to control this behavior.\n",
            "\n",
            "/usr/local/lib/python3.11/dist-packages/sklearn/metrics/_classification.py:1565: UndefinedMetricWarning:\n",
            "\n",
            "Precision is ill-defined and being set to 0.0 in labels with no predicted samples. Use `zero_division` parameter to control this behavior.\n",
            "\n"
          ]
        },
        {
          "output_type": "display_data",
          "data": {
            "text/plain": [
              "<IPython.core.display.HTML object>"
            ],
            "text/html": [
              "\n",
              "    <div>\n",
              "      \n",
              "      <progress value='11' max='11' style='width:300px; height:20px; vertical-align: middle;'></progress>\n",
              "      [11/11 00:00]\n",
              "    </div>\n",
              "    "
            ]
          },
          "metadata": {}
        },
        {
          "output_type": "stream",
          "name": "stderr",
          "text": [
            "/usr/local/lib/python3.11/dist-packages/sklearn/metrics/_classification.py:1565: UndefinedMetricWarning:\n",
            "\n",
            "Precision is ill-defined and being set to 0.0 in labels with no predicted samples. Use `zero_division` parameter to control this behavior.\n",
            "\n",
            "/usr/local/lib/python3.11/dist-packages/transformers/training_args.py:1575: FutureWarning:\n",
            "\n",
            "`evaluation_strategy` is deprecated and will be removed in version 4.46 of 🤗 Transformers. Use `eval_strategy` instead\n",
            "\n"
          ]
        },
        {
          "output_type": "stream",
          "name": "stdout",
          "text": [
            "Fold 4 Results for bert-base-multilingual-cased: {'eval_loss': 1.417664647102356, 'eval_accuracy': 0.5185185185185185, 'eval_f1': 0.4509882372959807, 'eval_precision': 0.44322413984373765, 'eval_recall': 0.5185185185185185, 'eval_runtime': 0.3262, 'eval_samples_per_second': 248.345, 'eval_steps_per_second': 33.726, 'epoch': 3.0}\n",
            "\n",
            "Starting Fold 5 for bert-base-multilingual-cased\n"
          ]
        },
        {
          "output_type": "display_data",
          "data": {
            "text/plain": [
              "<IPython.core.display.HTML object>"
            ],
            "text/html": [
              "\n",
              "    <div>\n",
              "      \n",
              "      <progress value='123' max='123' style='width:300px; height:20px; vertical-align: middle;'></progress>\n",
              "      [123/123 00:38, Epoch 3/3]\n",
              "    </div>\n",
              "    <table border=\"1\" class=\"dataframe\">\n",
              "  <thead>\n",
              " <tr style=\"text-align: left;\">\n",
              "      <th>Epoch</th>\n",
              "      <th>Training Loss</th>\n",
              "      <th>Validation Loss</th>\n",
              "      <th>Accuracy</th>\n",
              "      <th>F1</th>\n",
              "      <th>Precision</th>\n",
              "      <th>Recall</th>\n",
              "    </tr>\n",
              "  </thead>\n",
              "  <tbody>\n",
              "    <tr>\n",
              "      <td>1</td>\n",
              "      <td>No log</td>\n",
              "      <td>1.566967</td>\n",
              "      <td>0.487500</td>\n",
              "      <td>0.403552</td>\n",
              "      <td>0.421057</td>\n",
              "      <td>0.487500</td>\n",
              "    </tr>\n",
              "    <tr>\n",
              "      <td>2</td>\n",
              "      <td>No log</td>\n",
              "      <td>1.419656</td>\n",
              "      <td>0.512500</td>\n",
              "      <td>0.451595</td>\n",
              "      <td>0.431342</td>\n",
              "      <td>0.512500</td>\n",
              "    </tr>\n",
              "    <tr>\n",
              "      <td>3</td>\n",
              "      <td>No log</td>\n",
              "      <td>1.399424</td>\n",
              "      <td>0.525000</td>\n",
              "      <td>0.473687</td>\n",
              "      <td>0.509843</td>\n",
              "      <td>0.525000</td>\n",
              "    </tr>\n",
              "  </tbody>\n",
              "</table><p>"
            ]
          },
          "metadata": {}
        },
        {
          "output_type": "stream",
          "name": "stderr",
          "text": [
            "/usr/local/lib/python3.11/dist-packages/sklearn/metrics/_classification.py:1565: UndefinedMetricWarning:\n",
            "\n",
            "Precision is ill-defined and being set to 0.0 in labels with no predicted samples. Use `zero_division` parameter to control this behavior.\n",
            "\n",
            "/usr/local/lib/python3.11/dist-packages/sklearn/metrics/_classification.py:1565: UndefinedMetricWarning:\n",
            "\n",
            "Precision is ill-defined and being set to 0.0 in labels with no predicted samples. Use `zero_division` parameter to control this behavior.\n",
            "\n",
            "/usr/local/lib/python3.11/dist-packages/sklearn/metrics/_classification.py:1565: UndefinedMetricWarning:\n",
            "\n",
            "Precision is ill-defined and being set to 0.0 in labels with no predicted samples. Use `zero_division` parameter to control this behavior.\n",
            "\n"
          ]
        },
        {
          "output_type": "display_data",
          "data": {
            "text/plain": [
              "<IPython.core.display.HTML object>"
            ],
            "text/html": [
              "\n",
              "    <div>\n",
              "      \n",
              "      <progress value='10' max='10' style='width:300px; height:20px; vertical-align: middle;'></progress>\n",
              "      [10/10 00:00]\n",
              "    </div>\n",
              "    "
            ]
          },
          "metadata": {}
        },
        {
          "output_type": "stream",
          "name": "stderr",
          "text": [
            "/usr/local/lib/python3.11/dist-packages/sklearn/metrics/_classification.py:1565: UndefinedMetricWarning:\n",
            "\n",
            "Precision is ill-defined and being set to 0.0 in labels with no predicted samples. Use `zero_division` parameter to control this behavior.\n",
            "\n"
          ]
        },
        {
          "output_type": "stream",
          "name": "stdout",
          "text": [
            "Fold 5 Results for bert-base-multilingual-cased: {'eval_loss': 1.3994238376617432, 'eval_accuracy': 0.525, 'eval_f1': 0.47368742368742367, 'eval_precision': 0.5098432817182817, 'eval_recall': 0.525, 'eval_runtime': 0.2683, 'eval_samples_per_second': 298.128, 'eval_steps_per_second': 37.266, 'epoch': 3.0}\n",
            "\n",
            "Final Results Across Models:\n",
            "                       Model  Avg_Accuracy   Avg_F1  Avg_Precision  Avg_Recall\n",
            "bert-base-multilingual-cased      0.470432 0.394985       0.399639    0.470432\n"
          ]
        }
      ]
    },
    {
      "cell_type": "code",
      "source": [
        "from transformers import AutoTokenizer, AutoModelForSequenceClassification\n",
        "from transformers import Trainer\n",
        "import numpy as np\n",
        "from sklearn.metrics import classification_report\n",
        "\n",
        "# Load the saved model and tokenizer\n",
        "saved_model_path = \"./bert-base-multilingual-cased_Combined\"\n",
        "model = AutoModelForSequenceClassification.from_pretrained(saved_model_path)\n",
        "tokenizer = AutoTokenizer.from_pretrained(saved_model_path)\n",
        "\n",
        "# Reinitialize the Trainer with the loaded model\n",
        "trainer = Trainer(\n",
        "    model=model,\n",
        "    args=training_args,\n",
        "    eval_dataset=val_dataset,\n",
        "    tokenizer=tokenizer,\n",
        ")\n",
        "\n",
        "# Evaluate the model\n",
        "trainer.evaluate()\n",
        "\n",
        "# Make predictions\n",
        "predictions = trainer.predict(val_dataset)\n",
        "\n",
        "# Decode predicted labels\n",
        "predicted_labels = np.argmax(predictions.predictions, axis=1)\n",
        "\n",
        "from sklearn.metrics import classification_report\n",
        "import numpy as np\n",
        "\n",
        "# Decode predicted labels\n",
        "predictions = trainer.predict(val_dataset)\n",
        "predicted_labels = np.argmax(predictions.predictions, axis=1)\n",
        "\n",
        "# Debugging output\n",
        "print(\"Predicted classes:\", len(np.unique(predicted_labels)))\n",
        "print(\"Label Encoder classes:\", len(label_encoder.classes_))\n",
        "\n",
        "\n",
        "all_labels = list(range(len(label_encoder.classes_)))\n",
        "target_names = label_encoder.classes_\n",
        "\n",
        "# Print the classification report\n",
        "print(classification_report(\n",
        "    val_labels,\n",
        "    predicted_labels,\n",
        "    labels=all_labels,\n",
        "    target_names=target_names,\n",
        "    zero_division=0\n",
        "))"
      ],
      "metadata": {
        "colab": {
          "base_uri": "https://localhost:8080/",
          "height": 472
        },
        "id": "bkFS38IxPjUN",
        "outputId": "5a27e8e2-1e03-4d61-ad7d-24778ddb9c15"
      },
      "execution_count": 24,
      "outputs": [
        {
          "output_type": "stream",
          "name": "stderr",
          "text": [
            "<ipython-input-24-f1c3dccdf36f>:12: FutureWarning:\n",
            "\n",
            "`tokenizer` is deprecated and will be removed in version 5.0.0 for `Trainer.__init__`. Use `processing_class` instead.\n",
            "\n"
          ]
        },
        {
          "output_type": "display_data",
          "data": {
            "text/plain": [
              "<IPython.core.display.HTML object>"
            ],
            "text/html": []
          },
          "metadata": {}
        },
        {
          "output_type": "display_data",
          "data": {
            "text/plain": [
              "<IPython.core.display.HTML object>"
            ],
            "text/html": []
          },
          "metadata": {}
        },
        {
          "output_type": "stream",
          "name": "stdout",
          "text": [
            "Predicted classes: 6\n",
            "Label Encoder classes: 10\n"
          ]
        },
        {
          "output_type": "error",
          "ename": "TypeError",
          "evalue": "object of type 'float' has no len()",
          "traceback": [
            "\u001b[0;31m---------------------------------------------------------------------------\u001b[0m",
            "\u001b[0;31mTypeError\u001b[0m                                 Traceback (most recent call last)",
            "\u001b[0;32m<ipython-input-24-f1c3dccdf36f>\u001b[0m in \u001b[0;36m<cell line: 0>\u001b[0;34m()\u001b[0m\n\u001b[1;32m     42\u001b[0m \u001b[0;34m\u001b[0m\u001b[0m\n\u001b[1;32m     43\u001b[0m \u001b[0;31m# Print the classification report\u001b[0m\u001b[0;34m\u001b[0m\u001b[0;34m\u001b[0m\u001b[0m\n\u001b[0;32m---> 44\u001b[0;31m print(classification_report(\n\u001b[0m\u001b[1;32m     45\u001b[0m     \u001b[0mval_labels\u001b[0m\u001b[0;34m,\u001b[0m\u001b[0;34m\u001b[0m\u001b[0;34m\u001b[0m\u001b[0m\n\u001b[1;32m     46\u001b[0m     \u001b[0mpredicted_labels\u001b[0m\u001b[0;34m,\u001b[0m\u001b[0;34m\u001b[0m\u001b[0;34m\u001b[0m\u001b[0m\n",
            "\u001b[0;32m/usr/local/lib/python3.11/dist-packages/sklearn/utils/_param_validation.py\u001b[0m in \u001b[0;36mwrapper\u001b[0;34m(*args, **kwargs)\u001b[0m\n\u001b[1;32m    214\u001b[0m                     )\n\u001b[1;32m    215\u001b[0m                 ):\n\u001b[0;32m--> 216\u001b[0;31m                     \u001b[0;32mreturn\u001b[0m \u001b[0mfunc\u001b[0m\u001b[0;34m(\u001b[0m\u001b[0;34m*\u001b[0m\u001b[0margs\u001b[0m\u001b[0;34m,\u001b[0m \u001b[0;34m**\u001b[0m\u001b[0mkwargs\u001b[0m\u001b[0;34m)\u001b[0m\u001b[0;34m\u001b[0m\u001b[0;34m\u001b[0m\u001b[0m\n\u001b[0m\u001b[1;32m    217\u001b[0m             \u001b[0;32mexcept\u001b[0m \u001b[0mInvalidParameterError\u001b[0m \u001b[0;32mas\u001b[0m \u001b[0me\u001b[0m\u001b[0;34m:\u001b[0m\u001b[0;34m\u001b[0m\u001b[0;34m\u001b[0m\u001b[0m\n\u001b[1;32m    218\u001b[0m                 \u001b[0;31m# When the function is just a wrapper around an estimator, we allow\u001b[0m\u001b[0;34m\u001b[0m\u001b[0;34m\u001b[0m\u001b[0m\n",
            "\u001b[0;32m/usr/local/lib/python3.11/dist-packages/sklearn/metrics/_classification.py\u001b[0m in \u001b[0;36mclassification_report\u001b[0;34m(y_true, y_pred, labels, target_names, sample_weight, digits, output_dict, zero_division)\u001b[0m\n\u001b[1;32m   2722\u001b[0m     \u001b[0;32melse\u001b[0m\u001b[0;34m:\u001b[0m\u001b[0;34m\u001b[0m\u001b[0;34m\u001b[0m\u001b[0m\n\u001b[1;32m   2723\u001b[0m         \u001b[0mlongest_last_line_heading\u001b[0m \u001b[0;34m=\u001b[0m \u001b[0;34m\"weighted avg\"\u001b[0m\u001b[0;34m\u001b[0m\u001b[0;34m\u001b[0m\u001b[0m\n\u001b[0;32m-> 2724\u001b[0;31m         \u001b[0mname_width\u001b[0m \u001b[0;34m=\u001b[0m \u001b[0mmax\u001b[0m\u001b[0;34m(\u001b[0m\u001b[0mlen\u001b[0m\u001b[0;34m(\u001b[0m\u001b[0mcn\u001b[0m\u001b[0;34m)\u001b[0m \u001b[0;32mfor\u001b[0m \u001b[0mcn\u001b[0m \u001b[0;32min\u001b[0m \u001b[0mtarget_names\u001b[0m\u001b[0;34m)\u001b[0m\u001b[0;34m\u001b[0m\u001b[0;34m\u001b[0m\u001b[0m\n\u001b[0m\u001b[1;32m   2725\u001b[0m         \u001b[0mwidth\u001b[0m \u001b[0;34m=\u001b[0m \u001b[0mmax\u001b[0m\u001b[0;34m(\u001b[0m\u001b[0mname_width\u001b[0m\u001b[0;34m,\u001b[0m \u001b[0mlen\u001b[0m\u001b[0;34m(\u001b[0m\u001b[0mlongest_last_line_heading\u001b[0m\u001b[0;34m)\u001b[0m\u001b[0;34m,\u001b[0m \u001b[0mdigits\u001b[0m\u001b[0;34m)\u001b[0m\u001b[0;34m\u001b[0m\u001b[0;34m\u001b[0m\u001b[0m\n\u001b[1;32m   2726\u001b[0m         \u001b[0mhead_fmt\u001b[0m \u001b[0;34m=\u001b[0m \u001b[0;34m\"{:>{width}s} \"\u001b[0m \u001b[0;34m+\u001b[0m \u001b[0;34m\" {:>9}\"\u001b[0m \u001b[0;34m*\u001b[0m \u001b[0mlen\u001b[0m\u001b[0;34m(\u001b[0m\u001b[0mheaders\u001b[0m\u001b[0;34m)\u001b[0m\u001b[0;34m\u001b[0m\u001b[0;34m\u001b[0m\u001b[0m\n",
            "\u001b[0;32m/usr/local/lib/python3.11/dist-packages/sklearn/metrics/_classification.py\u001b[0m in \u001b[0;36m<genexpr>\u001b[0;34m(.0)\u001b[0m\n\u001b[1;32m   2722\u001b[0m     \u001b[0;32melse\u001b[0m\u001b[0;34m:\u001b[0m\u001b[0;34m\u001b[0m\u001b[0;34m\u001b[0m\u001b[0m\n\u001b[1;32m   2723\u001b[0m         \u001b[0mlongest_last_line_heading\u001b[0m \u001b[0;34m=\u001b[0m \u001b[0;34m\"weighted avg\"\u001b[0m\u001b[0;34m\u001b[0m\u001b[0;34m\u001b[0m\u001b[0m\n\u001b[0;32m-> 2724\u001b[0;31m         \u001b[0mname_width\u001b[0m \u001b[0;34m=\u001b[0m \u001b[0mmax\u001b[0m\u001b[0;34m(\u001b[0m\u001b[0mlen\u001b[0m\u001b[0;34m(\u001b[0m\u001b[0mcn\u001b[0m\u001b[0;34m)\u001b[0m \u001b[0;32mfor\u001b[0m \u001b[0mcn\u001b[0m \u001b[0;32min\u001b[0m \u001b[0mtarget_names\u001b[0m\u001b[0;34m)\u001b[0m\u001b[0;34m\u001b[0m\u001b[0;34m\u001b[0m\u001b[0m\n\u001b[0m\u001b[1;32m   2725\u001b[0m         \u001b[0mwidth\u001b[0m \u001b[0;34m=\u001b[0m \u001b[0mmax\u001b[0m\u001b[0;34m(\u001b[0m\u001b[0mname_width\u001b[0m\u001b[0;34m,\u001b[0m \u001b[0mlen\u001b[0m\u001b[0;34m(\u001b[0m\u001b[0mlongest_last_line_heading\u001b[0m\u001b[0;34m)\u001b[0m\u001b[0;34m,\u001b[0m \u001b[0mdigits\u001b[0m\u001b[0;34m)\u001b[0m\u001b[0;34m\u001b[0m\u001b[0;34m\u001b[0m\u001b[0m\n\u001b[1;32m   2726\u001b[0m         \u001b[0mhead_fmt\u001b[0m \u001b[0;34m=\u001b[0m \u001b[0;34m\"{:>{width}s} \"\u001b[0m \u001b[0;34m+\u001b[0m \u001b[0;34m\" {:>9}\"\u001b[0m \u001b[0;34m*\u001b[0m \u001b[0mlen\u001b[0m\u001b[0;34m(\u001b[0m\u001b[0mheaders\u001b[0m\u001b[0;34m)\u001b[0m\u001b[0;34m\u001b[0m\u001b[0;34m\u001b[0m\u001b[0m\n",
            "\u001b[0;31mTypeError\u001b[0m: object of type 'float' has no len()"
          ]
        }
      ]
    },
    {
      "cell_type": "markdown",
      "source": [
        "\n",
        "\n",
        "> # Model #2 standard French only\n",
        "\n"
      ],
      "metadata": {
        "id": "IgCPSwm0kTyd"
      }
    },
    {
      "cell_type": "markdown",
      "source": [
        "# `**This model only uses the \"Standard\" version of the text and the \"Categories\" for classification.**`\n"
      ],
      "metadata": {
        "id": "5Y4FRY8Jke4E"
      }
    },
    {
      "cell_type": "markdown",
      "source": [
        "## ** Implementing Weighted Loss for Imbalanced Classes**\n",
        "To **handle imbalanced class representation**, we compute **class weights**:\n",
        "```python\n",
        "class_counts = data['Typology Encoded'].value_counts()\n",
        "class_weights = torch.tensor([1.0 / count * len(data) / 2.0 for count in class_counts])\n",
        "```\n",
        "We define a **custom loss function** to apply these weights:\n",
        "```python\n",
        "class CustomTrainer(Trainer):\n",
        "    def compute_loss(self, model, inputs, return_outputs=False, **kwargs):\n",
        "        labels = inputs.pop(\"labels\")\n",
        "        outputs = model(**inputs)\n",
        "        logits = outputs.logits\n",
        "        loss_fct = torch.nn.CrossEntropyLoss(weight=class_weights.to(logits.device))\n",
        "        loss = loss_fct(logits, labels)\n",
        "        return (loss, outputs) if return_outputs else loss\n",
        "```\n",
        "\n",
        "✅ **Why?**  \n",
        "- Prevents **majority classes from dominating** training.\n",
        "- Encourages the model to learn from **underrepresented classes**.\n",
        "\n",
        "\n",
        "> Only Complex\n",
        "\n",
        "## **Summary of Improvements**\n",
        "### ✅ **What We Did and Why?**\n",
        "| **Step** | **What We Did** | **Why?** |\n",
        "|----------|----------------|----------|\n",
        "| **Data Cleaning** | Removed missing values, standardized labels | Ensures consistency and avoids errors |\n",
        "| **Data Augmentation** | Used T5-small to paraphrase rare class samples | Balances class distribution |\n",
        "| **Stratified K-Fold CV** | Used 5-fold cross-validation | Ensures robust evaluation |\n",
        "| **Class Weights** | Adjusted loss function with computed class weights | Prevents bias towards majority classes |\n",
        "| **Training Optimization** | Used mixed precision (`fp16`), gradient checkpointing, and early stopping | Speeds up training and prevents overfitting |\n",
        "| **Performance Logging** | Stored detailed per-epoch, per-fold, and aggregated metrics | Enables deep analysis of model behavior |\n",
        "\n",
        "---"
      ],
      "metadata": {
        "id": "90Z_u0ZzPHui"
      }
    },
    {
      "cell_type": "code",
      "source": [
        "import pandas as pd\n",
        "import torch\n",
        "import time\n",
        "from sklearn.preprocessing import LabelEncoder\n",
        "from sklearn.model_selection import StratifiedKFold\n",
        "from transformers import (\n",
        "    AutoTokenizer,\n",
        "    AutoModelForSequenceClassification,\n",
        "    TrainingArguments,\n",
        "    Trainer,\n",
        "    DataCollatorWithPadding,\n",
        "    EarlyStoppingCallback\n",
        ")\n",
        "from sklearn.metrics import precision_recall_fscore_support, accuracy_score\n",
        "\n",
        "\n",
        "data = data.dropna(subset=['Version initiale', 'Catégorie'])\n",
        "data['Typology'] = data['Catégorie'].str.replace(\"\\xa0\", \"\").str.replace(\" \", \"\")  # Remove non-breaking spaces and regular spaces from the Typology column\n",
        "from transformers import pipeline\n",
        "\n",
        "paraphraser = pipeline(\"text2text-generation\", model=\"t5-small\")\n",
        "\n",
        "underrepresented_classes = data['Catégorie'].value_counts().tail(3).index.tolist()\n",
        "paraphraser = pipeline(\"text2text-generation\", model=\"t5-small\")\n",
        "\n",
        "def augment_text(text):\n",
        "    augmented = paraphraser(text, max_length=100, num_return_sequences=1)\n",
        "    return augmented[0]['generated_text']\n",
        "\n",
        "# Apply paraphrasing\n",
        "augmented_data = []\n",
        "for typology in underrepresented_classes:\n",
        "    class_data = data[data['Typology'] == typology]\n",
        "    for _, row in class_data.iterrows():\n",
        "        augmented_text = augment_text(row['Version initiale'])\n",
        "        augmented_data.append({'Version initiale': augmented_text, 'Typology': typology})\n",
        "\n",
        "# Append augmented data\n",
        "augmented_df = pd.DataFrame(augmented_data)\n",
        "data = pd.concat([data, augmented_df], ignore_index=True)\n",
        "\n",
        "\n",
        "# Encode Typologies\n",
        "label_encoder = LabelEncoder()\n",
        "data['Typology Encoded'] = label_encoder.fit_transform(data['Typology'])\n",
        "\n",
        "# Calculate class weights\n",
        "class_counts = data['Typology Encoded'].value_counts()\n",
        "class_weights = torch.tensor([1.0 / count * len(data) / 2.0 for count in class_counts])\n",
        "\n",
        "# Prepare Models and Loop Over Them\n",
        "models_to_test = [\n",
        "\n",
        "    \"bert-base-multilingual-cased\",\n",
        "\n",
        "]\n",
        "\n",
        "all_model_results = []\n",
        "skf = StratifiedKFold(n_splits=5)\n",
        "detailed_results = []  # Collect per-fold and per-epoch results\n",
        "aggregated_summary = []  # Aggregated summary for each model\n",
        "\n",
        "# Define a Custom Trainer to Incorporate Class Weights\n",
        "class CustomTrainer(Trainer):\n",
        "    def compute_loss(self, model, inputs, return_outputs=False, **kwargs):\n",
        "        labels = inputs.pop(\"labels\")\n",
        "        outputs = model(**inputs)\n",
        "        logits = outputs.logits\n",
        "        loss_fct = torch.nn.CrossEntropyLoss(weight=class_weights.to(logits.device))  # Use class weights\n",
        "        loss = loss_fct(logits, labels)\n",
        "        return (loss, outputs) if return_outputs else loss\n",
        "\n",
        "for model_name in models_to_test:\n",
        "\n",
        "    print(f\"\\nStarting model: {model_name}\")\n",
        "\n",
        "    tokenizer = AutoTokenizer.from_pretrained(model_name)\n",
        "    model = AutoModelForSequenceClassification.from_pretrained(\n",
        "        model_name,\n",
        "        num_labels=len(label_encoder.classes_)\n",
        "    )\n",
        "\n",
        "    fold_metrics = []\n",
        "    model_start_time = time.time()\n",
        "\n",
        "    for fold, (train_index, val_index) in enumerate(skf.split(data['Version initiale'], data['Typology Encoded'])):\n",
        "        print(f\"\\nStarting Fold {fold + 1} for {model_name}\")\n",
        "\n",
        "        # Split Data\n",
        "        train_texts, val_texts = data['Version initiale'].iloc[train_index], data['Version initiale'].iloc[val_index]\n",
        "        train_labels, val_labels = data['Typology Encoded'].iloc[train_index], data['Typology Encoded'].iloc[val_index]\n",
        "\n",
        "        def tokenize_function(texts):\n",
        "            return tokenizer(list(texts), padding=True, truncation=True, max_length=512)\n",
        "\n",
        "        train_encodings = tokenize_function(train_texts)\n",
        "        val_encodings = tokenize_function(val_texts)\n",
        "\n",
        "        train_labels = torch.tensor(train_labels.values, dtype=torch.long)\n",
        "        val_labels = torch.tensor(val_labels.values, dtype=torch.long)\n",
        "\n",
        "        class Dataset(torch.utils.data.Dataset):\n",
        "            def __init__(self, encodings, labels):\n",
        "                self.encodings = encodings\n",
        "                self.labels = labels\n",
        "\n",
        "            def __len__(self):\n",
        "                return len(self.labels)\n",
        "\n",
        "            def __getitem__(self, idx):\n",
        "                item = {key: torch.tensor(val[idx]) for key, val in self.encodings.items()}\n",
        "                item['labels'] = self.labels[idx]\n",
        "                return item\n",
        "\n",
        "        train_dataset = Dataset(train_encodings, train_labels)\n",
        "        val_dataset = Dataset(val_encodings, val_labels)\n",
        "\n",
        "        # Training Arguments\n",
        "        training_args = TrainingArguments(\n",
        "            output_dir=f\"./results/{model_name}_fold_{fold}\",\n",
        "            evaluation_strategy=\"epoch\",\n",
        "            save_strategy=\"epoch\",\n",
        "            learning_rate=5e-6,\n",
        "            per_device_train_batch_size=8,\n",
        "            per_device_eval_batch_size=8,\n",
        "            num_train_epochs=5,  # High number; EarlyStopping will handle stopping\n",
        "            weight_decay=0.01,\n",
        "            logging_dir=f\"./logs/{model_name}_fold_{fold}\",\n",
        "            save_total_limit=2,\n",
        "            load_best_model_at_end=True,\n",
        "            gradient_accumulation_steps=1,\n",
        "            fp16=True,\n",
        "            gradient_checkpointing=True,\n",
        "            max_grad_norm=1.0  # Gradient clipping\n",
        "        )\n",
        "\n",
        "        # Define Metrics\n",
        "        def compute_metrics(pred):\n",
        "            predictions = pred.predictions.argmax(-1)\n",
        "            labels = pred.label_ids\n",
        "            precision, recall, f1, _ = precision_recall_fscore_support(labels, predictions, average='weighted')\n",
        "            accuracy = accuracy_score(labels, predictions)\n",
        "            return {\n",
        "                \"eval_precision\": precision,\n",
        "                \"eval_recall\": recall,\n",
        "                \"eval_f1\": f1,\n",
        "                \"eval_accuracy\": accuracy\n",
        "            }\n",
        "\n",
        "        data_collator = DataCollatorWithPadding(tokenizer=tokenizer)\n",
        "        trainer = CustomTrainer(\n",
        "            model=model,\n",
        "            args=training_args,\n",
        "            train_dataset=train_dataset,\n",
        "            eval_dataset=val_dataset,\n",
        "            data_collator=data_collator,\n",
        "            compute_metrics=compute_metrics,\n",
        "            callbacks=[EarlyStoppingCallback(early_stopping_patience=3)]  # Early stopping\n",
        "        )\n",
        "\n",
        "        # Train and Evaluate\n",
        "        trainer.train()\n",
        "        for epoch in range(int(trainer.state.epoch)):  # Collect metrics per epoch\n",
        "            epoch_results = trainer.evaluate()\n",
        "            epoch_results.update({\"Model\": model_name, \"Fold\": fold + 1, \"Epoch\": epoch + 1})\n",
        "            detailed_results.append(epoch_results)\n",
        "\n",
        "        evaluation_results = trainer.evaluate()\n",
        "        print(f\"Fold {fold + 1} Results for {model_name}: {evaluation_results}\")\n",
        "\n",
        "        # Collect metrics for the fold\n",
        "        fold_metrics.append(evaluation_results)\n",
        "\n",
        "    # Calculate average metrics across folds\n",
        "    avg_precision = sum([m['eval_precision'] for m in fold_metrics]) / len(fold_metrics)\n",
        "    avg_recall = sum([m['eval_recall'] for m in fold_metrics]) / len(fold_metrics)\n",
        "    avg_f1 = sum([m['eval_f1'] for m in fold_metrics]) / len(fold_metrics)\n",
        "    avg_accuracy = sum([m['eval_accuracy'] for m in fold_metrics]) / len(fold_metrics)\n",
        "\n",
        "    # Calculate training time\n",
        "    model_training_time = time.time() - model_start_time\n",
        "\n",
        "\n",
        "\n",
        "    # Add to final model results\n",
        "    all_model_results.append({\n",
        "        \"Model\": model_name,\n",
        "        \"Avg_Precision\": avg_precision,\n",
        "        \"Avg_Recall\": avg_recall,\n",
        "        \"Avg_F1\": avg_f1,\n",
        "        \"Avg_Accuracy\": avg_accuracy,\n",
        "        \"Training_Time_Seconds\": model_training_time\n",
        "    })\n",
        "\n",
        "\n",
        "    # Add aggregated summary for this model\n",
        "    aggregated_summary.append({\n",
        "        \"Model\": model_name,\n",
        "        \"Avg_Precision\": avg_precision,\n",
        "        \"Avg_Recall\": avg_recall,\n",
        "        \"Avg_F1\": avg_f1,\n",
        "        \"Avg_Accuracy\": avg_accuracy,\n",
        "        \"Training_Time_Seconds\": model_training_time\n",
        "    })\n",
        "\n",
        "    # Save Model and Tokenizer\n",
        "    model.save_pretrained(f\"./{model_name}_complex\")\n",
        "    tokenizer.save_pretrained(f\"./{model_name}_complex\")\n",
        "\n",
        "# Create a DataFrame for final results\n",
        "final_results_df = pd.DataFrame(all_model_results)\n",
        "final_results_df.to_csv(\"complex_model_results.csv\", index=False)\n",
        "print(\"\\nFinal Results Across Models:\")\n",
        "print(final_results_df)\n",
        "\n",
        "# Create a DataFrame for detailed results\n",
        "detailed_results_df = pd.DataFrame(detailed_results)\n",
        "detailed_results_df.to_csv(\"Complex_detailed_model_results.csv\", index=False)\n",
        "print(\"\\nDetailed Results Per Fold and Epoch:\")\n",
        "print(detailed_results_df)\n",
        "\n",
        "# Create a DataFrame for aggregated summary\n",
        "aggregated_summary_df = pd.DataFrame(aggregated_summary)\n",
        "aggregated_summary_df.to_csv(\"Complex_aggregated_model_summary.csv\", index=False)\n",
        "print(\"\\nAggregated Summary for Each Model:\")\n",
        "print(aggregated_summary_df)\n"
      ],
      "metadata": {
        "colab": {
          "base_uri": "https://localhost:8080/",
          "height": 1000
        },
        "id": "VHXQ-D42_zLL",
        "outputId": "a826348f-c26f-4d7e-d972-33815240ab20"
      },
      "execution_count": 25,
      "outputs": [
        {
          "output_type": "stream",
          "name": "stderr",
          "text": [
            "<ipython-input-25-20a44b88cec9>:18: SettingWithCopyWarning:\n",
            "\n",
            "\n",
            "A value is trying to be set on a copy of a slice from a DataFrame.\n",
            "Try using .loc[row_indexer,col_indexer] = value instead\n",
            "\n",
            "See the caveats in the documentation: https://pandas.pydata.org/pandas-docs/stable/user_guide/indexing.html#returning-a-view-versus-a-copy\n",
            "\n",
            "Device set to use cuda:0\n",
            "Device set to use cuda:0\n"
          ]
        },
        {
          "output_type": "stream",
          "name": "stdout",
          "text": [
            "\n",
            "Starting model: bert-base-multilingual-cased\n"
          ]
        },
        {
          "output_type": "stream",
          "name": "stderr",
          "text": [
            "Some weights of BertForSequenceClassification were not initialized from the model checkpoint at bert-base-multilingual-cased and are newly initialized: ['classifier.bias', 'classifier.weight']\n",
            "You should probably TRAIN this model on a down-stream task to be able to use it for predictions and inference.\n",
            "/usr/local/lib/python3.11/dist-packages/transformers/training_args.py:1575: FutureWarning:\n",
            "\n",
            "`evaluation_strategy` is deprecated and will be removed in version 4.46 of 🤗 Transformers. Use `eval_strategy` instead\n",
            "\n"
          ]
        },
        {
          "output_type": "stream",
          "name": "stdout",
          "text": [
            "\n",
            "Starting Fold 1 for bert-base-multilingual-cased\n"
          ]
        },
        {
          "output_type": "display_data",
          "data": {
            "text/plain": [
              "<IPython.core.display.HTML object>"
            ],
            "text/html": [
              "\n",
              "    <div>\n",
              "      \n",
              "      <progress value='205' max='205' style='width:300px; height:20px; vertical-align: middle;'></progress>\n",
              "      [205/205 01:01, Epoch 5/5]\n",
              "    </div>\n",
              "    <table border=\"1\" class=\"dataframe\">\n",
              "  <thead>\n",
              " <tr style=\"text-align: left;\">\n",
              "      <th>Epoch</th>\n",
              "      <th>Training Loss</th>\n",
              "      <th>Validation Loss</th>\n",
              "      <th>Precision</th>\n",
              "      <th>Recall</th>\n",
              "      <th>F1</th>\n",
              "      <th>Accuracy</th>\n",
              "    </tr>\n",
              "  </thead>\n",
              "  <tbody>\n",
              "    <tr>\n",
              "      <td>1</td>\n",
              "      <td>No log</td>\n",
              "      <td>2.028586</td>\n",
              "      <td>0.051196</td>\n",
              "      <td>0.148148</td>\n",
              "      <td>0.059914</td>\n",
              "      <td>0.148148</td>\n",
              "    </tr>\n",
              "    <tr>\n",
              "      <td>2</td>\n",
              "      <td>No log</td>\n",
              "      <td>1.966519</td>\n",
              "      <td>0.048468</td>\n",
              "      <td>0.160494</td>\n",
              "      <td>0.069212</td>\n",
              "      <td>0.160494</td>\n",
              "    </tr>\n",
              "    <tr>\n",
              "      <td>3</td>\n",
              "      <td>No log</td>\n",
              "      <td>1.951368</td>\n",
              "      <td>0.044631</td>\n",
              "      <td>0.160494</td>\n",
              "      <td>0.067530</td>\n",
              "      <td>0.160494</td>\n",
              "    </tr>\n",
              "    <tr>\n",
              "      <td>4</td>\n",
              "      <td>No log</td>\n",
              "      <td>1.935617</td>\n",
              "      <td>0.045043</td>\n",
              "      <td>0.160494</td>\n",
              "      <td>0.068055</td>\n",
              "      <td>0.160494</td>\n",
              "    </tr>\n",
              "    <tr>\n",
              "      <td>5</td>\n",
              "      <td>No log</td>\n",
              "      <td>1.927495</td>\n",
              "      <td>0.044608</td>\n",
              "      <td>0.160494</td>\n",
              "      <td>0.067934</td>\n",
              "      <td>0.160494</td>\n",
              "    </tr>\n",
              "  </tbody>\n",
              "</table><p>"
            ]
          },
          "metadata": {}
        },
        {
          "output_type": "stream",
          "name": "stderr",
          "text": [
            "/usr/local/lib/python3.11/dist-packages/sklearn/metrics/_classification.py:1565: UndefinedMetricWarning:\n",
            "\n",
            "Precision is ill-defined and being set to 0.0 in labels with no predicted samples. Use `zero_division` parameter to control this behavior.\n",
            "\n",
            "/usr/local/lib/python3.11/dist-packages/sklearn/metrics/_classification.py:1565: UndefinedMetricWarning:\n",
            "\n",
            "Precision is ill-defined and being set to 0.0 in labels with no predicted samples. Use `zero_division` parameter to control this behavior.\n",
            "\n",
            "/usr/local/lib/python3.11/dist-packages/sklearn/metrics/_classification.py:1565: UndefinedMetricWarning:\n",
            "\n",
            "Precision is ill-defined and being set to 0.0 in labels with no predicted samples. Use `zero_division` parameter to control this behavior.\n",
            "\n",
            "/usr/local/lib/python3.11/dist-packages/sklearn/metrics/_classification.py:1565: UndefinedMetricWarning:\n",
            "\n",
            "Precision is ill-defined and being set to 0.0 in labels with no predicted samples. Use `zero_division` parameter to control this behavior.\n",
            "\n",
            "/usr/local/lib/python3.11/dist-packages/sklearn/metrics/_classification.py:1565: UndefinedMetricWarning:\n",
            "\n",
            "Precision is ill-defined and being set to 0.0 in labels with no predicted samples. Use `zero_division` parameter to control this behavior.\n",
            "\n"
          ]
        },
        {
          "output_type": "display_data",
          "data": {
            "text/plain": [
              "<IPython.core.display.HTML object>"
            ],
            "text/html": [
              "\n",
              "    <div>\n",
              "      \n",
              "      <progress value='66' max='11' style='width:300px; height:20px; vertical-align: middle;'></progress>\n",
              "      [11/11 00:01]\n",
              "    </div>\n",
              "    "
            ]
          },
          "metadata": {}
        },
        {
          "output_type": "stream",
          "name": "stderr",
          "text": [
            "/usr/local/lib/python3.11/dist-packages/sklearn/metrics/_classification.py:1565: UndefinedMetricWarning:\n",
            "\n",
            "Precision is ill-defined and being set to 0.0 in labels with no predicted samples. Use `zero_division` parameter to control this behavior.\n",
            "\n",
            "/usr/local/lib/python3.11/dist-packages/sklearn/metrics/_classification.py:1565: UndefinedMetricWarning:\n",
            "\n",
            "Precision is ill-defined and being set to 0.0 in labels with no predicted samples. Use `zero_division` parameter to control this behavior.\n",
            "\n",
            "/usr/local/lib/python3.11/dist-packages/sklearn/metrics/_classification.py:1565: UndefinedMetricWarning:\n",
            "\n",
            "Precision is ill-defined and being set to 0.0 in labels with no predicted samples. Use `zero_division` parameter to control this behavior.\n",
            "\n",
            "/usr/local/lib/python3.11/dist-packages/sklearn/metrics/_classification.py:1565: UndefinedMetricWarning:\n",
            "\n",
            "Precision is ill-defined and being set to 0.0 in labels with no predicted samples. Use `zero_division` parameter to control this behavior.\n",
            "\n",
            "/usr/local/lib/python3.11/dist-packages/sklearn/metrics/_classification.py:1565: UndefinedMetricWarning:\n",
            "\n",
            "Precision is ill-defined and being set to 0.0 in labels with no predicted samples. Use `zero_division` parameter to control this behavior.\n",
            "\n",
            "/usr/local/lib/python3.11/dist-packages/sklearn/metrics/_classification.py:1565: UndefinedMetricWarning:\n",
            "\n",
            "Precision is ill-defined and being set to 0.0 in labels with no predicted samples. Use `zero_division` parameter to control this behavior.\n",
            "\n",
            "/usr/local/lib/python3.11/dist-packages/transformers/training_args.py:1575: FutureWarning:\n",
            "\n",
            "`evaluation_strategy` is deprecated and will be removed in version 4.46 of 🤗 Transformers. Use `eval_strategy` instead\n",
            "\n"
          ]
        },
        {
          "output_type": "stream",
          "name": "stdout",
          "text": [
            "Fold 1 Results for bert-base-multilingual-cased: {'eval_precision': 0.044608340904637195, 'eval_recall': 0.16049382716049382, 'eval_f1': 0.06793389509438892, 'eval_accuracy': 0.16049382716049382, 'eval_loss': 1.927495002746582, 'eval_runtime': 0.2168, 'eval_samples_per_second': 373.535, 'eval_steps_per_second': 50.727, 'epoch': 5.0}\n",
            "\n",
            "Starting Fold 2 for bert-base-multilingual-cased\n"
          ]
        },
        {
          "output_type": "display_data",
          "data": {
            "text/plain": [
              "<IPython.core.display.HTML object>"
            ],
            "text/html": [
              "\n",
              "    <div>\n",
              "      \n",
              "      <progress value='205' max='205' style='width:300px; height:20px; vertical-align: middle;'></progress>\n",
              "      [205/205 01:03, Epoch 5/5]\n",
              "    </div>\n",
              "    <table border=\"1\" class=\"dataframe\">\n",
              "  <thead>\n",
              " <tr style=\"text-align: left;\">\n",
              "      <th>Epoch</th>\n",
              "      <th>Training Loss</th>\n",
              "      <th>Validation Loss</th>\n",
              "      <th>Precision</th>\n",
              "      <th>Recall</th>\n",
              "      <th>F1</th>\n",
              "      <th>Accuracy</th>\n",
              "    </tr>\n",
              "  </thead>\n",
              "  <tbody>\n",
              "    <tr>\n",
              "      <td>1</td>\n",
              "      <td>No log</td>\n",
              "      <td>1.849895</td>\n",
              "      <td>0.322457</td>\n",
              "      <td>0.259259</td>\n",
              "      <td>0.151339</td>\n",
              "      <td>0.259259</td>\n",
              "    </tr>\n",
              "    <tr>\n",
              "      <td>2</td>\n",
              "      <td>No log</td>\n",
              "      <td>1.837427</td>\n",
              "      <td>0.160963</td>\n",
              "      <td>0.283951</td>\n",
              "      <td>0.167263</td>\n",
              "      <td>0.283951</td>\n",
              "    </tr>\n",
              "    <tr>\n",
              "      <td>3</td>\n",
              "      <td>No log</td>\n",
              "      <td>1.819156</td>\n",
              "      <td>0.138889</td>\n",
              "      <td>0.283951</td>\n",
              "      <td>0.170421</td>\n",
              "      <td>0.283951</td>\n",
              "    </tr>\n",
              "    <tr>\n",
              "      <td>4</td>\n",
              "      <td>No log</td>\n",
              "      <td>1.811580</td>\n",
              "      <td>0.371399</td>\n",
              "      <td>0.296296</td>\n",
              "      <td>0.196975</td>\n",
              "      <td>0.296296</td>\n",
              "    </tr>\n",
              "    <tr>\n",
              "      <td>5</td>\n",
              "      <td>No log</td>\n",
              "      <td>1.808863</td>\n",
              "      <td>0.367619</td>\n",
              "      <td>0.283951</td>\n",
              "      <td>0.190509</td>\n",
              "      <td>0.283951</td>\n",
              "    </tr>\n",
              "  </tbody>\n",
              "</table><p>"
            ]
          },
          "metadata": {}
        },
        {
          "output_type": "stream",
          "name": "stderr",
          "text": [
            "/usr/local/lib/python3.11/dist-packages/sklearn/metrics/_classification.py:1565: UndefinedMetricWarning:\n",
            "\n",
            "Precision is ill-defined and being set to 0.0 in labels with no predicted samples. Use `zero_division` parameter to control this behavior.\n",
            "\n",
            "/usr/local/lib/python3.11/dist-packages/sklearn/metrics/_classification.py:1565: UndefinedMetricWarning:\n",
            "\n",
            "Precision is ill-defined and being set to 0.0 in labels with no predicted samples. Use `zero_division` parameter to control this behavior.\n",
            "\n",
            "/usr/local/lib/python3.11/dist-packages/sklearn/metrics/_classification.py:1565: UndefinedMetricWarning:\n",
            "\n",
            "Precision is ill-defined and being set to 0.0 in labels with no predicted samples. Use `zero_division` parameter to control this behavior.\n",
            "\n",
            "/usr/local/lib/python3.11/dist-packages/sklearn/metrics/_classification.py:1565: UndefinedMetricWarning:\n",
            "\n",
            "Precision is ill-defined and being set to 0.0 in labels with no predicted samples. Use `zero_division` parameter to control this behavior.\n",
            "\n",
            "/usr/local/lib/python3.11/dist-packages/sklearn/metrics/_classification.py:1565: UndefinedMetricWarning:\n",
            "\n",
            "Precision is ill-defined and being set to 0.0 in labels with no predicted samples. Use `zero_division` parameter to control this behavior.\n",
            "\n"
          ]
        },
        {
          "output_type": "display_data",
          "data": {
            "text/plain": [
              "<IPython.core.display.HTML object>"
            ],
            "text/html": [
              "\n",
              "    <div>\n",
              "      \n",
              "      <progress value='66' max='11' style='width:300px; height:20px; vertical-align: middle;'></progress>\n",
              "      [11/11 00:01]\n",
              "    </div>\n",
              "    "
            ]
          },
          "metadata": {}
        },
        {
          "output_type": "stream",
          "name": "stderr",
          "text": [
            "/usr/local/lib/python3.11/dist-packages/sklearn/metrics/_classification.py:1565: UndefinedMetricWarning:\n",
            "\n",
            "Precision is ill-defined and being set to 0.0 in labels with no predicted samples. Use `zero_division` parameter to control this behavior.\n",
            "\n",
            "/usr/local/lib/python3.11/dist-packages/sklearn/metrics/_classification.py:1565: UndefinedMetricWarning:\n",
            "\n",
            "Precision is ill-defined and being set to 0.0 in labels with no predicted samples. Use `zero_division` parameter to control this behavior.\n",
            "\n",
            "/usr/local/lib/python3.11/dist-packages/sklearn/metrics/_classification.py:1565: UndefinedMetricWarning:\n",
            "\n",
            "Precision is ill-defined and being set to 0.0 in labels with no predicted samples. Use `zero_division` parameter to control this behavior.\n",
            "\n",
            "/usr/local/lib/python3.11/dist-packages/sklearn/metrics/_classification.py:1565: UndefinedMetricWarning:\n",
            "\n",
            "Precision is ill-defined and being set to 0.0 in labels with no predicted samples. Use `zero_division` parameter to control this behavior.\n",
            "\n",
            "/usr/local/lib/python3.11/dist-packages/sklearn/metrics/_classification.py:1565: UndefinedMetricWarning:\n",
            "\n",
            "Precision is ill-defined and being set to 0.0 in labels with no predicted samples. Use `zero_division` parameter to control this behavior.\n",
            "\n",
            "/usr/local/lib/python3.11/dist-packages/sklearn/metrics/_classification.py:1565: UndefinedMetricWarning:\n",
            "\n",
            "Precision is ill-defined and being set to 0.0 in labels with no predicted samples. Use `zero_division` parameter to control this behavior.\n",
            "\n",
            "/usr/local/lib/python3.11/dist-packages/transformers/training_args.py:1575: FutureWarning:\n",
            "\n",
            "`evaluation_strategy` is deprecated and will be removed in version 4.46 of 🤗 Transformers. Use `eval_strategy` instead\n",
            "\n"
          ]
        },
        {
          "output_type": "stream",
          "name": "stdout",
          "text": [
            "Fold 2 Results for bert-base-multilingual-cased: {'eval_precision': 0.36761891090056464, 'eval_recall': 0.2839506172839506, 'eval_f1': 0.19050896955137167, 'eval_accuracy': 0.2839506172839506, 'eval_loss': 1.808862566947937, 'eval_runtime': 0.2204, 'eval_samples_per_second': 367.488, 'eval_steps_per_second': 49.906, 'epoch': 5.0}\n",
            "\n",
            "Starting Fold 3 for bert-base-multilingual-cased\n"
          ]
        },
        {
          "output_type": "display_data",
          "data": {
            "text/plain": [
              "<IPython.core.display.HTML object>"
            ],
            "text/html": [
              "\n",
              "    <div>\n",
              "      \n",
              "      <progress value='205' max='205' style='width:300px; height:20px; vertical-align: middle;'></progress>\n",
              "      [205/205 01:03, Epoch 5/5]\n",
              "    </div>\n",
              "    <table border=\"1\" class=\"dataframe\">\n",
              "  <thead>\n",
              " <tr style=\"text-align: left;\">\n",
              "      <th>Epoch</th>\n",
              "      <th>Training Loss</th>\n",
              "      <th>Validation Loss</th>\n",
              "      <th>Precision</th>\n",
              "      <th>Recall</th>\n",
              "      <th>F1</th>\n",
              "      <th>Accuracy</th>\n",
              "    </tr>\n",
              "  </thead>\n",
              "  <tbody>\n",
              "    <tr>\n",
              "      <td>1</td>\n",
              "      <td>No log</td>\n",
              "      <td>1.635605</td>\n",
              "      <td>0.267860</td>\n",
              "      <td>0.308642</td>\n",
              "      <td>0.223120</td>\n",
              "      <td>0.308642</td>\n",
              "    </tr>\n",
              "    <tr>\n",
              "      <td>2</td>\n",
              "      <td>No log</td>\n",
              "      <td>1.613215</td>\n",
              "      <td>0.313129</td>\n",
              "      <td>0.320988</td>\n",
              "      <td>0.234257</td>\n",
              "      <td>0.320988</td>\n",
              "    </tr>\n",
              "    <tr>\n",
              "      <td>3</td>\n",
              "      <td>No log</td>\n",
              "      <td>1.587922</td>\n",
              "      <td>0.345628</td>\n",
              "      <td>0.308642</td>\n",
              "      <td>0.224164</td>\n",
              "      <td>0.308642</td>\n",
              "    </tr>\n",
              "    <tr>\n",
              "      <td>4</td>\n",
              "      <td>No log</td>\n",
              "      <td>1.573130</td>\n",
              "      <td>0.327863</td>\n",
              "      <td>0.296296</td>\n",
              "      <td>0.208227</td>\n",
              "      <td>0.296296</td>\n",
              "    </tr>\n",
              "    <tr>\n",
              "      <td>5</td>\n",
              "      <td>No log</td>\n",
              "      <td>1.568348</td>\n",
              "      <td>0.331060</td>\n",
              "      <td>0.308642</td>\n",
              "      <td>0.222850</td>\n",
              "      <td>0.308642</td>\n",
              "    </tr>\n",
              "  </tbody>\n",
              "</table><p>"
            ]
          },
          "metadata": {}
        },
        {
          "output_type": "stream",
          "name": "stderr",
          "text": [
            "/usr/local/lib/python3.11/dist-packages/sklearn/metrics/_classification.py:1565: UndefinedMetricWarning:\n",
            "\n",
            "Precision is ill-defined and being set to 0.0 in labels with no predicted samples. Use `zero_division` parameter to control this behavior.\n",
            "\n",
            "/usr/local/lib/python3.11/dist-packages/sklearn/metrics/_classification.py:1565: UndefinedMetricWarning:\n",
            "\n",
            "Precision is ill-defined and being set to 0.0 in labels with no predicted samples. Use `zero_division` parameter to control this behavior.\n",
            "\n",
            "/usr/local/lib/python3.11/dist-packages/sklearn/metrics/_classification.py:1565: UndefinedMetricWarning:\n",
            "\n",
            "Precision is ill-defined and being set to 0.0 in labels with no predicted samples. Use `zero_division` parameter to control this behavior.\n",
            "\n",
            "/usr/local/lib/python3.11/dist-packages/sklearn/metrics/_classification.py:1565: UndefinedMetricWarning:\n",
            "\n",
            "Precision is ill-defined and being set to 0.0 in labels with no predicted samples. Use `zero_division` parameter to control this behavior.\n",
            "\n",
            "/usr/local/lib/python3.11/dist-packages/sklearn/metrics/_classification.py:1565: UndefinedMetricWarning:\n",
            "\n",
            "Precision is ill-defined and being set to 0.0 in labels with no predicted samples. Use `zero_division` parameter to control this behavior.\n",
            "\n"
          ]
        },
        {
          "output_type": "display_data",
          "data": {
            "text/plain": [
              "<IPython.core.display.HTML object>"
            ],
            "text/html": [
              "\n",
              "    <div>\n",
              "      \n",
              "      <progress value='66' max='11' style='width:300px; height:20px; vertical-align: middle;'></progress>\n",
              "      [11/11 00:01]\n",
              "    </div>\n",
              "    "
            ]
          },
          "metadata": {}
        },
        {
          "output_type": "stream",
          "name": "stderr",
          "text": [
            "/usr/local/lib/python3.11/dist-packages/sklearn/metrics/_classification.py:1565: UndefinedMetricWarning:\n",
            "\n",
            "Precision is ill-defined and being set to 0.0 in labels with no predicted samples. Use `zero_division` parameter to control this behavior.\n",
            "\n",
            "/usr/local/lib/python3.11/dist-packages/sklearn/metrics/_classification.py:1565: UndefinedMetricWarning:\n",
            "\n",
            "Precision is ill-defined and being set to 0.0 in labels with no predicted samples. Use `zero_division` parameter to control this behavior.\n",
            "\n",
            "/usr/local/lib/python3.11/dist-packages/sklearn/metrics/_classification.py:1565: UndefinedMetricWarning:\n",
            "\n",
            "Precision is ill-defined and being set to 0.0 in labels with no predicted samples. Use `zero_division` parameter to control this behavior.\n",
            "\n",
            "/usr/local/lib/python3.11/dist-packages/sklearn/metrics/_classification.py:1565: UndefinedMetricWarning:\n",
            "\n",
            "Precision is ill-defined and being set to 0.0 in labels with no predicted samples. Use `zero_division` parameter to control this behavior.\n",
            "\n",
            "/usr/local/lib/python3.11/dist-packages/sklearn/metrics/_classification.py:1565: UndefinedMetricWarning:\n",
            "\n",
            "Precision is ill-defined and being set to 0.0 in labels with no predicted samples. Use `zero_division` parameter to control this behavior.\n",
            "\n",
            "/usr/local/lib/python3.11/dist-packages/sklearn/metrics/_classification.py:1565: UndefinedMetricWarning:\n",
            "\n",
            "Precision is ill-defined and being set to 0.0 in labels with no predicted samples. Use `zero_division` parameter to control this behavior.\n",
            "\n",
            "/usr/local/lib/python3.11/dist-packages/transformers/training_args.py:1575: FutureWarning:\n",
            "\n",
            "`evaluation_strategy` is deprecated and will be removed in version 4.46 of 🤗 Transformers. Use `eval_strategy` instead\n",
            "\n"
          ]
        },
        {
          "output_type": "stream",
          "name": "stdout",
          "text": [
            "Fold 3 Results for bert-base-multilingual-cased: {'eval_precision': 0.3310596385309029, 'eval_recall': 0.30864197530864196, 'eval_f1': 0.22284968118301451, 'eval_accuracy': 0.30864197530864196, 'eval_loss': 1.5683480501174927, 'eval_runtime': 0.2105, 'eval_samples_per_second': 384.887, 'eval_steps_per_second': 52.269, 'epoch': 5.0}\n",
            "\n",
            "Starting Fold 4 for bert-base-multilingual-cased\n"
          ]
        },
        {
          "output_type": "display_data",
          "data": {
            "text/plain": [
              "<IPython.core.display.HTML object>"
            ],
            "text/html": [
              "\n",
              "    <div>\n",
              "      \n",
              "      <progress value='205' max='205' style='width:300px; height:20px; vertical-align: middle;'></progress>\n",
              "      [205/205 01:05, Epoch 5/5]\n",
              "    </div>\n",
              "    <table border=\"1\" class=\"dataframe\">\n",
              "  <thead>\n",
              " <tr style=\"text-align: left;\">\n",
              "      <th>Epoch</th>\n",
              "      <th>Training Loss</th>\n",
              "      <th>Validation Loss</th>\n",
              "      <th>Precision</th>\n",
              "      <th>Recall</th>\n",
              "      <th>F1</th>\n",
              "      <th>Accuracy</th>\n",
              "    </tr>\n",
              "  </thead>\n",
              "  <tbody>\n",
              "    <tr>\n",
              "      <td>1</td>\n",
              "      <td>No log</td>\n",
              "      <td>1.485601</td>\n",
              "      <td>0.275844</td>\n",
              "      <td>0.419753</td>\n",
              "      <td>0.306773</td>\n",
              "      <td>0.419753</td>\n",
              "    </tr>\n",
              "    <tr>\n",
              "      <td>2</td>\n",
              "      <td>No log</td>\n",
              "      <td>1.455188</td>\n",
              "      <td>0.351551</td>\n",
              "      <td>0.432099</td>\n",
              "      <td>0.329693</td>\n",
              "      <td>0.432099</td>\n",
              "    </tr>\n",
              "    <tr>\n",
              "      <td>3</td>\n",
              "      <td>No log</td>\n",
              "      <td>1.479799</td>\n",
              "      <td>0.256687</td>\n",
              "      <td>0.395062</td>\n",
              "      <td>0.284850</td>\n",
              "      <td>0.395062</td>\n",
              "    </tr>\n",
              "    <tr>\n",
              "      <td>4</td>\n",
              "      <td>No log</td>\n",
              "      <td>1.472227</td>\n",
              "      <td>0.373968</td>\n",
              "      <td>0.419753</td>\n",
              "      <td>0.318539</td>\n",
              "      <td>0.419753</td>\n",
              "    </tr>\n",
              "    <tr>\n",
              "      <td>5</td>\n",
              "      <td>No log</td>\n",
              "      <td>1.462958</td>\n",
              "      <td>0.369316</td>\n",
              "      <td>0.419753</td>\n",
              "      <td>0.316838</td>\n",
              "      <td>0.419753</td>\n",
              "    </tr>\n",
              "  </tbody>\n",
              "</table><p>"
            ]
          },
          "metadata": {}
        },
        {
          "output_type": "stream",
          "name": "stderr",
          "text": [
            "/usr/local/lib/python3.11/dist-packages/sklearn/metrics/_classification.py:1565: UndefinedMetricWarning:\n",
            "\n",
            "Precision is ill-defined and being set to 0.0 in labels with no predicted samples. Use `zero_division` parameter to control this behavior.\n",
            "\n",
            "/usr/local/lib/python3.11/dist-packages/sklearn/metrics/_classification.py:1565: UndefinedMetricWarning:\n",
            "\n",
            "Precision is ill-defined and being set to 0.0 in labels with no predicted samples. Use `zero_division` parameter to control this behavior.\n",
            "\n",
            "/usr/local/lib/python3.11/dist-packages/sklearn/metrics/_classification.py:1565: UndefinedMetricWarning:\n",
            "\n",
            "Precision is ill-defined and being set to 0.0 in labels with no predicted samples. Use `zero_division` parameter to control this behavior.\n",
            "\n",
            "/usr/local/lib/python3.11/dist-packages/sklearn/metrics/_classification.py:1565: UndefinedMetricWarning:\n",
            "\n",
            "Precision is ill-defined and being set to 0.0 in labels with no predicted samples. Use `zero_division` parameter to control this behavior.\n",
            "\n",
            "/usr/local/lib/python3.11/dist-packages/sklearn/metrics/_classification.py:1565: UndefinedMetricWarning:\n",
            "\n",
            "Precision is ill-defined and being set to 0.0 in labels with no predicted samples. Use `zero_division` parameter to control this behavior.\n",
            "\n"
          ]
        },
        {
          "output_type": "display_data",
          "data": {
            "text/plain": [
              "<IPython.core.display.HTML object>"
            ],
            "text/html": [
              "\n",
              "    <div>\n",
              "      \n",
              "      <progress value='66' max='11' style='width:300px; height:20px; vertical-align: middle;'></progress>\n",
              "      [11/11 00:01]\n",
              "    </div>\n",
              "    "
            ]
          },
          "metadata": {}
        },
        {
          "output_type": "stream",
          "name": "stderr",
          "text": [
            "/usr/local/lib/python3.11/dist-packages/sklearn/metrics/_classification.py:1565: UndefinedMetricWarning:\n",
            "\n",
            "Precision is ill-defined and being set to 0.0 in labels with no predicted samples. Use `zero_division` parameter to control this behavior.\n",
            "\n",
            "/usr/local/lib/python3.11/dist-packages/sklearn/metrics/_classification.py:1565: UndefinedMetricWarning:\n",
            "\n",
            "Precision is ill-defined and being set to 0.0 in labels with no predicted samples. Use `zero_division` parameter to control this behavior.\n",
            "\n",
            "/usr/local/lib/python3.11/dist-packages/sklearn/metrics/_classification.py:1565: UndefinedMetricWarning:\n",
            "\n",
            "Precision is ill-defined and being set to 0.0 in labels with no predicted samples. Use `zero_division` parameter to control this behavior.\n",
            "\n",
            "/usr/local/lib/python3.11/dist-packages/sklearn/metrics/_classification.py:1565: UndefinedMetricWarning:\n",
            "\n",
            "Precision is ill-defined and being set to 0.0 in labels with no predicted samples. Use `zero_division` parameter to control this behavior.\n",
            "\n",
            "/usr/local/lib/python3.11/dist-packages/sklearn/metrics/_classification.py:1565: UndefinedMetricWarning:\n",
            "\n",
            "Precision is ill-defined and being set to 0.0 in labels with no predicted samples. Use `zero_division` parameter to control this behavior.\n",
            "\n",
            "/usr/local/lib/python3.11/dist-packages/sklearn/metrics/_classification.py:1565: UndefinedMetricWarning:\n",
            "\n",
            "Precision is ill-defined and being set to 0.0 in labels with no predicted samples. Use `zero_division` parameter to control this behavior.\n",
            "\n",
            "/usr/local/lib/python3.11/dist-packages/transformers/training_args.py:1575: FutureWarning:\n",
            "\n",
            "`evaluation_strategy` is deprecated and will be removed in version 4.46 of 🤗 Transformers. Use `eval_strategy` instead\n",
            "\n"
          ]
        },
        {
          "output_type": "stream",
          "name": "stdout",
          "text": [
            "Fold 4 Results for bert-base-multilingual-cased: {'eval_precision': 0.35155103121314946, 'eval_recall': 0.43209876543209874, 'eval_f1': 0.32969290485630354, 'eval_accuracy': 0.43209876543209874, 'eval_loss': 1.455188274383545, 'eval_runtime': 0.2399, 'eval_samples_per_second': 337.652, 'eval_steps_per_second': 45.854, 'epoch': 5.0}\n",
            "\n",
            "Starting Fold 5 for bert-base-multilingual-cased\n"
          ]
        },
        {
          "output_type": "display_data",
          "data": {
            "text/plain": [
              "<IPython.core.display.HTML object>"
            ],
            "text/html": [
              "\n",
              "    <div>\n",
              "      \n",
              "      <progress value='205' max='205' style='width:300px; height:20px; vertical-align: middle;'></progress>\n",
              "      [205/205 01:06, Epoch 5/5]\n",
              "    </div>\n",
              "    <table border=\"1\" class=\"dataframe\">\n",
              "  <thead>\n",
              " <tr style=\"text-align: left;\">\n",
              "      <th>Epoch</th>\n",
              "      <th>Training Loss</th>\n",
              "      <th>Validation Loss</th>\n",
              "      <th>Precision</th>\n",
              "      <th>Recall</th>\n",
              "      <th>F1</th>\n",
              "      <th>Accuracy</th>\n",
              "    </tr>\n",
              "  </thead>\n",
              "  <tbody>\n",
              "    <tr>\n",
              "      <td>1</td>\n",
              "      <td>No log</td>\n",
              "      <td>1.325702</td>\n",
              "      <td>0.487185</td>\n",
              "      <td>0.462500</td>\n",
              "      <td>0.365969</td>\n",
              "      <td>0.462500</td>\n",
              "    </tr>\n",
              "    <tr>\n",
              "      <td>2</td>\n",
              "      <td>No log</td>\n",
              "      <td>1.306055</td>\n",
              "      <td>0.487009</td>\n",
              "      <td>0.475000</td>\n",
              "      <td>0.387225</td>\n",
              "      <td>0.475000</td>\n",
              "    </tr>\n",
              "    <tr>\n",
              "      <td>3</td>\n",
              "      <td>No log</td>\n",
              "      <td>1.293278</td>\n",
              "      <td>0.507679</td>\n",
              "      <td>0.525000</td>\n",
              "      <td>0.446433</td>\n",
              "      <td>0.525000</td>\n",
              "    </tr>\n",
              "    <tr>\n",
              "      <td>4</td>\n",
              "      <td>No log</td>\n",
              "      <td>1.286679</td>\n",
              "      <td>0.506673</td>\n",
              "      <td>0.525000</td>\n",
              "      <td>0.446919</td>\n",
              "      <td>0.525000</td>\n",
              "    </tr>\n",
              "    <tr>\n",
              "      <td>5</td>\n",
              "      <td>No log</td>\n",
              "      <td>1.277338</td>\n",
              "      <td>0.506673</td>\n",
              "      <td>0.525000</td>\n",
              "      <td>0.446919</td>\n",
              "      <td>0.525000</td>\n",
              "    </tr>\n",
              "  </tbody>\n",
              "</table><p>"
            ]
          },
          "metadata": {}
        },
        {
          "output_type": "stream",
          "name": "stderr",
          "text": [
            "/usr/local/lib/python3.11/dist-packages/sklearn/metrics/_classification.py:1565: UndefinedMetricWarning:\n",
            "\n",
            "Precision is ill-defined and being set to 0.0 in labels with no predicted samples. Use `zero_division` parameter to control this behavior.\n",
            "\n",
            "/usr/local/lib/python3.11/dist-packages/sklearn/metrics/_classification.py:1565: UndefinedMetricWarning:\n",
            "\n",
            "Precision is ill-defined and being set to 0.0 in labels with no predicted samples. Use `zero_division` parameter to control this behavior.\n",
            "\n",
            "/usr/local/lib/python3.11/dist-packages/sklearn/metrics/_classification.py:1565: UndefinedMetricWarning:\n",
            "\n",
            "Precision is ill-defined and being set to 0.0 in labels with no predicted samples. Use `zero_division` parameter to control this behavior.\n",
            "\n",
            "/usr/local/lib/python3.11/dist-packages/sklearn/metrics/_classification.py:1565: UndefinedMetricWarning:\n",
            "\n",
            "Precision is ill-defined and being set to 0.0 in labels with no predicted samples. Use `zero_division` parameter to control this behavior.\n",
            "\n",
            "/usr/local/lib/python3.11/dist-packages/sklearn/metrics/_classification.py:1565: UndefinedMetricWarning:\n",
            "\n",
            "Precision is ill-defined and being set to 0.0 in labels with no predicted samples. Use `zero_division` parameter to control this behavior.\n",
            "\n"
          ]
        },
        {
          "output_type": "display_data",
          "data": {
            "text/plain": [
              "<IPython.core.display.HTML object>"
            ],
            "text/html": [
              "\n",
              "    <div>\n",
              "      \n",
              "      <progress value='60' max='10' style='width:300px; height:20px; vertical-align: middle;'></progress>\n",
              "      [10/10 00:01]\n",
              "    </div>\n",
              "    "
            ]
          },
          "metadata": {}
        },
        {
          "output_type": "stream",
          "name": "stderr",
          "text": [
            "/usr/local/lib/python3.11/dist-packages/sklearn/metrics/_classification.py:1565: UndefinedMetricWarning:\n",
            "\n",
            "Precision is ill-defined and being set to 0.0 in labels with no predicted samples. Use `zero_division` parameter to control this behavior.\n",
            "\n",
            "/usr/local/lib/python3.11/dist-packages/sklearn/metrics/_classification.py:1565: UndefinedMetricWarning:\n",
            "\n",
            "Precision is ill-defined and being set to 0.0 in labels with no predicted samples. Use `zero_division` parameter to control this behavior.\n",
            "\n",
            "/usr/local/lib/python3.11/dist-packages/sklearn/metrics/_classification.py:1565: UndefinedMetricWarning:\n",
            "\n",
            "Precision is ill-defined and being set to 0.0 in labels with no predicted samples. Use `zero_division` parameter to control this behavior.\n",
            "\n",
            "/usr/local/lib/python3.11/dist-packages/sklearn/metrics/_classification.py:1565: UndefinedMetricWarning:\n",
            "\n",
            "Precision is ill-defined and being set to 0.0 in labels with no predicted samples. Use `zero_division` parameter to control this behavior.\n",
            "\n",
            "/usr/local/lib/python3.11/dist-packages/sklearn/metrics/_classification.py:1565: UndefinedMetricWarning:\n",
            "\n",
            "Precision is ill-defined and being set to 0.0 in labels with no predicted samples. Use `zero_division` parameter to control this behavior.\n",
            "\n",
            "/usr/local/lib/python3.11/dist-packages/sklearn/metrics/_classification.py:1565: UndefinedMetricWarning:\n",
            "\n",
            "Precision is ill-defined and being set to 0.0 in labels with no predicted samples. Use `zero_division` parameter to control this behavior.\n",
            "\n"
          ]
        },
        {
          "output_type": "stream",
          "name": "stdout",
          "text": [
            "Fold 5 Results for bert-base-multilingual-cased: {'eval_precision': 0.506672932330827, 'eval_recall': 0.525, 'eval_f1': 0.44691870410948376, 'eval_accuracy': 0.525, 'eval_loss': 1.277337670326233, 'eval_runtime': 0.2004, 'eval_samples_per_second': 399.187, 'eval_steps_per_second': 49.898, 'epoch': 5.0}\n",
            "\n",
            "Final Results Across Models:\n",
            "                          Model  Avg_Precision  Avg_Recall    Avg_F1  \\\n",
            "0  bert-base-multilingual-cased       0.320302    0.342037  0.251581   \n",
            "\n",
            "   Avg_Accuracy  Training_Time_Seconds  \n",
            "0      0.342037              331.05384  \n",
            "\n",
            "Detailed Results Per Fold and Epoch:\n",
            "    eval_precision  eval_recall   eval_f1  eval_accuracy  eval_loss  \\\n",
            "0         0.044608     0.160494  0.067934       0.160494   1.927495   \n",
            "1         0.044608     0.160494  0.067934       0.160494   1.927495   \n",
            "2         0.044608     0.160494  0.067934       0.160494   1.927495   \n",
            "3         0.044608     0.160494  0.067934       0.160494   1.927495   \n",
            "4         0.044608     0.160494  0.067934       0.160494   1.927495   \n",
            "5         0.367619     0.283951  0.190509       0.283951   1.808863   \n",
            "6         0.367619     0.283951  0.190509       0.283951   1.808863   \n",
            "7         0.367619     0.283951  0.190509       0.283951   1.808863   \n",
            "8         0.367619     0.283951  0.190509       0.283951   1.808863   \n",
            "9         0.367619     0.283951  0.190509       0.283951   1.808863   \n",
            "10        0.331060     0.308642  0.222850       0.308642   1.568348   \n",
            "11        0.331060     0.308642  0.222850       0.308642   1.568348   \n",
            "12        0.331060     0.308642  0.222850       0.308642   1.568348   \n",
            "13        0.331060     0.308642  0.222850       0.308642   1.568348   \n",
            "14        0.331060     0.308642  0.222850       0.308642   1.568348   \n",
            "15        0.351551     0.432099  0.329693       0.432099   1.455188   \n",
            "16        0.351551     0.432099  0.329693       0.432099   1.455188   \n",
            "17        0.351551     0.432099  0.329693       0.432099   1.455188   \n",
            "18        0.351551     0.432099  0.329693       0.432099   1.455188   \n",
            "19        0.351551     0.432099  0.329693       0.432099   1.455188   \n",
            "20        0.506673     0.525000  0.446919       0.525000   1.277338   \n",
            "21        0.506673     0.525000  0.446919       0.525000   1.277338   \n",
            "22        0.506673     0.525000  0.446919       0.525000   1.277338   \n",
            "23        0.506673     0.525000  0.446919       0.525000   1.277338   \n",
            "24        0.506673     0.525000  0.446919       0.525000   1.277338   \n",
            "\n",
            "    eval_runtime  eval_samples_per_second  eval_steps_per_second  epoch  \\\n",
            "0         0.2473                  327.548                 44.482    5.0   \n",
            "1         0.2322                  348.769                 47.364    5.0   \n",
            "2         0.2530                  320.100                 43.470    5.0   \n",
            "3         0.2554                  317.132                 43.067    5.0   \n",
            "4         0.2141                  378.295                 51.373    5.0   \n",
            "5         0.2263                  357.866                 48.599    5.0   \n",
            "6         0.2082                  388.986                 52.825    5.0   \n",
            "7         0.2063                  392.686                 53.328    5.0   \n",
            "8         0.2164                  374.344                 50.837    5.0   \n",
            "9         0.2098                  386.148                 52.440    5.0   \n",
            "10        0.2342                  345.787                 46.959    5.0   \n",
            "11        0.2038                  397.506                 53.982    5.0   \n",
            "12        0.1944                  416.652                 56.582    5.0   \n",
            "13        0.2005                  403.986                 54.862    5.0   \n",
            "14        0.2018                  401.482                 54.522    5.0   \n",
            "15        0.2761                  293.424                 39.848    5.0   \n",
            "16        0.2649                  305.735                 41.520    5.0   \n",
            "17        0.2623                  308.780                 41.933    5.0   \n",
            "18        0.2305                  351.465                 47.730    5.0   \n",
            "19        0.2263                  357.878                 48.601    5.0   \n",
            "20        0.2206                  362.642                 45.330    5.0   \n",
            "21        0.2054                  389.390                 48.674    5.0   \n",
            "22        0.1914                  418.004                 52.250    5.0   \n",
            "23        0.1874                  426.839                 53.355    5.0   \n",
            "24        0.1870                  427.727                 53.466    5.0   \n",
            "\n",
            "                           Model  Fold  Epoch  \n",
            "0   bert-base-multilingual-cased     1      1  \n",
            "1   bert-base-multilingual-cased     1      2  \n",
            "2   bert-base-multilingual-cased     1      3  \n",
            "3   bert-base-multilingual-cased     1      4  \n",
            "4   bert-base-multilingual-cased     1      5  \n",
            "5   bert-base-multilingual-cased     2      1  \n",
            "6   bert-base-multilingual-cased     2      2  \n",
            "7   bert-base-multilingual-cased     2      3  \n",
            "8   bert-base-multilingual-cased     2      4  \n",
            "9   bert-base-multilingual-cased     2      5  \n",
            "10  bert-base-multilingual-cased     3      1  \n",
            "11  bert-base-multilingual-cased     3      2  \n",
            "12  bert-base-multilingual-cased     3      3  \n",
            "13  bert-base-multilingual-cased     3      4  \n",
            "14  bert-base-multilingual-cased     3      5  \n",
            "15  bert-base-multilingual-cased     4      1  \n",
            "16  bert-base-multilingual-cased     4      2  \n",
            "17  bert-base-multilingual-cased     4      3  \n",
            "18  bert-base-multilingual-cased     4      4  \n",
            "19  bert-base-multilingual-cased     4      5  \n",
            "20  bert-base-multilingual-cased     5      1  \n",
            "21  bert-base-multilingual-cased     5      2  \n",
            "22  bert-base-multilingual-cased     5      3  \n",
            "23  bert-base-multilingual-cased     5      4  \n",
            "24  bert-base-multilingual-cased     5      5  \n",
            "\n",
            "Aggregated Summary for Each Model:\n",
            "                          Model  Avg_Precision  Avg_Recall    Avg_F1  \\\n",
            "0  bert-base-multilingual-cased       0.320302    0.342037  0.251581   \n",
            "\n",
            "   Avg_Accuracy  Training_Time_Seconds  \n",
            "0      0.342037              331.05384  \n"
          ]
        }
      ]
    },
    {
      "cell_type": "code",
      "source": [
        "from transformers import AutoTokenizer, AutoModelForSequenceClassification\n",
        "from transformers import Trainer\n",
        "import numpy as np\n",
        "from sklearn.metrics import classification_report\n",
        "\n",
        "# Load the saved model and tokenizer\n",
        "saved_model_path = \"./bert-base-multilingual-cased_complex\"\n",
        "model = AutoModelForSequenceClassification.from_pretrained(saved_model_path)\n",
        "tokenizer = AutoTokenizer.from_pretrained(saved_model_path)\n",
        "\n",
        "# Reinitialize the Trainer with the loaded model\n",
        "trainer = Trainer(\n",
        "    model=model,\n",
        "    args=training_args,\n",
        "    eval_dataset=val_dataset,\n",
        "    tokenizer=tokenizer,\n",
        ")\n",
        "\n",
        "# Evaluate the model\n",
        "trainer.evaluate()\n",
        "\n",
        "# Make predictions\n",
        "predictions = trainer.predict(val_dataset)\n",
        "\n",
        "# Decode predicted labels\n",
        "predicted_labels = np.argmax(predictions.predictions, axis=1)\n",
        "\n",
        "from sklearn.metrics import classification_report\n",
        "import numpy as np\n",
        "\n",
        "# Decode predicted labels\n",
        "predictions = trainer.predict(val_dataset)\n",
        "predicted_labels = np.argmax(predictions.predictions, axis=1)\n",
        "\n",
        "# Debugging output\n",
        "print(\"Predicted classes:\", len(np.unique(predicted_labels)))\n",
        "print(\"Label Encoder classes:\", len(label_encoder.classes_))\n",
        "\n",
        "\n",
        "all_labels = list(range(len(label_encoder.classes_)))\n",
        "target_names = label_encoder.classes_\n",
        "\n",
        "# Print the classification report\n",
        "print(classification_report(\n",
        "    val_labels,\n",
        "    predicted_labels,\n",
        "    labels=all_labels,\n",
        "    target_names=target_names,\n",
        "    zero_division=0\n",
        "))"
      ],
      "metadata": {
        "colab": {
          "base_uri": "https://localhost:8080/",
          "height": 410
        },
        "id": "tS9KJfBXSNZY",
        "outputId": "ad2feea2-373e-4346-ff5e-0e6a793ed749"
      },
      "execution_count": 26,
      "outputs": [
        {
          "output_type": "stream",
          "name": "stderr",
          "text": [
            "<ipython-input-26-a57bd6d5f1be>:12: FutureWarning:\n",
            "\n",
            "`tokenizer` is deprecated and will be removed in version 5.0.0 for `Trainer.__init__`. Use `processing_class` instead.\n",
            "\n"
          ]
        },
        {
          "output_type": "display_data",
          "data": {
            "text/plain": [
              "<IPython.core.display.HTML object>"
            ],
            "text/html": []
          },
          "metadata": {}
        },
        {
          "output_type": "display_data",
          "data": {
            "text/plain": [
              "<IPython.core.display.HTML object>"
            ],
            "text/html": []
          },
          "metadata": {}
        },
        {
          "output_type": "stream",
          "name": "stdout",
          "text": [
            "Predicted classes: 6\n",
            "Label Encoder classes: 9\n",
            "               precision    recall  f1-score   support\n",
            "\n",
            "  Compression       0.00      0.00      0.00         6\n",
            "  Explanation       1.00      0.28      0.43        18\n",
            "   Modulation       0.00      0.00      0.00         9\n",
            "     Omission       0.50      0.80      0.62         5\n",
            " Substitution       0.43      0.60      0.50        15\n",
            "     Synonymy       0.00      0.00      0.00         1\n",
            "    Syntactic       0.47      0.90      0.62        10\n",
            "Transcription       0.58      1.00      0.73        11\n",
            "Transposition       0.50      0.80      0.62         5\n",
            "\n",
            "     accuracy                           0.53        80\n",
            "    macro avg       0.39      0.49      0.39        80\n",
            " weighted avg       0.51      0.53      0.45        80\n",
            "\n"
          ]
        }
      ]
    },
    {
      "cell_type": "markdown",
      "source": [
        "\n",
        "> # Model #3 No Data-Augmentation"
      ],
      "metadata": {
        "id": "7bN3_gI1mg5o"
      }
    },
    {
      "cell_type": "markdown",
      "source": [
        "---\n",
        "This script performs **text classification** using transformer-based models to categorize text into different typologies.  \n",
        "\n",
        "It follows these key steps:\n",
        "1. **Data Preparation**: Combining both Standard and Easy-to-Read versions of the text and its respective **categories** into a single input format.\n",
        "2. **Model Training**: Fine-tuning transformer-based models (e.g., **BERT**) using stratified k-fold cross-validation.\n",
        "3. **Evaluation**: Assessing model performance with **accuracy, F1-score, precision, and recall**.\n",
        "4. **Model Saving**: Storing the trained models for future inference.\n",
        "\n",
        "Unlike other versions, this approach does **not apply data augmentation** for classification. The model is trained with a **stratified k-fold cross-validation strategy** to ensure robust evaluation across different data splits.\n",
        "------\n"
      ],
      "metadata": {
        "id": "6uetGgqvl9gU"
      }
    },
    {
      "cell_type": "code",
      "source": [
        "import pandas as pd\n",
        "import torch\n",
        "from sklearn.preprocessing import LabelEncoder\n",
        "from sklearn.model_selection import StratifiedKFold\n",
        "from transformers import (\n",
        "    AutoTokenizer,\n",
        "    AutoModelForSequenceClassification,\n",
        "    TrainingArguments,\n",
        "    Trainer,\n",
        "    DataCollatorWithPadding\n",
        ")\n",
        "from sklearn.metrics import precision_recall_fscore_support, accuracy_score\n",
        "\n",
        "# Combine \"Standard English\" and \"E2R Version\" for input\n",
        "data['Combined Text'] = data.apply(\n",
        "    lambda row: f\"Standard French: {row['Version initiale']} [SEP] Easy-to-Read: {row['Version retraitée']}\", axis=1\n",
        ")\n",
        "data = data.dropna(subset=['Combined Text', 'Catégorie'])\n",
        "\n",
        "# Encode Typologies\n",
        "label_encoder = LabelEncoder()\n",
        "data['Typology Encoded'] = label_encoder.fit_transform(data['Catégorie'])\n",
        "\n",
        "# Step 4: Prepare Models and Loop Over Them\n",
        "models_to_test = [\n",
        "    \"bert-base-multilingual-cased\",\n",
        "]\n",
        "\n",
        "all_model_results = []\n",
        "skf = StratifiedKFold(n_splits=5)\n",
        "for model_name in models_to_test:\n",
        "    print(f\"\\nStarting model: {model_name}\")\n",
        "\n",
        "    tokenizer = AutoTokenizer.from_pretrained(model_name)\n",
        "    model = AutoModelForSequenceClassification.from_pretrained(\n",
        "        model_name,\n",
        "        num_labels=len(label_encoder.classes_)\n",
        "    )\n",
        "\n",
        "    fold_metrics = []\n",
        "\n",
        "    for fold, (train_index, val_index) in enumerate(skf.split(data['Combined Text'], data['Typology Encoded'])):\n",
        "        print(f\"\\nStarting Fold {fold + 1} for {model_name}\")\n",
        "\n",
        "        # Split Data\n",
        "        train_texts, val_texts = data['Combined Text'].iloc[train_index], data['Combined Text'].iloc[val_index]\n",
        "        train_labels, val_labels = data['Typology Encoded'].iloc[train_index], data['Typology Encoded'].iloc[val_index]\n",
        "\n",
        "        def tokenize_function(texts):\n",
        "            return tokenizer(list(texts), padding=True, truncation=True, max_length=512)\n",
        "\n",
        "        train_encodings = tokenize_function(train_texts)\n",
        "        val_encodings = tokenize_function(val_texts)\n",
        "\n",
        "        train_labels = torch.tensor(train_labels.values, dtype=torch.long)\n",
        "        val_labels = torch.tensor(val_labels.values, dtype=torch.long)\n",
        "\n",
        "        class Dataset(torch.utils.data.Dataset):\n",
        "            def __init__(self, encodings, labels):\n",
        "                self.encodings = encodings\n",
        "                self.labels = labels\n",
        "\n",
        "            def __len__(self):\n",
        "                return len(self.labels)\n",
        "\n",
        "            def __getitem__(self, idx):\n",
        "                item = {key: torch.tensor(val[idx]) for key, val in self.encodings.items()}\n",
        "                item['labels'] = self.labels[idx]\n",
        "                return item\n",
        "\n",
        "        train_dataset = Dataset(train_encodings, train_labels)\n",
        "        val_dataset = Dataset(val_encodings, val_labels)\n",
        "\n",
        "        # Training Arguments\n",
        "        training_args = TrainingArguments(\n",
        "            output_dir=f\"./results/{model_name}_fold_{fold}\",\n",
        "            evaluation_strategy=\"epoch\",\n",
        "            save_strategy=\"epoch\",\n",
        "            learning_rate=5e-5,\n",
        "            per_device_train_batch_size=16,\n",
        "            per_device_eval_batch_size=16,\n",
        "            num_train_epochs=3,\n",
        "            weight_decay=0.01,\n",
        "            logging_dir=f\"./logs/{model_name}_fold_{fold}\",\n",
        "            save_total_limit=2,\n",
        "            load_best_model_at_end=True,\n",
        "            max_grad_norm=1.0\n",
        "        )\n",
        "\n",
        "        # Define Metrics\n",
        "        def compute_metrics(pred):\n",
        "            predictions = pred.predictions.argmax(-1)\n",
        "            labels = pred.label_ids\n",
        "            precision, recall, f1, _ = precision_recall_fscore_support(labels, predictions, average='weighted')\n",
        "            acc = accuracy_score(labels, predictions)\n",
        "            return {\"accuracy\": acc, \"f1\": f1, \"precision\": precision, \"recall\": recall}\n",
        "\n",
        "        data_collator = DataCollatorWithPadding(tokenizer=tokenizer)\n",
        "        trainer = Trainer(\n",
        "            model=model,\n",
        "            args=training_args,\n",
        "            train_dataset=train_dataset,\n",
        "            eval_dataset=val_dataset,\n",
        "            data_collator=data_collator,\n",
        "            compute_metrics=compute_metrics\n",
        "        )\n",
        "\n",
        "        # Train and Evaluate\n",
        "        trainer.train()\n",
        "        evaluation_results = trainer.evaluate()\n",
        "        print(f\"Fold {fold + 1} Results for {model_name}: {evaluation_results}\")\n",
        "\n",
        "        # Collect metrics for the fold\n",
        "        fold_metrics.append(evaluation_results)\n",
        "\n",
        "    # Calculate average metrics across folds\n",
        "    avg_accuracy = sum([m['eval_accuracy'] for m in fold_metrics]) / len(fold_metrics)\n",
        "    avg_f1 = sum([m['eval_f1'] for m in fold_metrics]) / len(fold_metrics)\n",
        "    avg_precision = sum([m['eval_precision'] for m in fold_metrics]) / len(fold_metrics)\n",
        "    avg_recall = sum([m['eval_recall'] for m in fold_metrics]) / len(fold_metrics)\n",
        "\n",
        "    # Add to final model results\n",
        "    all_model_results.append({\n",
        "        \"Model\": model_name,\n",
        "        \"Avg_Accuracy\": avg_accuracy,\n",
        "        \"Avg_F1\": avg_f1,\n",
        "        \"Avg_Precision\": avg_precision,\n",
        "        \"Avg_Recall\": avg_recall\n",
        "    })\n",
        "\n",
        "    # Save Model and Tokenizer\n",
        "    model.save_pretrained(f\"./{model_name}_combined-non-aug\")\n",
        "    tokenizer.save_pretrained(f\"./{model_name}_combined-non-aug\")\n",
        "\n",
        "# Step 3: Print Final Table of Results\n",
        "import pandas as pd\n",
        "results_df = pd.DataFrame(all_model_results)\n",
        "print(\"\\nFinal Results Across Models:\")\n",
        "print(results_df.to_string(index=False))\n"
      ],
      "metadata": {
        "colab": {
          "base_uri": "https://localhost:8080/",
          "height": 1000
        },
        "id": "g6XFgkDuCMED",
        "outputId": "cfeb07af-ffc1-4abd-8c66-cc6bf557e772"
      },
      "execution_count": 27,
      "outputs": [
        {
          "output_type": "stream",
          "name": "stdout",
          "text": [
            "\n",
            "Starting model: bert-base-multilingual-cased\n"
          ]
        },
        {
          "output_type": "stream",
          "name": "stderr",
          "text": [
            "<ipython-input-27-1b65f5f5d80d>:22: SettingWithCopyWarning:\n",
            "\n",
            "\n",
            "A value is trying to be set on a copy of a slice from a DataFrame.\n",
            "Try using .loc[row_indexer,col_indexer] = value instead\n",
            "\n",
            "See the caveats in the documentation: https://pandas.pydata.org/pandas-docs/stable/user_guide/indexing.html#returning-a-view-versus-a-copy\n",
            "\n",
            "Some weights of BertForSequenceClassification were not initialized from the model checkpoint at bert-base-multilingual-cased and are newly initialized: ['classifier.bias', 'classifier.weight']\n",
            "You should probably TRAIN this model on a down-stream task to be able to use it for predictions and inference.\n",
            "/usr/local/lib/python3.11/dist-packages/sklearn/model_selection/_split.py:805: UserWarning:\n",
            "\n",
            "The least populated class in y has only 3 members, which is less than n_splits=5.\n",
            "\n",
            "/usr/local/lib/python3.11/dist-packages/transformers/training_args.py:1575: FutureWarning:\n",
            "\n",
            "`evaluation_strategy` is deprecated and will be removed in version 4.46 of 🤗 Transformers. Use `eval_strategy` instead\n",
            "\n"
          ]
        },
        {
          "output_type": "stream",
          "name": "stdout",
          "text": [
            "\n",
            "Starting Fold 1 for bert-base-multilingual-cased\n"
          ]
        },
        {
          "output_type": "display_data",
          "data": {
            "text/plain": [
              "<IPython.core.display.HTML object>"
            ],
            "text/html": [
              "\n",
              "    <div>\n",
              "      \n",
              "      <progress value='57' max='57' style='width:300px; height:20px; vertical-align: middle;'></progress>\n",
              "      [57/57 00:35, Epoch 3/3]\n",
              "    </div>\n",
              "    <table border=\"1\" class=\"dataframe\">\n",
              "  <thead>\n",
              " <tr style=\"text-align: left;\">\n",
              "      <th>Epoch</th>\n",
              "      <th>Training Loss</th>\n",
              "      <th>Validation Loss</th>\n",
              "      <th>Accuracy</th>\n",
              "      <th>F1</th>\n",
              "      <th>Precision</th>\n",
              "      <th>Recall</th>\n",
              "    </tr>\n",
              "  </thead>\n",
              "  <tbody>\n",
              "    <tr>\n",
              "      <td>1</td>\n",
              "      <td>No log</td>\n",
              "      <td>1.928143</td>\n",
              "      <td>0.256757</td>\n",
              "      <td>0.186289</td>\n",
              "      <td>0.165125</td>\n",
              "      <td>0.256757</td>\n",
              "    </tr>\n",
              "    <tr>\n",
              "      <td>2</td>\n",
              "      <td>No log</td>\n",
              "      <td>1.680644</td>\n",
              "      <td>0.378378</td>\n",
              "      <td>0.231660</td>\n",
              "      <td>0.172761</td>\n",
              "      <td>0.378378</td>\n",
              "    </tr>\n",
              "    <tr>\n",
              "      <td>3</td>\n",
              "      <td>No log</td>\n",
              "      <td>1.598781</td>\n",
              "      <td>0.405405</td>\n",
              "      <td>0.258221</td>\n",
              "      <td>0.205753</td>\n",
              "      <td>0.405405</td>\n",
              "    </tr>\n",
              "  </tbody>\n",
              "</table><p>"
            ]
          },
          "metadata": {}
        },
        {
          "output_type": "stream",
          "name": "stderr",
          "text": [
            "/usr/local/lib/python3.11/dist-packages/sklearn/metrics/_classification.py:1565: UndefinedMetricWarning:\n",
            "\n",
            "Precision is ill-defined and being set to 0.0 in labels with no predicted samples. Use `zero_division` parameter to control this behavior.\n",
            "\n",
            "/usr/local/lib/python3.11/dist-packages/sklearn/metrics/_classification.py:1565: UndefinedMetricWarning:\n",
            "\n",
            "Precision is ill-defined and being set to 0.0 in labels with no predicted samples. Use `zero_division` parameter to control this behavior.\n",
            "\n",
            "/usr/local/lib/python3.11/dist-packages/sklearn/metrics/_classification.py:1565: UndefinedMetricWarning:\n",
            "\n",
            "Precision is ill-defined and being set to 0.0 in labels with no predicted samples. Use `zero_division` parameter to control this behavior.\n",
            "\n"
          ]
        },
        {
          "output_type": "display_data",
          "data": {
            "text/plain": [
              "<IPython.core.display.HTML object>"
            ],
            "text/html": [
              "\n",
              "    <div>\n",
              "      \n",
              "      <progress value='5' max='5' style='width:300px; height:20px; vertical-align: middle;'></progress>\n",
              "      [5/5 00:00]\n",
              "    </div>\n",
              "    "
            ]
          },
          "metadata": {}
        },
        {
          "output_type": "stream",
          "name": "stderr",
          "text": [
            "/usr/local/lib/python3.11/dist-packages/sklearn/metrics/_classification.py:1565: UndefinedMetricWarning:\n",
            "\n",
            "Precision is ill-defined and being set to 0.0 in labels with no predicted samples. Use `zero_division` parameter to control this behavior.\n",
            "\n",
            "/usr/local/lib/python3.11/dist-packages/transformers/training_args.py:1575: FutureWarning:\n",
            "\n",
            "`evaluation_strategy` is deprecated and will be removed in version 4.46 of 🤗 Transformers. Use `eval_strategy` instead\n",
            "\n"
          ]
        },
        {
          "output_type": "stream",
          "name": "stdout",
          "text": [
            "Fold 1 Results for bert-base-multilingual-cased: {'eval_loss': 1.5987812280654907, 'eval_accuracy': 0.40540540540540543, 'eval_f1': 0.2582207207207207, 'eval_precision': 0.20575304181861562, 'eval_recall': 0.40540540540540543, 'eval_runtime': 0.21, 'eval_samples_per_second': 352.358, 'eval_steps_per_second': 23.808, 'epoch': 3.0}\n",
            "\n",
            "Starting Fold 2 for bert-base-multilingual-cased\n"
          ]
        },
        {
          "output_type": "display_data",
          "data": {
            "text/plain": [
              "<IPython.core.display.HTML object>"
            ],
            "text/html": [
              "\n",
              "    <div>\n",
              "      \n",
              "      <progress value='57' max='57' style='width:300px; height:20px; vertical-align: middle;'></progress>\n",
              "      [57/57 00:31, Epoch 3/3]\n",
              "    </div>\n",
              "    <table border=\"1\" class=\"dataframe\">\n",
              "  <thead>\n",
              " <tr style=\"text-align: left;\">\n",
              "      <th>Epoch</th>\n",
              "      <th>Training Loss</th>\n",
              "      <th>Validation Loss</th>\n",
              "      <th>Accuracy</th>\n",
              "      <th>F1</th>\n",
              "      <th>Precision</th>\n",
              "      <th>Recall</th>\n",
              "    </tr>\n",
              "  </thead>\n",
              "  <tbody>\n",
              "    <tr>\n",
              "      <td>1</td>\n",
              "      <td>No log</td>\n",
              "      <td>1.659722</td>\n",
              "      <td>0.351351</td>\n",
              "      <td>0.250356</td>\n",
              "      <td>0.202505</td>\n",
              "      <td>0.351351</td>\n",
              "    </tr>\n",
              "    <tr>\n",
              "      <td>2</td>\n",
              "      <td>No log</td>\n",
              "      <td>1.754901</td>\n",
              "      <td>0.351351</td>\n",
              "      <td>0.254211</td>\n",
              "      <td>0.208151</td>\n",
              "      <td>0.351351</td>\n",
              "    </tr>\n",
              "    <tr>\n",
              "      <td>3</td>\n",
              "      <td>No log</td>\n",
              "      <td>1.728228</td>\n",
              "      <td>0.324324</td>\n",
              "      <td>0.226759</td>\n",
              "      <td>0.183840</td>\n",
              "      <td>0.324324</td>\n",
              "    </tr>\n",
              "  </tbody>\n",
              "</table><p>"
            ]
          },
          "metadata": {}
        },
        {
          "output_type": "stream",
          "name": "stderr",
          "text": [
            "/usr/local/lib/python3.11/dist-packages/sklearn/metrics/_classification.py:1565: UndefinedMetricWarning:\n",
            "\n",
            "Precision is ill-defined and being set to 0.0 in labels with no predicted samples. Use `zero_division` parameter to control this behavior.\n",
            "\n",
            "/usr/local/lib/python3.11/dist-packages/sklearn/metrics/_classification.py:1565: UndefinedMetricWarning:\n",
            "\n",
            "Precision is ill-defined and being set to 0.0 in labels with no predicted samples. Use `zero_division` parameter to control this behavior.\n",
            "\n",
            "/usr/local/lib/python3.11/dist-packages/sklearn/metrics/_classification.py:1565: UndefinedMetricWarning:\n",
            "\n",
            "Precision is ill-defined and being set to 0.0 in labels with no predicted samples. Use `zero_division` parameter to control this behavior.\n",
            "\n"
          ]
        },
        {
          "output_type": "display_data",
          "data": {
            "text/plain": [
              "<IPython.core.display.HTML object>"
            ],
            "text/html": [
              "\n",
              "    <div>\n",
              "      \n",
              "      <progress value='5' max='5' style='width:300px; height:20px; vertical-align: middle;'></progress>\n",
              "      [5/5 00:00]\n",
              "    </div>\n",
              "    "
            ]
          },
          "metadata": {}
        },
        {
          "output_type": "stream",
          "name": "stderr",
          "text": [
            "/usr/local/lib/python3.11/dist-packages/sklearn/metrics/_classification.py:1565: UndefinedMetricWarning:\n",
            "\n",
            "Precision is ill-defined and being set to 0.0 in labels with no predicted samples. Use `zero_division` parameter to control this behavior.\n",
            "\n",
            "/usr/local/lib/python3.11/dist-packages/transformers/training_args.py:1575: FutureWarning:\n",
            "\n",
            "`evaluation_strategy` is deprecated and will be removed in version 4.46 of 🤗 Transformers. Use `eval_strategy` instead\n",
            "\n"
          ]
        },
        {
          "output_type": "stream",
          "name": "stdout",
          "text": [
            "Fold 2 Results for bert-base-multilingual-cased: {'eval_loss': 1.6597224473953247, 'eval_accuracy': 0.35135135135135137, 'eval_f1': 0.25035611092582605, 'eval_precision': 0.20250534815752208, 'eval_recall': 0.35135135135135137, 'eval_runtime': 0.2836, 'eval_samples_per_second': 260.976, 'eval_steps_per_second': 17.634, 'epoch': 3.0}\n",
            "\n",
            "Starting Fold 3 for bert-base-multilingual-cased\n"
          ]
        },
        {
          "output_type": "display_data",
          "data": {
            "text/plain": [
              "<IPython.core.display.HTML object>"
            ],
            "text/html": [
              "\n",
              "    <div>\n",
              "      \n",
              "      <progress value='57' max='57' style='width:300px; height:20px; vertical-align: middle;'></progress>\n",
              "      [57/57 00:33, Epoch 3/3]\n",
              "    </div>\n",
              "    <table border=\"1\" class=\"dataframe\">\n",
              "  <thead>\n",
              " <tr style=\"text-align: left;\">\n",
              "      <th>Epoch</th>\n",
              "      <th>Training Loss</th>\n",
              "      <th>Validation Loss</th>\n",
              "      <th>Accuracy</th>\n",
              "      <th>F1</th>\n",
              "      <th>Precision</th>\n",
              "      <th>Recall</th>\n",
              "    </tr>\n",
              "  </thead>\n",
              "  <tbody>\n",
              "    <tr>\n",
              "      <td>1</td>\n",
              "      <td>No log</td>\n",
              "      <td>1.532570</td>\n",
              "      <td>0.459459</td>\n",
              "      <td>0.375405</td>\n",
              "      <td>0.456053</td>\n",
              "      <td>0.459459</td>\n",
              "    </tr>\n",
              "    <tr>\n",
              "      <td>2</td>\n",
              "      <td>No log</td>\n",
              "      <td>1.544921</td>\n",
              "      <td>0.445946</td>\n",
              "      <td>0.358423</td>\n",
              "      <td>0.347583</td>\n",
              "      <td>0.445946</td>\n",
              "    </tr>\n",
              "    <tr>\n",
              "      <td>3</td>\n",
              "      <td>No log</td>\n",
              "      <td>1.431475</td>\n",
              "      <td>0.513514</td>\n",
              "      <td>0.456071</td>\n",
              "      <td>0.436503</td>\n",
              "      <td>0.513514</td>\n",
              "    </tr>\n",
              "  </tbody>\n",
              "</table><p>"
            ]
          },
          "metadata": {}
        },
        {
          "output_type": "stream",
          "name": "stderr",
          "text": [
            "/usr/local/lib/python3.11/dist-packages/sklearn/metrics/_classification.py:1565: UndefinedMetricWarning:\n",
            "\n",
            "Precision is ill-defined and being set to 0.0 in labels with no predicted samples. Use `zero_division` parameter to control this behavior.\n",
            "\n",
            "/usr/local/lib/python3.11/dist-packages/sklearn/metrics/_classification.py:1565: UndefinedMetricWarning:\n",
            "\n",
            "Precision is ill-defined and being set to 0.0 in labels with no predicted samples. Use `zero_division` parameter to control this behavior.\n",
            "\n",
            "/usr/local/lib/python3.11/dist-packages/sklearn/metrics/_classification.py:1565: UndefinedMetricWarning:\n",
            "\n",
            "Precision is ill-defined and being set to 0.0 in labels with no predicted samples. Use `zero_division` parameter to control this behavior.\n",
            "\n"
          ]
        },
        {
          "output_type": "display_data",
          "data": {
            "text/plain": [
              "<IPython.core.display.HTML object>"
            ],
            "text/html": [
              "\n",
              "    <div>\n",
              "      \n",
              "      <progress value='5' max='5' style='width:300px; height:20px; vertical-align: middle;'></progress>\n",
              "      [5/5 00:00]\n",
              "    </div>\n",
              "    "
            ]
          },
          "metadata": {}
        },
        {
          "output_type": "stream",
          "name": "stderr",
          "text": [
            "/usr/local/lib/python3.11/dist-packages/sklearn/metrics/_classification.py:1565: UndefinedMetricWarning:\n",
            "\n",
            "Precision is ill-defined and being set to 0.0 in labels with no predicted samples. Use `zero_division` parameter to control this behavior.\n",
            "\n",
            "/usr/local/lib/python3.11/dist-packages/transformers/training_args.py:1575: FutureWarning:\n",
            "\n",
            "`evaluation_strategy` is deprecated and will be removed in version 4.46 of 🤗 Transformers. Use `eval_strategy` instead\n",
            "\n"
          ]
        },
        {
          "output_type": "stream",
          "name": "stdout",
          "text": [
            "Fold 3 Results for bert-base-multilingual-cased: {'eval_loss': 1.4314748048782349, 'eval_accuracy': 0.5135135135135135, 'eval_f1': 0.4560714652033438, 'eval_precision': 0.4365026865026865, 'eval_recall': 0.5135135135135135, 'eval_runtime': 0.248, 'eval_samples_per_second': 298.339, 'eval_steps_per_second': 20.158, 'epoch': 3.0}\n",
            "\n",
            "Starting Fold 4 for bert-base-multilingual-cased\n"
          ]
        },
        {
          "output_type": "display_data",
          "data": {
            "text/plain": [
              "<IPython.core.display.HTML object>"
            ],
            "text/html": [
              "\n",
              "    <div>\n",
              "      \n",
              "      <progress value='57' max='57' style='width:300px; height:20px; vertical-align: middle;'></progress>\n",
              "      [57/57 00:36, Epoch 3/3]\n",
              "    </div>\n",
              "    <table border=\"1\" class=\"dataframe\">\n",
              "  <thead>\n",
              " <tr style=\"text-align: left;\">\n",
              "      <th>Epoch</th>\n",
              "      <th>Training Loss</th>\n",
              "      <th>Validation Loss</th>\n",
              "      <th>Accuracy</th>\n",
              "      <th>F1</th>\n",
              "      <th>Precision</th>\n",
              "      <th>Recall</th>\n",
              "    </tr>\n",
              "  </thead>\n",
              "  <tbody>\n",
              "    <tr>\n",
              "      <td>1</td>\n",
              "      <td>No log</td>\n",
              "      <td>1.585442</td>\n",
              "      <td>0.472973</td>\n",
              "      <td>0.409037</td>\n",
              "      <td>0.394652</td>\n",
              "      <td>0.472973</td>\n",
              "    </tr>\n",
              "    <tr>\n",
              "      <td>2</td>\n",
              "      <td>No log</td>\n",
              "      <td>1.443434</td>\n",
              "      <td>0.418919</td>\n",
              "      <td>0.347301</td>\n",
              "      <td>0.352477</td>\n",
              "      <td>0.418919</td>\n",
              "    </tr>\n",
              "    <tr>\n",
              "      <td>3</td>\n",
              "      <td>No log</td>\n",
              "      <td>1.372185</td>\n",
              "      <td>0.513514</td>\n",
              "      <td>0.477856</td>\n",
              "      <td>0.517577</td>\n",
              "      <td>0.513514</td>\n",
              "    </tr>\n",
              "  </tbody>\n",
              "</table><p>"
            ]
          },
          "metadata": {}
        },
        {
          "output_type": "stream",
          "name": "stderr",
          "text": [
            "/usr/local/lib/python3.11/dist-packages/sklearn/metrics/_classification.py:1565: UndefinedMetricWarning:\n",
            "\n",
            "Precision is ill-defined and being set to 0.0 in labels with no predicted samples. Use `zero_division` parameter to control this behavior.\n",
            "\n",
            "/usr/local/lib/python3.11/dist-packages/sklearn/metrics/_classification.py:1565: UndefinedMetricWarning:\n",
            "\n",
            "Precision is ill-defined and being set to 0.0 in labels with no predicted samples. Use `zero_division` parameter to control this behavior.\n",
            "\n",
            "/usr/local/lib/python3.11/dist-packages/sklearn/metrics/_classification.py:1565: UndefinedMetricWarning:\n",
            "\n",
            "Precision is ill-defined and being set to 0.0 in labels with no predicted samples. Use `zero_division` parameter to control this behavior.\n",
            "\n"
          ]
        },
        {
          "output_type": "display_data",
          "data": {
            "text/plain": [
              "<IPython.core.display.HTML object>"
            ],
            "text/html": [
              "\n",
              "    <div>\n",
              "      \n",
              "      <progress value='5' max='5' style='width:300px; height:20px; vertical-align: middle;'></progress>\n",
              "      [5/5 00:00]\n",
              "    </div>\n",
              "    "
            ]
          },
          "metadata": {}
        },
        {
          "output_type": "stream",
          "name": "stderr",
          "text": [
            "/usr/local/lib/python3.11/dist-packages/sklearn/metrics/_classification.py:1565: UndefinedMetricWarning:\n",
            "\n",
            "Precision is ill-defined and being set to 0.0 in labels with no predicted samples. Use `zero_division` parameter to control this behavior.\n",
            "\n",
            "/usr/local/lib/python3.11/dist-packages/transformers/training_args.py:1575: FutureWarning:\n",
            "\n",
            "`evaluation_strategy` is deprecated and will be removed in version 4.46 of 🤗 Transformers. Use `eval_strategy` instead\n",
            "\n"
          ]
        },
        {
          "output_type": "stream",
          "name": "stdout",
          "text": [
            "Fold 4 Results for bert-base-multilingual-cased: {'eval_loss': 1.3721853494644165, 'eval_accuracy': 0.5135135135135135, 'eval_f1': 0.4778559206476826, 'eval_precision': 0.5175773599686643, 'eval_recall': 0.5135135135135135, 'eval_runtime': 0.2688, 'eval_samples_per_second': 275.303, 'eval_steps_per_second': 18.602, 'epoch': 3.0}\n",
            "\n",
            "Starting Fold 5 for bert-base-multilingual-cased\n"
          ]
        },
        {
          "output_type": "display_data",
          "data": {
            "text/plain": [
              "<IPython.core.display.HTML object>"
            ],
            "text/html": [
              "\n",
              "    <div>\n",
              "      \n",
              "      <progress value='57' max='57' style='width:300px; height:20px; vertical-align: middle;'></progress>\n",
              "      [57/57 00:33, Epoch 3/3]\n",
              "    </div>\n",
              "    <table border=\"1\" class=\"dataframe\">\n",
              "  <thead>\n",
              " <tr style=\"text-align: left;\">\n",
              "      <th>Epoch</th>\n",
              "      <th>Training Loss</th>\n",
              "      <th>Validation Loss</th>\n",
              "      <th>Accuracy</th>\n",
              "      <th>F1</th>\n",
              "      <th>Precision</th>\n",
              "      <th>Recall</th>\n",
              "    </tr>\n",
              "  </thead>\n",
              "  <tbody>\n",
              "    <tr>\n",
              "      <td>1</td>\n",
              "      <td>No log</td>\n",
              "      <td>1.191823</td>\n",
              "      <td>0.567568</td>\n",
              "      <td>0.505553</td>\n",
              "      <td>0.481086</td>\n",
              "      <td>0.567568</td>\n",
              "    </tr>\n",
              "    <tr>\n",
              "      <td>2</td>\n",
              "      <td>No log</td>\n",
              "      <td>1.179004</td>\n",
              "      <td>0.581081</td>\n",
              "      <td>0.536886</td>\n",
              "      <td>0.511486</td>\n",
              "      <td>0.581081</td>\n",
              "    </tr>\n",
              "    <tr>\n",
              "      <td>3</td>\n",
              "      <td>No log</td>\n",
              "      <td>1.218703</td>\n",
              "      <td>0.581081</td>\n",
              "      <td>0.537072</td>\n",
              "      <td>0.524089</td>\n",
              "      <td>0.581081</td>\n",
              "    </tr>\n",
              "  </tbody>\n",
              "</table><p>"
            ]
          },
          "metadata": {}
        },
        {
          "output_type": "stream",
          "name": "stderr",
          "text": [
            "/usr/local/lib/python3.11/dist-packages/sklearn/metrics/_classification.py:1565: UndefinedMetricWarning:\n",
            "\n",
            "Precision is ill-defined and being set to 0.0 in labels with no predicted samples. Use `zero_division` parameter to control this behavior.\n",
            "\n",
            "/usr/local/lib/python3.11/dist-packages/sklearn/metrics/_classification.py:1565: UndefinedMetricWarning:\n",
            "\n",
            "Precision is ill-defined and being set to 0.0 in labels with no predicted samples. Use `zero_division` parameter to control this behavior.\n",
            "\n",
            "/usr/local/lib/python3.11/dist-packages/sklearn/metrics/_classification.py:1565: UndefinedMetricWarning:\n",
            "\n",
            "Precision is ill-defined and being set to 0.0 in labels with no predicted samples. Use `zero_division` parameter to control this behavior.\n",
            "\n"
          ]
        },
        {
          "output_type": "display_data",
          "data": {
            "text/plain": [
              "<IPython.core.display.HTML object>"
            ],
            "text/html": [
              "\n",
              "    <div>\n",
              "      \n",
              "      <progress value='5' max='5' style='width:300px; height:20px; vertical-align: middle;'></progress>\n",
              "      [5/5 00:00]\n",
              "    </div>\n",
              "    "
            ]
          },
          "metadata": {}
        },
        {
          "output_type": "stream",
          "name": "stderr",
          "text": [
            "/usr/local/lib/python3.11/dist-packages/sklearn/metrics/_classification.py:1565: UndefinedMetricWarning:\n",
            "\n",
            "Precision is ill-defined and being set to 0.0 in labels with no predicted samples. Use `zero_division` parameter to control this behavior.\n",
            "\n"
          ]
        },
        {
          "output_type": "stream",
          "name": "stdout",
          "text": [
            "Fold 5 Results for bert-base-multilingual-cased: {'eval_loss': 1.179004192352295, 'eval_accuracy': 0.581081081081081, 'eval_f1': 0.5368855697803067, 'eval_precision': 0.5114864864864865, 'eval_recall': 0.581081081081081, 'eval_runtime': 0.2107, 'eval_samples_per_second': 351.177, 'eval_steps_per_second': 23.728, 'epoch': 3.0}\n",
            "\n",
            "Final Results Across Models:\n",
            "                       Model  Avg_Accuracy   Avg_F1  Avg_Precision  Avg_Recall\n",
            "bert-base-multilingual-cased      0.472973 0.395878       0.374765    0.472973\n"
          ]
        }
      ]
    },
    {
      "cell_type": "code",
      "source": [
        "from transformers import AutoTokenizer, AutoModelForSequenceClassification\n",
        "from transformers import Trainer\n",
        "import numpy as np\n",
        "from sklearn.metrics import classification_report\n",
        "\n",
        "# Load the saved model and tokenizer\n",
        "saved_model_path = \"./bert-base-multilingual-cased_combined-non-aug\"\n",
        "model = AutoModelForSequenceClassification.from_pretrained(saved_model_path)\n",
        "tokenizer = AutoTokenizer.from_pretrained(saved_model_path)\n",
        "\n",
        "# Reinitialize the Trainer with the loaded model\n",
        "trainer = Trainer(\n",
        "    model=model,\n",
        "    args=training_args,\n",
        "    eval_dataset=val_dataset,\n",
        "    tokenizer=tokenizer,\n",
        ")\n",
        "\n",
        "# Evaluate the model\n",
        "trainer.evaluate()\n",
        "\n",
        "# Make predictions\n",
        "predictions = trainer.predict(val_dataset)\n",
        "\n",
        "# Decode predicted labels\n",
        "predicted_labels = np.argmax(predictions.predictions, axis=1)\n",
        "\n",
        "from sklearn.metrics import classification_report\n",
        "import numpy as np\n",
        "\n",
        "# Decode predicted labels\n",
        "predictions = trainer.predict(val_dataset)\n",
        "predicted_labels = np.argmax(predictions.predictions, axis=1)\n",
        "\n",
        "# Debugging output\n",
        "print(\"Predicted classes:\", len(np.unique(predicted_labels)))\n",
        "print(\"Label Encoder classes:\", len(label_encoder.classes_))\n",
        "\n",
        "\n",
        "all_labels = list(range(len(label_encoder.classes_)))\n",
        "target_names = label_encoder.classes_\n",
        "\n",
        "# Print the classification report\n",
        "print(classification_report(\n",
        "    val_labels,\n",
        "    predicted_labels,\n",
        "    labels=all_labels,\n",
        "    target_names=target_names,\n",
        "    zero_division=0\n",
        "))"
      ],
      "metadata": {
        "colab": {
          "base_uri": "https://localhost:8080/",
          "height": 410
        },
        "id": "-sJHbdA7NBT1",
        "outputId": "6f2c02b5-c711-4918-86c3-71c56077b80f"
      },
      "execution_count": 28,
      "outputs": [
        {
          "output_type": "stream",
          "name": "stderr",
          "text": [
            "<ipython-input-28-b8dd40c23323>:12: FutureWarning:\n",
            "\n",
            "`tokenizer` is deprecated and will be removed in version 5.0.0 for `Trainer.__init__`. Use `processing_class` instead.\n",
            "\n"
          ]
        },
        {
          "output_type": "display_data",
          "data": {
            "text/plain": [
              "<IPython.core.display.HTML object>"
            ],
            "text/html": []
          },
          "metadata": {}
        },
        {
          "output_type": "display_data",
          "data": {
            "text/plain": [
              "<IPython.core.display.HTML object>"
            ],
            "text/html": []
          },
          "metadata": {}
        },
        {
          "output_type": "stream",
          "name": "stdout",
          "text": [
            "Predicted classes: 5\n",
            "Label Encoder classes: 9\n",
            "               precision    recall  f1-score   support\n",
            "\n",
            "  Compression       0.00      0.00      0.00         3\n",
            "  Explanation       0.60      0.67      0.63        18\n",
            "   Modulation       0.40      0.50      0.44         8\n",
            "     Omission       0.00      0.00      0.00         3\n",
            " Substitution       0.44      0.73      0.55        15\n",
            "     Synonymy       0.00      0.00      0.00         1\n",
            "    Syntactic       0.62      0.50      0.56        10\n",
            "Transcription       1.00      1.00      1.00        11\n",
            "Transposition       0.00      0.00      0.00         5\n",
            "\n",
            "     accuracy                           0.58        74\n",
            "    macro avg       0.34      0.38      0.35        74\n",
            " weighted avg       0.51      0.58      0.54        74\n",
            "\n"
          ]
        }
      ]
    }
  ]
}